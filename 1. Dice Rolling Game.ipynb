{
 "cells": [
  {
   "cell_type": "code",
   "execution_count": 5,
   "id": "e2e57a32-e5d5-4268-9f80-f362010c7cd6",
   "metadata": {},
   "outputs": [
    {
     "name": "stdin",
     "output_type": "stream",
     "text": [
      "Roll your Dice? (y/n):  Y\n"
     ]
    },
    {
     "name": "stdout",
     "output_type": "stream",
     "text": [
      "(2, 6)\n"
     ]
    },
    {
     "name": "stdin",
     "output_type": "stream",
     "text": [
      "Roll your Dice? (y/n):  y\n"
     ]
    },
    {
     "name": "stdout",
     "output_type": "stream",
     "text": [
      "(3, 3)\n"
     ]
    },
    {
     "name": "stdin",
     "output_type": "stream",
     "text": [
      "Roll your Dice? (y/n):  h\n"
     ]
    },
    {
     "name": "stdout",
     "output_type": "stream",
     "text": [
      "Invalid choice\n"
     ]
    },
    {
     "name": "stdin",
     "output_type": "stream",
     "text": [
      "Roll your Dice? (y/n):  n\n"
     ]
    },
    {
     "name": "stdout",
     "output_type": "stream",
     "text": [
      "Thanks for playing\n"
     ]
    }
   ],
   "source": [
    "import random\n",
    "\n",
    "while True:\n",
    "# Asking the question \"Roll the Dice?\"\n",
    "    response = input(\"Roll your Dice? (y/n): \").lower()\n",
    "    # If user enters y\n",
    "    if response == 'y': # Since everything from the \"response\" variable is a string\n",
    "        #Generate two random numbers    \n",
    "        die1 = random.randint(1,6)\n",
    "        die2 = random.randint(1,6)\n",
    "        # Print them\n",
    "        print(f'({die1}, {die2})')\n",
    "    # If user enters n\n",
    "    elif response == 'n':\n",
    "        # Print a thank you message \n",
    "        print(\"Thanks for playing\")\n",
    "        # Terminate the program(Meaning breaking out our infinite loop)\n",
    "        break\n",
    "    else:\n",
    "        # Print invalid choice\n",
    "        print(\"Invalid choice\")"
   ]
  },
  {
   "cell_type": "code",
   "execution_count": null,
   "id": "bf6dd22d-7ade-4184-97f6-8bedd4094048",
   "metadata": {},
   "outputs": [],
   "source": []
  }
 ],
 "metadata": {
  "kernelspec": {
   "display_name": "Python 3 (ipykernel)",
   "language": "python",
   "name": "python3"
  },
  "language_info": {
   "codemirror_mode": {
    "name": "ipython",
    "version": 3
   },
   "file_extension": ".py",
   "mimetype": "text/x-python",
   "name": "python",
   "nbconvert_exporter": "python",
   "pygments_lexer": "ipython3",
   "version": "3.12.4"
  }
 },
 "nbformat": 4,
 "nbformat_minor": 5
}
