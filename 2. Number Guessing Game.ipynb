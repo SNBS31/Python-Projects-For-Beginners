{
 "cells": [
  {
   "cell_type": "code",
   "execution_count": 3,
   "id": "e80155ca-2512-48bc-8daa-7a512d29f3d8",
   "metadata": {},
   "outputs": [
    {
     "name": "stdin",
     "output_type": "stream",
     "text": [
      "Guess the number between 1 and 100:  v\n"
     ]
    },
    {
     "name": "stdout",
     "output_type": "stream",
     "text": [
      "Please enter a valid number\n"
     ]
    },
    {
     "name": "stdin",
     "output_type": "stream",
     "text": [
      "Guess the number between 1 and 100:  d\n"
     ]
    },
    {
     "name": "stdout",
     "output_type": "stream",
     "text": [
      "Please enter a valid number\n"
     ]
    },
    {
     "name": "stdin",
     "output_type": "stream",
     "text": [
      "Guess the number between 1 and 100:  23\n"
     ]
    },
    {
     "name": "stdout",
     "output_type": "stream",
     "text": [
      "Too low!\n"
     ]
    },
    {
     "name": "stdin",
     "output_type": "stream",
     "text": [
      "Guess the number between 1 and 100:  50\n"
     ]
    },
    {
     "name": "stdout",
     "output_type": "stream",
     "text": [
      "Too low!\n"
     ]
    },
    {
     "name": "stdin",
     "output_type": "stream",
     "text": [
      "Guess the number between 1 and 100:  78\n"
     ]
    },
    {
     "name": "stdout",
     "output_type": "stream",
     "text": [
      "Too low!\n"
     ]
    },
    {
     "name": "stdin",
     "output_type": "stream",
     "text": [
      "Guess the number between 1 and 100:  89\n"
     ]
    },
    {
     "name": "stdout",
     "output_type": "stream",
     "text": [
      "Too high!\n"
     ]
    },
    {
     "name": "stdin",
     "output_type": "stream",
     "text": [
      "Guess the number between 1 and 100:  78\n"
     ]
    },
    {
     "name": "stdout",
     "output_type": "stream",
     "text": [
      "Too low!\n"
     ]
    },
    {
     "name": "stdin",
     "output_type": "stream",
     "text": [
      "Guess the number between 1 and 100:  85\n"
     ]
    },
    {
     "name": "stdout",
     "output_type": "stream",
     "text": [
      "Too low!\n"
     ]
    },
    {
     "name": "stdin",
     "output_type": "stream",
     "text": [
      "Guess the number between 1 and 100:  90\n"
     ]
    },
    {
     "name": "stdout",
     "output_type": "stream",
     "text": [
      "Too high!\n"
     ]
    },
    {
     "name": "stdin",
     "output_type": "stream",
     "text": [
      "Guess the number between 1 and 100:  89\n"
     ]
    },
    {
     "name": "stdout",
     "output_type": "stream",
     "text": [
      "Too high!\n"
     ]
    },
    {
     "name": "stdin",
     "output_type": "stream",
     "text": [
      "Guess the number between 1 and 100:  88\n"
     ]
    },
    {
     "name": "stdout",
     "output_type": "stream",
     "text": [
      "Too high!\n"
     ]
    },
    {
     "name": "stdin",
     "output_type": "stream",
     "text": [
      "Guess the number between 1 and 100:  87\n"
     ]
    },
    {
     "name": "stdout",
     "output_type": "stream",
     "text": [
      "Congratulations! You guessed the number.\n"
     ]
    }
   ],
   "source": [
    "# Generate a random number(We can't put this inside our below loop, since we want to generate the number but only once)\n",
    "import random\n",
    "\n",
    "number_to_guess = random.randint(1,100) # Choose a variable, which represents properly what you're trying to do\n",
    "# Loop\n",
    "while True: # As everything below should be in an infinite loop\n",
    "    # Ask the user now to make a guess   \n",
    "    # If not a valid number at all\n",
    "    #     Print an error\n",
    "    try:\n",
    "        guess = int(input(\"Guess the number between 1 and 100: \"))\n",
    "    \n",
    "        # If number(the one that I the user inputed) < guess\n",
    "        #     Print too low\n",
    "        if guess < number_to_guess:\n",
    "            print(\"Too low!\")\n",
    "        # If number > guess\n",
    "        #     Print too high  \n",
    "        elif guess > number_to_guess:\n",
    "            print(\"Too high!\")\n",
    "        # Else \n",
    "        #     Print well done    \n",
    "        else:\n",
    "            print(\"Congratulations! You guessed the number.\")\n",
    "            break # To finally break, from the infinite 'While' loop\n",
    "    except ValueError: # So as to 'remove', the 'value error' we'll get from printing, avoiding our program from crashing. \n",
    "        print(\"Please enter a valid number\") # To replace the ValueError that will opo up.\n",
    "    # print(guess)  # To se if our program, works till this point. This is a good baby step practice.\n"
   ]
  },
  {
   "cell_type": "code",
   "execution_count": null,
   "id": "0067f958-70b2-4f69-92f7-5768c742f49a",
   "metadata": {},
   "outputs": [],
   "source": []
  }
 ],
 "metadata": {
  "kernelspec": {
   "display_name": "Python 3 (ipykernel)",
   "language": "python",
   "name": "python3"
  },
  "language_info": {
   "codemirror_mode": {
    "name": "ipython",
    "version": 3
   },
   "file_extension": ".py",
   "mimetype": "text/x-python",
   "name": "python",
   "nbconvert_exporter": "python",
   "pygments_lexer": "ipython3",
   "version": "3.12.4"
  }
 },
 "nbformat": 4,
 "nbformat_minor": 5
}
