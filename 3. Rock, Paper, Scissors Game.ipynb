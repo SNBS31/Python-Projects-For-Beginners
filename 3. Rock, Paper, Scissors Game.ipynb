{
 "cells": [
  {
   "cell_type": "code",
   "execution_count": 13,
   "id": "da0d0353-a956-4ff0-8dd3-1ac31038b2f6",
   "metadata": {},
   "outputs": [
    {
     "name": "stdin",
     "output_type": "stream",
     "text": [
      "Rock, Paper or Scissors? (r/p/s):  r\n"
     ]
    },
    {
     "name": "stdout",
     "output_type": "stream",
     "text": [
      "You chose ⛰\n",
      "The computer chose ⛰\n",
      "Tie!\n"
     ]
    },
    {
     "name": "stdin",
     "output_type": "stream",
     "text": [
      "Continue? (y/n):  r\n",
      "Rock, Paper or Scissors? (r/p/s):  s\n"
     ]
    },
    {
     "name": "stdout",
     "output_type": "stream",
     "text": [
      "You chose ✂\n",
      "The computer chose ✂\n",
      "Tie!\n"
     ]
    },
    {
     "name": "stdin",
     "output_type": "stream",
     "text": [
      "Continue? (y/n):  n\n"
     ]
    }
   ],
   "source": [
    "import random\n",
    "\n",
    "# Declaring our emojis and valid choices, doing this in one paragrapg is good practice.\n",
    "emojis = {'r': '⛰', 'p': '📄', 's': '✂'}\n",
    "# We can use our tuple(not list) of valid choices, in which we'll check in there if our user's choice is there or not.\n",
    "# We chose tuple b/c, it's 'a read only list' regardless. One can't edit it at all!!\n",
    "choices = ('r', 'p', 's')\n",
    "\n",
    "# New crucial variable, hence skip to next line.\n",
    "# In order to later on be able to terminate our below program, we'll need the 'while' loop.\n",
    "while True: \n",
    "# Whatever within this loop, has to already be indented.    \n",
    "    choice_by_me = input(\"Rock, Paper or Scissors? (r/p/s): \").lower() # Since we're dealing but with text here\n",
    "    if choice_by_me not in choices: # A more elegant approach, overall. \n",
    "        print(f\"Invalid Choice!\")\n",
    "        continue # Meaning 'to jump back to the beginning of the while loop', avoiding continuing this particular loop which will lead to errors we can't address.\n",
    "        \n",
    "    # Now letting the computer to make it's own choice now, \n",
    "    computer_choice = random.choice(choices) # the 'choice' method, and not 'randint' method here since it's just better.\n",
    "    \n",
    "    # When about to print output, skip a line.\n",
    "    print(f\"You chose {emojis[choice_by_me]}\") # As formatted strings are way better to use than concentanation to print out variables.\n",
    "                                   # This is the only way we can print out the emojis as well.\n",
    "                                   # The '[]' is 'to look up the value associated, with the involved key'.\n",
    "    print(f\"The computer chose {emojis[computer_choice]}\")\n",
    "    \n",
    "    # Now defining the winner,\n",
    "    if choice_by_me == computer_choice:\n",
    "        print(\"Tie!\")\n",
    "    elif (\n",
    "        (choice_by_me == 'r' and computer_choice == 's') or \n",
    "        (choice_by_me == 's' and computer_choice == 'p') or \n",
    "        (choice_by_me == 'p' and computer_choice == 'r')):\n",
    "        print(\"You Win!\")\n",
    "    else:\n",
    "        print(\"You loose!\")\n",
    "    \n",
    "    # Finally. Asking the user if they want to continue or not,\n",
    "    should_continue = input(\"Continue? (y/n): \").lower() # Since the word 'continue' alone, is a keyword in Python.\n",
    "                                                         # Hence, it can't be used as a variable.\n",
    "    if should_continue == 'n':\n",
    "        break\n",
    "    # 'else continue' won't change anything here at all, BUT my program will regardless end but here! for now.\n",
    "     "
   ]
  },
  {
   "cell_type": "code",
   "execution_count": null,
   "id": "c275f7b1-a834-42c6-a582-914735cdd56a",
   "metadata": {},
   "outputs": [],
   "source": []
  }
 ],
 "metadata": {
  "kernelspec": {
   "display_name": "Python 3 (ipykernel)",
   "language": "python",
   "name": "python3"
  },
  "language_info": {
   "codemirror_mode": {
    "name": "ipython",
    "version": 3
   },
   "file_extension": ".py",
   "mimetype": "text/x-python",
   "name": "python",
   "nbconvert_exporter": "python",
   "pygments_lexer": "ipython3",
   "version": "3.12.4"
  }
 },
 "nbformat": 4,
 "nbformat_minor": 5
}
