{
 "cells": [
  {
   "cell_type": "code",
   "execution_count": 3,
   "id": "b1b91d4d-21c0-4311-b93d-5f6ef19d0aea",
   "metadata": {},
   "outputs": [
    {
     "name": "stdin",
     "output_type": "stream",
     "text": [
      "Rock, Paper or Scissors? (r/p/s):  2\n"
     ]
    },
    {
     "name": "stdout",
     "output_type": "stream",
     "text": [
      "You chose 📄\n",
      "The computer chose ✂\n",
      "You Lost!\n"
     ]
    },
    {
     "name": "stdin",
     "output_type": "stream",
     "text": [
      "Continue? (y,n):  n\n"
     ]
    }
   ],
   "source": [
    "import random\n",
    "\n",
    "# To avoid excessive typos later on, we can change our choices but only here now\n",
    "ROCK = '1'\n",
    "PAPER = '2'\n",
    "SCISSORS = '3'\n",
    "\n",
    "emojis = {ROCK: '⛰', PAPER: '📄', SCISSORS: '✂'}\n",
    "choices = tuple(emojis.keys()) # Such that I can be able to make changes with our inputs form whenever need be, without having to repeat myself.\n",
    "\n",
    "# Starting with my input, and potentially addressing any invalid input one can place into my program, we'll use the 'while' loop\n",
    "def get_my_choice(): # No arguments within the parenthesis here, since we'll return what we are to start using in our next upcoming functions.\n",
    "    while True:\n",
    "        choice_by_me = input(\"Rock, Paper or Scissors? (r/p/s): \").lower()\n",
    "        if choice_by_me in choices:\n",
    "            # We can 'return' our input here now, to be used later\n",
    "            return choice_by_me\n",
    "        else:                       # What ends our loop\n",
    "            print(\"Invalid Choice\") \n",
    "\n",
    "# Now displaying both choices,\n",
    "def display_choices(choice_by_me, computer_choice): # The computer's choice will be declared later on below, in our main loop we'll use to play our game.\n",
    "    print(f\"You chose {emojis[choice_by_me]}\") # As we have to as value here, 'my choice'(NEVER 'the choice options') that I returned from the first-above function.\n",
    "    print(f\"The computer chose {emojis[computer_choice]}\")\n",
    "\n",
    "# Now let's determine who wins this game, we have to figure out here when you 'draw', when you 'win' and 'when you 'lose'\n",
    "def determine_winner(choice_by_me, computer_choice):\n",
    "    if choice_by_me == computer_choice:\n",
    "        print(\"It's a tie!\")\n",
    "    elif (  \n",
    "        (choice_by_me == ROCK and computer_choice == SCISSORS) or\n",
    "        (choice_by_me == SCISSORS and computer_choice == PAPER) or\n",
    "        (choice_by_me == PAPER and computer_choice == ROCK)): \n",
    "        print(\"Congratulations! You Won!\")\n",
    "    else:\n",
    "        print(\"You Lost!\")\n",
    "\n",
    "# Now playing the game, we'll use the while loop + alongside figure out when we'll stop the game(break the loop).\n",
    "# Arguments wouldn't be needed, when defining this final function as they are all in place within the function.\n",
    "def play_game():\n",
    "    # Below now, is our main loop of this program.\n",
    "    while True:\n",
    "        # Since I'll need the 'choice_by_me' variable in my remaining functions,\n",
    "        choice_by_me = get_my_choice()\n",
    "\n",
    "        # Likewise the computer's choice will be asked later on.\n",
    "        computer_choice = random.choice(choices)\n",
    "        \n",
    "        display_choices(choice_by_me, computer_choice)\n",
    "        \n",
    "        determine_winner(choice_by_me, computer_choice)\n",
    "\n",
    "        should_continue = input(\"Continue? (y,n): \").lower()\n",
    "        if should_continue == 'n':\n",
    "            break\n",
    "\n",
    "# Finally, Let's play!\n",
    "play_game() # Since our above defined function didn't have any arguments."
   ]
  },
  {
   "cell_type": "code",
   "execution_count": null,
   "id": "ff042a1d-1cf0-4cb2-84a1-53771d1a204f",
   "metadata": {},
   "outputs": [],
   "source": []
  }
 ],
 "metadata": {
  "kernelspec": {
   "display_name": "Python 3 (ipykernel)",
   "language": "python",
   "name": "python3"
  },
  "language_info": {
   "codemirror_mode": {
    "name": "ipython",
    "version": 3
   },
   "file_extension": ".py",
   "mimetype": "text/x-python",
   "name": "python",
   "nbconvert_exporter": "python",
   "pygments_lexer": "ipython3",
   "version": "3.12.4"
  }
 },
 "nbformat": 4,
 "nbformat_minor": 5
}
