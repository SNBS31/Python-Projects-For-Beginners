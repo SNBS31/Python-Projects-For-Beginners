{
 "cells": [
  {
   "cell_type": "code",
   "execution_count": 1,
   "id": "2418f0ae-a53e-4baa-b3bc-146416f03413",
   "metadata": {},
   "outputs": [
    {
     "name": "stdout",
     "output_type": "stream",
     "text": [
      "Requirement already satisfied: qrcode in c:\\anaconda3\\lib\\site-packages (8.0)\n",
      "Requirement already satisfied: colorama in c:\\anaconda3\\lib\\site-packages (from qrcode) (0.4.6)\n",
      "Note: you may need to restart the kernel to use updated packages.\n"
     ]
    }
   ],
   "source": [
    "pip install qrcode"
   ]
  },
  {
   "cell_type": "code",
   "execution_count": 1,
   "id": "c774342f-fa19-4d35-8655-9fcf42448a66",
   "metadata": {},
   "outputs": [
    {
     "name": "stdin",
     "output_type": "stream",
     "text": [
      "Enter the text/URL:  https://www.udemy.com/course/complete-machine-learning-nlp-bootcamp-mlops-deployment/learn/quiz/6596129#overview \n",
      "Enter the filename:  qrcodeassignment.jpg\n"
     ]
    },
    {
     "name": "stdout",
     "output_type": "stream",
     "text": [
      "QR code saved as qrcodeassignment.jpg\n"
     ]
    }
   ],
   "source": [
    "import qrcode\n",
    "\n",
    "data = input('Enter the text/URL: ').strip() # The '.strip()' method helps to remove any whitespaces around our \n",
    "                                             # link, such that the link is still valid regardless.\n",
    "\n",
    "# Now for the getting of the filename,\n",
    "filename = input('Enter the filename: ').strip() # Meaning stripping any whitespaces as well, around the filename\n",
    "\n",
    "qr = qrcode.QRCode(box_size=10, border=4)\n",
    "qr.add_data(data)\n",
    "image = qr.make_image(fill_color='black', back_color='white')\n",
    "image.save(filename)\n",
    "print(f'QR code saved as {filename}')"
   ]
  },
  {
   "cell_type": "code",
   "execution_count": null,
   "id": "b20a3a61-5050-4da5-bd1a-0fabbeccaebb",
   "metadata": {},
   "outputs": [],
   "source": []
  }
 ],
 "metadata": {
  "kernelspec": {
   "display_name": "Python 3 (ipykernel)",
   "language": "python",
   "name": "python3"
  },
  "language_info": {
   "codemirror_mode": {
    "name": "ipython",
    "version": 3
   },
   "file_extension": ".py",
   "mimetype": "text/x-python",
   "name": "python",
   "nbconvert_exporter": "python",
   "pygments_lexer": "ipython3",
   "version": "3.12.4"
  }
 },
 "nbformat": 4,
 "nbformat_minor": 5
}
