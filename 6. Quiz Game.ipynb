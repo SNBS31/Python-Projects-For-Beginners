{
 "cells": [
  {
   "cell_type": "code",
   "execution_count": 19,
   "id": "dcd2d5dc-649e-4a09-a5e3-889190c9fcfa",
   "metadata": {},
   "outputs": [
    {
     "name": "stdout",
     "output_type": "stream",
     "text": [
      "Question 1: What is the capital of France?\n",
      "A. Berlin\n",
      "B. Madrid\n",
      "C. Paris\n",
      "D. Rome\n"
     ]
    },
    {
     "name": "stdin",
     "output_type": "stream",
     "text": [
      "Your answer:  d\n"
     ]
    },
    {
     "name": "stdout",
     "output_type": "stream",
     "text": [
      "Wrong! The correct answer is C\n",
      "Question 2: Which planet is known as the red planet?\n",
      "A. Earth\n",
      "B. Mars\n",
      "C. Jupiter\n",
      "D. Saturn\n"
     ]
    },
    {
     "name": "stdin",
     "output_type": "stream",
     "text": [
      "Your answer:  b\n"
     ]
    },
    {
     "name": "stdout",
     "output_type": "stream",
     "text": [
      "Correct!\n",
      "Question 3: What is the largest ocean on Earth?\n",
      "A. Atlantic\n",
      "B. Indian\n",
      "C. Arctic\n",
      "D. Pacific\n"
     ]
    },
    {
     "name": "stdin",
     "output_type": "stream",
     "text": [
      "Your answer:  d\n"
     ]
    },
    {
     "name": "stdout",
     "output_type": "stream",
     "text": [
      "Correct!\n",
      "Quiz over! Your final score is 2 out of 3\n"
     ]
    }
   ],
   "source": [
    "import random\n",
    "\n",
    "QUESTION = 'question'\n",
    "OPTIONS = 'options'\n",
    "ANSWER = 'answer'\n",
    "\n",
    "# Mapping out exactly what we're going to do, we're going to define out our 'question', 'options'\n",
    "# and the correct 'answer' section.\n",
    "quiz = [\n",
    "    {\n",
    "      QUESTION: 'What is the capital of France?',\n",
    "      OPTIONS: ['A. Berlin', 'B. Madrid', 'C. Paris', 'D. Rome'],\n",
    "      ANSWER: 'C'\n",
    "    },\n",
    "    {\n",
    "      QUESTION: 'Which planet is known as the red planet?',\n",
    "      OPTIONS: ['A. Earth', 'B. Mars', 'C. Jupiter', 'D. Saturn'],\n",
    "      ANSWER: 'B'\n",
    "    },\n",
    "    {\n",
    "      QUESTION: 'What is the largest ocean on Earth?',\n",
    "      OPTIONS: ['A. Atlantic', 'B. Indian', 'C. Arctic', 'D. Pacific'],\n",
    "      ANSWER: 'D'\n",
    "    }\n",
    "  ]  \n",
    "# We'll now have to shuffle our above questions. This is where the 'random' module comes into play\n",
    "# This is so as to randomize the items in our given data structure('list' in this case).\n",
    "random.shuffle(quiz)\n",
    "\n",
    "score = 0 # As the score has to first of all be initialized, outside the loop.\n",
    "\n",
    "# Now here within this segment of our 'loop', we print out the questions and all their options\n",
    "for index, item in enumerate(quiz, 1):\n",
    "#    Print the questions, in a chronological order. We'll need a formatted string here\n",
    "    print(f'Question {index}: {item[QUESTION]}')\n",
    "    # We'll need to now 'print their respective options as well'.\n",
    "    for option in item[OPTIONS]:\n",
    "        print(option)\n",
    "        \n",
    "#    Get user input\n",
    "    answer = input(\"Your answer: \").upper().strip() # Meaning we're converting whatever the user types \n",
    "                                                    # to uppercase. The strip() method is incase of\n",
    "                                                    # any accidental whitespacing.\n",
    "#   If input is correct\n",
    "    if answer == item[ANSWER]:    \n",
    "#       Print correct answer\n",
    "        print('Correct!')\n",
    "#       Increase score\n",
    "        score += 1\n",
    "#   Else\n",
    "    else:\n",
    "#       Print wrong answer\n",
    "        print(f'Wrong! The correct answer is {item[ANSWER]}')\n",
    "\n",
    "# Print the final score.\n",
    "print(f'Quiz over! Your final score is {score} out of {len(quiz)}')"
   ]
  }
 ],
 "metadata": {
  "kernelspec": {
   "display_name": "Python 3 (ipykernel)",
   "language": "python",
   "name": "python3"
  },
  "language_info": {
   "codemirror_mode": {
    "name": "ipython",
    "version": 3
   },
   "file_extension": ".py",
   "mimetype": "text/x-python",
   "name": "python",
   "nbconvert_exporter": "python",
   "pygments_lexer": "ipython3",
   "version": "3.12.4"
  }
 },
 "nbformat": 4,
 "nbformat_minor": 5
}
