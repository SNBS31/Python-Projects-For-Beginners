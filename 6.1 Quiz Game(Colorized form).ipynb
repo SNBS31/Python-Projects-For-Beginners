{
 "cells": [
  {
   "cell_type": "code",
   "execution_count": 1,
   "id": "ae70d590-5e29-4463-9875-65687249e5dc",
   "metadata": {},
   "outputs": [
    {
     "name": "stdout",
     "output_type": "stream",
     "text": [
      "Collecting termcolorNote: you may need to restart the kernel to use updated packages.\n",
      "\n",
      "  Downloading termcolor-2.5.0-py3-none-any.whl.metadata (6.1 kB)\n",
      "Downloading termcolor-2.5.0-py3-none-any.whl (7.8 kB)\n",
      "Installing collected packages: termcolor\n",
      "Successfully installed termcolor-2.5.0\n"
     ]
    }
   ],
   "source": [
    "pip install termcolor "
   ]
  },
  {
   "cell_type": "code",
   "execution_count": 3,
   "id": "3b584477-3f33-4efb-9dad-b3b82442c64d",
   "metadata": {},
   "outputs": [
    {
     "name": "stdout",
     "output_type": "stream",
     "text": [
      "Question 1: What is the capital of the United States?\n",
      "A. New Jesey\n",
      "B. Washington DC\n",
      "C. New York\n",
      "D. Dallas\n"
     ]
    },
    {
     "name": "stdin",
     "output_type": "stream",
     "text": [
      "Your Answer:  d\n"
     ]
    },
    {
     "name": "stdout",
     "output_type": "stream",
     "text": [
      "\u001b[31mSorry! Incorrect Answer. The answer supposed to have been B\u001b[0m\n",
      "Question 2: What is the capital of France?\n",
      "A. Toulouse\n",
      "B. Paris\n",
      "C. Yaounde\n",
      "D. Marseille\n"
     ]
    },
    {
     "name": "stdin",
     "output_type": "stream",
     "text": [
      "Your Answer:  b\n"
     ]
    },
    {
     "name": "stdout",
     "output_type": "stream",
     "text": [
      "\u001b[32mCorrect Answer\u001b[0m\n",
      "Question 3: What is the capital of Cameroon?\n",
      "A. Abuja\n",
      "B. Brazaville\n",
      "C. Yaounde\n",
      "D. Douala\n"
     ]
    },
    {
     "name": "stdin",
     "output_type": "stream",
     "text": [
      "Your Answer:  c\n"
     ]
    },
    {
     "name": "stdout",
     "output_type": "stream",
     "text": [
      "\u001b[32mCorrect Answer\u001b[0m\n",
      "Question 4: Which ocean is the largest ocean in the world?\n",
      "A. Pacific\n",
      "B. Indian\n",
      "C. Artic\n",
      "D. Artic\n"
     ]
    },
    {
     "name": "stdin",
     "output_type": "stream",
     "text": [
      "Your Answer:  d\n"
     ]
    },
    {
     "name": "stdout",
     "output_type": "stream",
     "text": [
      "\u001b[31mSorry! Incorrect Answer. The answer supposed to have been A\u001b[0m\n",
      "Your total score is 2 out of 4\n"
     ]
    }
   ],
   "source": [
    "import random\n",
    "from termcolor import cprint # Meaning we'll use but the cprint function, of our 'termcolor' modeule do colorize our text.\n",
    "\n",
    "# Now making sure that the 'questions', 'options' and 'answer' variables will be recognized as strings,\n",
    "QUESTION = 'question'\n",
    "OPTIONS = 'options'\n",
    "ANSWER = 'answer'\n",
    "\n",
    "# Now let's map out our questions, options and answer section, within the variable 'quiz' \n",
    "# having our list of dictionaries.\n",
    "quiz = [\n",
    "    { QUESTION: 'What is the capital of Cameroon?',\n",
    "      OPTIONS: ['A. Abuja', 'B. Brazaville', 'C. Yaounde', 'D. Douala'],\n",
    "      ANSWER: 'C'\n",
    "    },\n",
    "    { QUESTION: 'What is the capital of France?',\n",
    "      OPTIONS: ['A. Toulouse', 'B. Paris', 'C. Yaounde', 'D. Marseille'],\n",
    "      ANSWER: 'B'\n",
    "    },\n",
    "    { QUESTION: 'What is the capital of the United States?',\n",
    "      OPTIONS: ['A. New Jesey', 'B. Washington DC', 'C. New York', 'D. Dallas'],\n",
    "      ANSWER: 'B'\n",
    "    },\n",
    "    { QUESTION: 'Which ocean is the largest ocean in the world?',\n",
    "      OPTIONS: ['A. Pacific', 'B. Indian', 'C. Artic', 'D. Atlantic'],\n",
    "      ANSWER: 'A'\n",
    "    }\n",
    "]\n",
    "\n",
    "# Now doing what we have to do before our loop,\n",
    "random.shuffle(quiz)\n",
    "score = 0\n",
    "\n",
    "for index, item in enumerate(quiz, 1): # Meaning we should start the indexing but from 1,\n",
    "    print(f'Question {index}: {item[QUESTION]}')\n",
    "\n",
    "    for option in item[OPTIONS]:\n",
    "        print(option)\n",
    "\n",
    "    answer = input('Your Answer: ').upper().strip()\n",
    "\n",
    "    if answer == item[ANSWER]:\n",
    "        cprint(\"Correct Answer\", 'green')\n",
    "        score += 1\n",
    "    else:\n",
    "        cprint(f\"Sorry! Incorrect Answer. The answer supposed to have been {item[ANSWER]}\", 'red')\n",
    "\n",
    "print(f'Your total score is {score} out of {len(quiz)}')"
   ]
  },
  {
   "cell_type": "code",
   "execution_count": null,
   "id": "8e02c1dc-3551-42a3-8adb-4033b62fcbb7",
   "metadata": {},
   "outputs": [],
   "source": []
  }
 ],
 "metadata": {
  "kernelspec": {
   "display_name": "Python 3 (ipykernel)",
   "language": "python",
   "name": "python3"
  },
  "language_info": {
   "codemirror_mode": {
    "name": "ipython",
    "version": 3
   },
   "file_extension": ".py",
   "mimetype": "text/x-python",
   "name": "python",
   "nbconvert_exporter": "python",
   "pygments_lexer": "ipython3",
   "version": "3.12.4"
  }
 },
 "nbformat": 4,
 "nbformat_minor": 5
}
