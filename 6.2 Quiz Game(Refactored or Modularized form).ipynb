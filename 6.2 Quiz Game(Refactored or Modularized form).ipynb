{
 "cells": [
  {
   "cell_type": "code",
   "execution_count": 1,
   "id": "d5f9d9ce-701d-4b1f-922c-de3fe530892f",
   "metadata": {
    "colab": {
     "base_uri": "https://localhost:8080/"
    },
    "id": "d5f9d9ce-701d-4b1f-922c-de3fe530892f",
    "outputId": "7e94aafa-72ce-45ec-97fe-62522cfc1d9b"
   },
   "outputs": [
    {
     "name": "stdout",
     "output_type": "stream",
     "text": [
      "Requirement already satisfied: termcolor in c:\\anaconda3\\lib\\site-packages (2.5.0)\n",
      "Note: you may need to restart the kernel to use updated packages.\n"
     ]
    }
   ],
   "source": [
    "pip install termcolor"
   ]
  },
  {
   "cell_type": "code",
   "execution_count": 1,
   "id": "2b8f9c8e-da46-4d3c-90b8-c53ddcee07bd",
   "metadata": {
    "colab": {
     "base_uri": "https://localhost:8080/"
    },
    "id": "2b8f9c8e-da46-4d3c-90b8-c53ddcee07bd",
    "outputId": "91215aab-5a1c-499b-950a-57aba8fb23f6"
   },
   "outputs": [
    {
     "name": "stdout",
     "output_type": "stream",
     "text": [
      "Question 1: Which ocean is the largest ocean in the world?\n",
      "A. Pacific\n",
      "B. Indian\n",
      "C. Artic\n",
      "D. Atlantic\n"
     ]
    },
    {
     "name": "stdin",
     "output_type": "stream",
     "text": [
      "Your Answer:  a\n"
     ]
    },
    {
     "name": "stdout",
     "output_type": "stream",
     "text": [
      "\u001b[32mCorrect Answer\u001b[0m\n",
      "Question 2: What is the capital of France?\n",
      "A. Toulouse\n",
      "B. Paris\n",
      "C. Yaounde\n",
      "D. Marseille\n"
     ]
    },
    {
     "name": "stdin",
     "output_type": "stream",
     "text": [
      "Your Answer:  c\n"
     ]
    },
    {
     "name": "stdout",
     "output_type": "stream",
     "text": [
      "\u001b[31mSorry! Incorrect Answer. The answer supposed to have been B\u001b[0m\n",
      "Question 3: What is the capital of Cameroon?\n",
      "A. Abuja\n",
      "B. Brazaville\n",
      "C. Yaounde\n",
      "D. Douala\n"
     ]
    },
    {
     "name": "stdin",
     "output_type": "stream",
     "text": [
      "Your Answer:  c\n"
     ]
    },
    {
     "name": "stdout",
     "output_type": "stream",
     "text": [
      "\u001b[32mCorrect Answer\u001b[0m\n",
      "Question 4: What is the capital of the United States?\n",
      "A. New Jesey\n",
      "B. Washington DC\n",
      "C. New York\n",
      "D. Dallas\n"
     ]
    },
    {
     "name": "stdin",
     "output_type": "stream",
     "text": [
      "Your Answer:  b\n"
     ]
    },
    {
     "name": "stdout",
     "output_type": "stream",
     "text": [
      "\u001b[32mCorrect Answer\u001b[0m\n",
      "Your total score is 3 out of 4\n"
     ]
    }
   ],
   "source": [
    "import random\n",
    "from termcolor import cprint # Meaning we'll use but the cprint function, of our 'termcolor' modeule do colorize our text.\n",
    "\n",
    "# Now making sure that our keys 'questions', 'options' and 'answer' will be recognized as strings and non-problematic ones,\n",
    "QUESTION = 'question' # B/c if we use but the 'question' to be the key in our dictionary, it will\n",
    "                      # result to problems that cannnot be chased(e.g 'question ').\n",
    "OPTIONS = 'options'\n",
    "ANSWER = 'answer'\n",
    "\n",
    "\n",
    "# The asking of the question part\n",
    "def ask_question(index, question, options, quiz): # As these these parameters are what are been passed to the function, to be used when that function is called(i.e, they act as placeholders for values).\n",
    "                              # We must avoid using 'item'[QUESTION] as one of the parameters here, since people looking at our code for the first time\n",
    "                              # might not actually know the shape of it. This means that we''ll emphasize on the shape, but when we'll later call it.\n",
    "\n",
    "        print(f'Question {index}: {question}')\n",
    "        # Now alongside the options,\n",
    "        for option in options:\n",
    "            print(option)\n",
    "\n",
    "        return input('Your Answer: ').upper().strip() # As we're declaring here, but at the same time returning. This alone saves us from another line of code.\n",
    "                                                     # It's clear here that we're getting an answer.\n",
    "\n",
    "\n",
    "def run_quiz(quiz,):\n",
    "    # Now doing what we have to do before our loop,\n",
    "    random.shuffle(quiz)\n",
    "    score = 0\n",
    "\n",
    "    for index, item in enumerate(quiz, 1):\n",
    "        # Let's store that our answer we returned earlier, into a variable this time.\n",
    "        answer = ask_question(index, item[QUESTION], item[OPTIONS], quiz)\n",
    "        if answer == item[ANSWER]:\n",
    "            cprint(\"Correct Answer\", 'green')\n",
    "            score += 1\n",
    "        else:\n",
    "            cprint(f\"Sorry! Incorrect Answer. The answer supposed to have been {item[ANSWER]}\", 'red')\n",
    "\n",
    "    print(f'Your total score is {score} out of {len(quiz)}')\n",
    "\n",
    "\n",
    "def main():\n",
    "    # Now let's map out our questions, options and answer section, within the variable 'quiz'\n",
    "    # having our list of dictionaries.\n",
    "    quiz = [\n",
    "        { QUESTION: 'What is the capital of Cameroon?',\n",
    "          OPTIONS: ['A. Abuja', 'B. Brazaville', 'C. Yaounde', 'D. Douala'],\n",
    "          ANSWER: 'C'\n",
    "        },\n",
    "        { QUESTION: 'What is the capital of France?',\n",
    "          OPTIONS: ['A. Toulouse', 'B. Paris', 'C. Yaounde', 'D. Marseille'],\n",
    "          ANSWER: 'B'\n",
    "        },\n",
    "        { QUESTION: 'What is the capital of the United States?',\n",
    "          OPTIONS: ['A. New Jesey', 'B. Washington DC', 'C. New York', 'D. Dallas'],\n",
    "          ANSWER: 'B'\n",
    "        },\n",
    "        { QUESTION: 'Which ocean is the largest ocean in the world?',\n",
    "          OPTIONS: ['A. Pacific', 'B. Indian', 'C. Artic', 'D. Atlantic'],\n",
    "          ANSWER: 'A'\n",
    "        }\n",
    "    ]\n",
    "    run_quiz(quiz)\n",
    "\n",
    "if __name__ == '__main__':\n",
    "    main()"
   ]
  },
  {
   "cell_type": "code",
   "execution_count": null,
   "id": "d3dbcbd7-dae3-499e-8693-0b369c5e4d29",
   "metadata": {
    "id": "d3dbcbd7-dae3-499e-8693-0b369c5e4d29"
   },
   "outputs": [],
   "source": []
  }
 ],
 "metadata": {
  "accelerator": "GPU",
  "colab": {
   "gpuType": "T4",
   "provenance": []
  },
  "kernelspec": {
   "display_name": "Python 3 (ipykernel)",
   "language": "python",
   "name": "python3"
  },
  "language_info": {
   "codemirror_mode": {
    "name": "ipython",
    "version": 3
   },
   "file_extension": ".py",
   "mimetype": "text/x-python",
   "name": "python",
   "nbconvert_exporter": "python",
   "pygments_lexer": "ipython3",
   "version": "3.12.4"
  }
 },
 "nbformat": 4,
 "nbformat_minor": 5
}
