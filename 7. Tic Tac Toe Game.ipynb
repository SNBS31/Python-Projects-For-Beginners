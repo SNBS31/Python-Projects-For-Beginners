{
 "cells": [
  {
   "cell_type": "code",
   "execution_count": 3,
   "id": "05192398-8587-4299-8550-284434ce7ecd",
   "metadata": {
    "colab": {
     "base_uri": "https://localhost:8080/",
     "height": 738
    },
    "executionInfo": {
     "elapsed": 15628,
     "status": "error",
     "timestamp": 1735920340344,
     "user": {
      "displayName": "ABENEZER ALEMAYEHU",
      "userId": "17541984823199420064"
     },
     "user_tz": -180
    },
    "id": "05192398-8587-4299-8550-284434ce7ecd",
    "outputId": "3b452316-35e4-4665-e266-63a2d6375bcc"
   },
   "outputs": [
    {
     "name": "stdout",
     "output_type": "stream",
     "text": [
      "---+---+---\n",
      "   |   |  \n",
      "---+---+---\n",
      "   |   |  \n",
      "---+---+---\n",
      "   |   |  \n",
      "---+---+---\n",
      "Player X's turn\n"
     ]
    },
    {
     "name": "stdin",
     "output_type": "stream",
     "text": [
      "Enter row(0-2):  1\n",
      "Enter column(0-2):  1\n"
     ]
    },
    {
     "name": "stdout",
     "output_type": "stream",
     "text": [
      "---+---+---\n",
      "   |   |  \n",
      "---+---+---\n",
      "   | X |  \n",
      "---+---+---\n",
      "   |   |  \n",
      "---+---+---\n",
      "Player O's turn\n"
     ]
    },
    {
     "name": "stdin",
     "output_type": "stream",
     "text": [
      "Enter row(0-2):  0\n",
      "Enter column(0-2):  0\n"
     ]
    },
    {
     "name": "stdout",
     "output_type": "stream",
     "text": [
      "---+---+---\n",
      " O |   |  \n",
      "---+---+---\n",
      "   | X |  \n",
      "---+---+---\n",
      "   |   |  \n",
      "---+---+---\n",
      "Player X's turn\n"
     ]
    },
    {
     "name": "stdin",
     "output_type": "stream",
     "text": [
      "Enter row(0-2):  1\n",
      "Enter column(0-2):  2\n"
     ]
    },
    {
     "name": "stdout",
     "output_type": "stream",
     "text": [
      "---+---+---\n",
      " O |   |  \n",
      "---+---+---\n",
      "   | X | X\n",
      "---+---+---\n",
      "   |   |  \n",
      "---+---+---\n",
      "Player O's turn\n"
     ]
    },
    {
     "name": "stdin",
     "output_type": "stream",
     "text": [
      "Enter row(0-2):  1\n",
      "Enter column(0-2):  0\n"
     ]
    },
    {
     "name": "stdout",
     "output_type": "stream",
     "text": [
      "---+---+---\n",
      " O |   |  \n",
      "---+---+---\n",
      " O | X | X\n",
      "---+---+---\n",
      "   |   |  \n",
      "---+---+---\n",
      "Player X's turn\n"
     ]
    },
    {
     "name": "stdin",
     "output_type": "stream",
     "text": [
      "Enter row(0-2):  2\n",
      "Enter column(0-2):  0\n"
     ]
    },
    {
     "name": "stdout",
     "output_type": "stream",
     "text": [
      "---+---+---\n",
      " O |   |  \n",
      "---+---+---\n",
      " O | X | X\n",
      "---+---+---\n",
      " X |   |  \n",
      "---+---+---\n",
      "Player O's turn\n"
     ]
    },
    {
     "name": "stdin",
     "output_type": "stream",
     "text": [
      "Enter row(0-2):  0\n",
      "Enter column(0-2):  1\n"
     ]
    },
    {
     "name": "stdout",
     "output_type": "stream",
     "text": [
      "---+---+---\n",
      " O | O |  \n",
      "---+---+---\n",
      " O | X | X\n",
      "---+---+---\n",
      " X |   |  \n",
      "---+---+---\n",
      "Player X's turn\n"
     ]
    },
    {
     "name": "stdin",
     "output_type": "stream",
     "text": [
      "Enter row(0-2):  0\n",
      "Enter column(0-2):  2\n"
     ]
    },
    {
     "name": "stdout",
     "output_type": "stream",
     "text": [
      "---+---+---\n",
      " O | O | X\n",
      "---+---+---\n",
      " O | X | X\n",
      "---+---+---\n",
      " X |   |  \n",
      "---+---+---\n",
      "Player X wins!\n"
     ]
    }
   ],
   "source": [
    "# Declare the board, for the three rows and columns\n",
    "board = [\n",
    "    [' ',' ',' '],\n",
    "    [' ',' ',' '],\n",
    "    [' ',' ',' ']\n",
    "]\n",
    "\n",
    "# Print the board\n",
    "def print_board(board):\n",
    "    line = '---+---+---'\n",
    "    # Our first horizontal line\n",
    "    print(line)\n",
    "    for row in board:\n",
    "        # Making sure we align our cells whitespaces are been needed in between the marks, nextly followed by a vertical line in each mark\n",
    "        print(f' {row[0]} | {row[1]} | {row[2]}')\n",
    "        # Printing our second horizontal line now\n",
    "        print(line)\n",
    "\n",
    "# Check the winner now\n",
    "def check_winner(board):\n",
    "    # Check rows to see if there are 3 same marks are on the same line, with none of the cells empty\n",
    "    for row in board: # [' ', ' ', ' '] in which NO whitespace is used in our comparisions to determine the winner.\n",
    "        if row[0] == row[1] == row [2] != ' ': # Since a whitespace doesn't represent a winner.\n",
    "            return True\n",
    "    # Same thing to check columns now,\n",
    "    for column in range(3): # Returns a list, with three numbers i.e [0,1,2]. Those three column numbers are what we'll use below as our last ascending indexes, to address each column.\n",
    "        if board[0][column] == board[1][column] == board[2][column] != ' ':\n",
    "            return True\n",
    "    # Finally, we check the diagonals too\n",
    "    if board[0][0] == board[1][1] == board[2][2] != ' ' or \\\n",
    "        board[2][0] == board[1][1] == board[0][2] != ' ':\n",
    "        return True\n",
    "\n",
    "    return False\n",
    "\n",
    "# To avoid complexity we need a function on it's own, for the case if the board becomes full\n",
    "def board_full(board):\n",
    "    for row in board:\n",
    "        if ' ' in row:\n",
    "            return False\n",
    "\n",
    "    return True\n",
    "\n",
    "# Below now will be our main function of code.\n",
    "def main():\n",
    "    print_board(board)\n",
    "\n",
    "    # Now setting our Current player = 'X',\n",
    "    current_player = 'X'\n",
    "\n",
    "    # Loop\n",
    "    while True:\n",
    "        # Ask the current player for a move\n",
    "        print(f\"Player {current_player}'s turn\")\n",
    "        try: # We'll need to address the ValueError issue with this, causing the program to be unable to ask for the oponent's input. For we'll need later on the current player to be switched.\n",
    "          row = int(input(\"Enter row(0-2): \"))\n",
    "          column = int(input(\"Enter column(0-2): \"))\n",
    "          if not (0 <= row <= 2 and 0 <= column <= 2):\n",
    "              raise ValueError(\"Row and column must be between 0 and 2.\")\n",
    "        except ValueError as e:\n",
    "          print(e)\n",
    "          continue\n",
    "\n",
    "        # Store their mark(current player's mark) on the board now\n",
    "        if board[row][column] == ' ':\n",
    "            board[row][column] = current_player\n",
    "        else:\n",
    "            print('That spot has already been taken')\n",
    "            continue # Goes back, to the beginning of the while loop\n",
    "\n",
    "        # RePrint the updated board now\n",
    "        print_board(board)\n",
    "        # If we have a winner,\n",
    "        if check_winner(board):\n",
    "            # Print a message\n",
    "            print(f'Player {current_player} wins!')\n",
    "            # Break\n",
    "            break\n",
    "\n",
    "        if board_full(board):\n",
    "            # Print a message\n",
    "            print(f\"The board is full!\")\n",
    "            break\n",
    "\n",
    "        # Switch the current player now, within this same loop\n",
    "        current_player = 'O' if current_player == 'X' else 'X'\n",
    "\n",
    "if __name__ == \"__main__\":\n",
    "    main()"
   ]
  },
  {
   "cell_type": "code",
   "execution_count": null,
   "id": "b53300f5-555a-461b-8a30-f1314e64b9fb",
   "metadata": {},
   "outputs": [],
   "source": []
  }
 ],
 "metadata": {
  "accelerator": "GPU",
  "colab": {
   "gpuType": "T4",
   "provenance": [
    {
     "file_id": "1sKE0Jz4M3900S6HHSUubJyKN37RisFm5",
     "timestamp": 1735920618415
    }
   ]
  },
  "kernelspec": {
   "display_name": "Python 3 (ipykernel)",
   "language": "python",
   "name": "python3"
  },
  "language_info": {
   "codemirror_mode": {
    "name": "ipython",
    "version": 3
   },
   "file_extension": ".py",
   "mimetype": "text/x-python",
   "name": "python",
   "nbconvert_exporter": "python",
   "pygments_lexer": "ipython3",
   "version": "3.12.4"
  }
 },
 "nbformat": 4,
 "nbformat_minor": 5
}
