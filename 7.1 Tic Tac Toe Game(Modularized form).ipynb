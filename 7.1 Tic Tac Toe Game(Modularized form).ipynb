{
 "cells": [
  {
   "cell_type": "code",
   "execution_count": 5,
   "id": "b7ebfa67-d38e-4d4f-a95c-b69bbab3eb1a",
   "metadata": {},
   "outputs": [
    {
     "name": "stdout",
     "output_type": "stream",
     "text": [
      "---+---+---\n",
      " \u001b[32m \u001b[0m | \u001b[32m \u001b[0m | \u001b[32m \u001b[0m\n",
      "---+---+---\n",
      " \u001b[32m \u001b[0m | \u001b[32m \u001b[0m | \u001b[32m \u001b[0m\n",
      "---+---+---\n",
      " \u001b[32m \u001b[0m | \u001b[32m \u001b[0m | \u001b[32m \u001b[0m\n",
      "---+---+---\n",
      "Player X's turn\n"
     ]
    },
    {
     "name": "stdin",
     "output_type": "stream",
     "text": [
      "Enter row(0-2):  1\n",
      "Enter column(0-2):  1\n"
     ]
    },
    {
     "name": "stdout",
     "output_type": "stream",
     "text": [
      "---+---+---\n",
      " \u001b[32m \u001b[0m | \u001b[32m \u001b[0m | \u001b[32m \u001b[0m\n",
      "---+---+---\n",
      " \u001b[32m \u001b[0m | \u001b[31mX\u001b[0m | \u001b[32m \u001b[0m\n",
      "---+---+---\n",
      " \u001b[32m \u001b[0m | \u001b[32m \u001b[0m | \u001b[32m \u001b[0m\n",
      "---+---+---\n",
      "Player O's turn\n"
     ]
    },
    {
     "name": "stdin",
     "output_type": "stream",
     "text": [
      "Enter row(0-2):  0\n",
      "Enter column(0-2):  0\n"
     ]
    },
    {
     "name": "stdout",
     "output_type": "stream",
     "text": [
      "---+---+---\n",
      " \u001b[32mO\u001b[0m | \u001b[32m \u001b[0m | \u001b[32m \u001b[0m\n",
      "---+---+---\n",
      " \u001b[32m \u001b[0m | \u001b[31mX\u001b[0m | \u001b[32m \u001b[0m\n",
      "---+---+---\n",
      " \u001b[32m \u001b[0m | \u001b[32m \u001b[0m | \u001b[32m \u001b[0m\n",
      "---+---+---\n",
      "Player X's turn\n"
     ]
    },
    {
     "name": "stdin",
     "output_type": "stream",
     "text": [
      "Enter row(0-2):  1\n",
      "Enter column(0-2):  0\n"
     ]
    },
    {
     "name": "stdout",
     "output_type": "stream",
     "text": [
      "---+---+---\n",
      " \u001b[32mO\u001b[0m | \u001b[32m \u001b[0m | \u001b[32m \u001b[0m\n",
      "---+---+---\n",
      " \u001b[31mX\u001b[0m | \u001b[31mX\u001b[0m | \u001b[32m \u001b[0m\n",
      "---+---+---\n",
      " \u001b[32m \u001b[0m | \u001b[32m \u001b[0m | \u001b[32m \u001b[0m\n",
      "---+---+---\n",
      "Player O's turn\n"
     ]
    },
    {
     "name": "stdin",
     "output_type": "stream",
     "text": [
      "Enter row(0-2):  0\n",
      "Enter column(0-2):  1\n"
     ]
    },
    {
     "name": "stdout",
     "output_type": "stream",
     "text": [
      "---+---+---\n",
      " \u001b[32mO\u001b[0m | \u001b[32mO\u001b[0m | \u001b[32m \u001b[0m\n",
      "---+---+---\n",
      " \u001b[31mX\u001b[0m | \u001b[31mX\u001b[0m | \u001b[32m \u001b[0m\n",
      "---+---+---\n",
      " \u001b[32m \u001b[0m | \u001b[32m \u001b[0m | \u001b[32m \u001b[0m\n",
      "---+---+---\n",
      "Player X's turn\n"
     ]
    },
    {
     "name": "stdin",
     "output_type": "stream",
     "text": [
      "Enter row(0-2):  2\n",
      "Enter column(0-2):  2\n"
     ]
    },
    {
     "name": "stdout",
     "output_type": "stream",
     "text": [
      "---+---+---\n",
      " \u001b[32mO\u001b[0m | \u001b[32mO\u001b[0m | \u001b[32m \u001b[0m\n",
      "---+---+---\n",
      " \u001b[31mX\u001b[0m | \u001b[31mX\u001b[0m | \u001b[32m \u001b[0m\n",
      "---+---+---\n",
      " \u001b[32m \u001b[0m | \u001b[32m \u001b[0m | \u001b[31mX\u001b[0m\n",
      "---+---+---\n",
      "Player O's turn\n"
     ]
    },
    {
     "name": "stdin",
     "output_type": "stream",
     "text": [
      "Enter row(0-2):  0\n",
      "Enter column(0-2):  2\n"
     ]
    },
    {
     "name": "stdout",
     "output_type": "stream",
     "text": [
      "---+---+---\n",
      " \u001b[32mO\u001b[0m | \u001b[32mO\u001b[0m | \u001b[32mO\u001b[0m\n",
      "---+---+---\n",
      " \u001b[31mX\u001b[0m | \u001b[31mX\u001b[0m | \u001b[32m \u001b[0m\n",
      "---+---+---\n",
      " \u001b[32m \u001b[0m | \u001b[32m \u001b[0m | \u001b[31mX\u001b[0m\n",
      "---+---+---\n",
      "Player O wins!\n"
     ]
    }
   ],
   "source": [
    "from termcolor import colored\n",
    "\n",
    "# First of all addressing the potential problems that come with magic strings(i.e reduced readability and maintainability).\n",
    "# Hence, declare all constants in your code.\n",
    "X = 'X'\n",
    "O = 'O'\n",
    "\n",
    "# Declare the board, for the three rows and columns\n",
    "board = [\n",
    "    [' ',' ',' '],\n",
    "    [' ',' ',' '],\n",
    "    [' ',' ',' ']\n",
    "]\n",
    "\n",
    "# Our first function will be a helper function, that will help us add our colors on each representing mark/sign\n",
    "def add_color(mark):\n",
    "    if mark == X:\n",
    "        return colored(mark, 'red')    \n",
    "    return colored(mark, 'green') # Meaning else: return.....\n",
    "\n",
    "# Printing the board now, we'll add the color but here as shown\n",
    "def print_board(board):\n",
    "    line = '---+---+---'\n",
    "    # Our first horizontal line\n",
    "    print(line)\n",
    "    for row in board:\n",
    "        # Making sure we align our cells whitespaces are been needed in between the marks, nextly followed by a vertical line in each mark\n",
    "        print(f' {add_color(row[0])} | {add_color(row[1])} | {add_color(row[2])}')\n",
    "        # Printing our second horizontal line now\n",
    "        print(line)\n",
    "\n",
    "# Check the winner now\n",
    "def check_winner(board):\n",
    "    # Check rows to see if there are 3 same marks are on the same line, with none of the cells empty\n",
    "    for row in board: # [' ', ' ', ' '] in which NO whitespace is used in our comparisions to determine the winner.\n",
    "        if row[0] == row[1] == row [2] != ' ': # Since a whitespace doesn't represent a winner.\n",
    "            return True\n",
    "    # Same thing to check columns now,\n",
    "    for column in range(3): # Returns a list, with three numbers i.e [0,1,2]. Those three column numbers are what we'll use below as our last ascending indexes, to address each column.\n",
    "        if board[0][column] == board[1][column] == board[2][column] != ' ':\n",
    "            return True\n",
    "    # Finally, we check the diagonals too\n",
    "    if board[0][0] == board[1][1] == board[2][2] != ' ' or \\\n",
    "        board[2][0] == board[1][1] == board[0][2] != ' ':\n",
    "        return True\n",
    "\n",
    "    return False\n",
    "\n",
    "# To avoid complexity we need a function on it's own, for the case if the board becomes full\n",
    "def board_full(board):\n",
    "    for row in board:\n",
    "        if ' ' in row:\n",
    "            return False\n",
    "\n",
    "    return True\n",
    "\n",
    "# Now I want to create a different function, reading row and column values from 0-2 without any error, or potential breaking out of loop.\n",
    "# We want to as well give a more general name to represent both row and column(for now here). We'll use 'prompt'\n",
    "def get_position(prompt):\n",
    "    while True:\n",
    "        try: # We'll need to address the ValueError issue with this, causing the program to be unable to ask for the oponent's input. For we'll need later on the current player to be switched.\n",
    "            position = int(input(prompt))\n",
    "            if position < 0 or position > 2:\n",
    "              raise ValueError\n",
    "            return position    \n",
    "        except ValueError:\n",
    "            print('Invalid input!')\n",
    "\n",
    "def get_move(current_player):\n",
    "    # Ask the current player for a move\n",
    "    print(f\"Player {current_player}'s turn\")\n",
    "    while True:\n",
    "        row = get_position('Enter row(0-2): ')\n",
    "        column = get_position('Enter column(0-2): ')\n",
    "        # Store their mark(current player's mark) on the board now\n",
    "        if board[row][column] == ' ':\n",
    "            board[row][column] = current_player\n",
    "            break\n",
    "        \n",
    "        print('That spot has already been taken') # As even without writing the 'else', this is what will follow.\n",
    "            \n",
    "# Below now will be our main function of code.\n",
    "def main():\n",
    "    print_board(board)\n",
    "\n",
    "    # Now setting our Current player = X,\n",
    "    current_player = X\n",
    "    \n",
    "    # Loop\n",
    "    while True:\n",
    "        get_move(current_player)\n",
    "        # RePrint the updated board now\n",
    "        print_board(board)\n",
    "        # If we have a winner,\n",
    "        if check_winner(board):\n",
    "            # Print a message\n",
    "            print(f'Player {current_player} wins!')\n",
    "            # Break\n",
    "            break\n",
    "\n",
    "        if board_full(board):\n",
    "            # Print a message\n",
    "            print(f\"The board is full!\")\n",
    "            break\n",
    "\n",
    "        # Switch the current player now, within this same loop\n",
    "        current_player = 'O' if current_player == X else X\n",
    "\n",
    "if __name__ == \"__main__\":\n",
    "    main()"
   ]
  },
  {
   "cell_type": "code",
   "execution_count": null,
   "id": "4a410ba7-6bd9-44cb-96cd-5cb38b74c331",
   "metadata": {},
   "outputs": [],
   "source": []
  }
 ],
 "metadata": {
  "kernelspec": {
   "display_name": "Python 3 (ipykernel)",
   "language": "python",
   "name": "python3"
  },
  "language_info": {
   "codemirror_mode": {
    "name": "ipython",
    "version": 3
   },
   "file_extension": ".py",
   "mimetype": "text/x-python",
   "name": "python",
   "nbconvert_exporter": "python",
   "pygments_lexer": "ipython3",
   "version": "3.12.4"
  }
 },
 "nbformat": 4,
 "nbformat_minor": 5
}
