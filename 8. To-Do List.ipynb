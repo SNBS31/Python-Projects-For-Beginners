{
 "cells": [
  {
   "cell_type": "code",
   "execution_count": 15,
   "id": "97e762c9-c098-4a12-a8e5-11343315038f",
   "metadata": {},
   "outputs": [
    {
     "name": "stdout",
     "output_type": "stream",
     "text": [
      "\n",
      "Todo List Menu:\n",
      "1. View Tasks\n",
      "2. Add a Task\n",
      "3. Remove a Task\n",
      "4. Exit\n"
     ]
    },
    {
     "name": "stdin",
     "output_type": "stream",
     "text": [
      "Enter your choice:  1\n"
     ]
    },
    {
     "name": "stdout",
     "output_type": "stream",
     "text": [
      "Sorry! No tasks in the list\n",
      "\n",
      "Todo List Menu:\n",
      "1. View Tasks\n",
      "2. Add a Task\n",
      "3. Remove a Task\n",
      "4. Exit\n"
     ]
    },
    {
     "name": "stdin",
     "output_type": "stream",
     "text": [
      "Enter your choice:  2\n",
      "Enter a new task:  Task 1\n"
     ]
    },
    {
     "name": "stdout",
     "output_type": "stream",
     "text": [
      "\n",
      "Todo List Menu:\n",
      "1. View Tasks\n",
      "2. Add a Task\n",
      "3. Remove a Task\n",
      "4. Exit\n"
     ]
    },
    {
     "name": "stdin",
     "output_type": "stream",
     "text": [
      "Enter your choice:  1\n"
     ]
    },
    {
     "name": "stdout",
     "output_type": "stream",
     "text": [
      "1. Task 1\n",
      "\n",
      "Todo List Menu:\n",
      "1. View Tasks\n",
      "2. Add a Task\n",
      "3. Remove a Task\n",
      "4. Exit\n"
     ]
    },
    {
     "name": "stdin",
     "output_type": "stream",
     "text": [
      "Enter your choice:  4\n"
     ]
    }
   ],
   "source": [
    "# We'll use a different function up here, to print out the main menu as shown below\n",
    "def print_menu():   \n",
    "    print('\\nTodo List Menu:') # No need for the space here, after the ':', since we aren't asking for input here. We're just displaying\n",
    "                               # Plus the '\\n' here means we should start from a new line(for cleaner work display), b4 printing out the follx text.\n",
    "    print('1. View Tasks') \n",
    "    print('2. Add a Task')\n",
    "    print('3. Remove a Task')\n",
    "    print('4. Exit')\n",
    "\n",
    "# Just to verify and 'make sure' the user enters 'a valid choice', we'll use a \n",
    "# different function for it to initially define everything\n",
    "def get_choice_from_user():\n",
    "    # So as for the user to have the chance to retry, we'll use a loop\n",
    "    while True:\n",
    "        choice = input('Enter your choice: ')\n",
    "        valid_choices = ('1', '2', '3', '4') # Or this can be a list if you want.\n",
    "        if choice not in valid_choices: \n",
    "            print('Invalid Choice!')\n",
    "            continue # Meaning we can go back now, and try again.\n",
    "        else: \n",
    "            return choice\n",
    "\n",
    "def display_tasks(tasks):\n",
    "    # First of all. To check if there are no tasks in the list\n",
    "    if not tasks:#OR if len(tasks) == 0: \n",
    "        print('Sorry! No tasks in the list')    \n",
    "        return #Prints each task of the below now without requiring the 'else:' part\n",
    "    \n",
    "    for index, task in enumerate(tasks, start=1): # Meaning indexing ain't from 0 again.\n",
    "        print(f'{index}. {task}')\n",
    "\n",
    "def add_tasks(tasks):\n",
    "    while True: # To avoid any complications\n",
    "        # Asking the user, to enter the new task\n",
    "        task =input('Enter a new task: ').strip() # The strip() will ensure that, multiple whitespaces typed won't be considered as a vailid input.\n",
    "        if len(task) != 0: # To address the issue of a blank space/nothing been inputed to be a task. \n",
    "            tasks.append(task)\n",
    "            break\n",
    "        else: \n",
    "            print('Invalid Task!')\n",
    "\n",
    "def remove_tasks(tasks): \n",
    "    # We'll need to first of all display our tasks, so as to see what is associated to which\n",
    "    display_tasks(tasks) # Comes automatically now alongside their indexes(from 1) or task numbers.\n",
    "    while True: # As try....except should be in while loops, so as to give one opportunity to try again.\n",
    "        try: # Addressing the ValueError we'll have, in the case of inputing below a non-integer\n",
    "            task_number = int(input(\"Enter the task number you'll want to remove: \"))\n",
    "            if 1 <= task_number <= len(tasks): # Cuz it crucially depends on our number of initially added tasks.\n",
    "                # Remove the task number\n",
    "                tasks.pop(task_number - 1) # Since our index has been set to start but from 1 instead.\n",
    "                break # To finally leave our loop, after removing a valid task through the task_number, form our list of tasks. \n",
    "            else:\n",
    "                raise ValueError\n",
    "        except ValueError:\n",
    "            print('Invalid Task Number!')\n",
    "    \n",
    "def main():\n",
    "    # Loop # So as to be able to continually use the program, till we'll want to end it. This means all of these will be but in our main() function \n",
    "    # before any other thing.\n",
    "    tasks = [] # Our object\n",
    "    while True:\n",
    "        # Print the menu\n",
    "        print_menu() # Been printed out again and again, after every valid input for clarity.\n",
    "\n",
    "        choice = get_choice_from_user() # Guaranteed here now that we'll have in b/w 1 and and 4\n",
    "        # If choice == '1'\n",
    "        if choice == '1':\n",
    "            # Display tasks\n",
    "            display_tasks(tasks)\n",
    "        # Elif choice == '2'\n",
    "        elif choice == '2':\n",
    "            # Add a task\n",
    "            add_tasks(tasks)\n",
    "        # Elif choice == '3'\n",
    "        elif choice == '3':\n",
    "            # Remove a task\n",
    "            remove_tasks(tasks)\n",
    "        else: # Meaning for the case but of '4' within our tuple \n",
    "            break\n",
    "        \n",
    "                                                                           \n",
    "if __name__ == \"__main__\":\n",
    "    main()                                                                           "
   ]
  },
  {
   "cell_type": "code",
   "execution_count": null,
   "id": "ce1e41ba-fd7f-4a89-a4e4-7ca462fa4131",
   "metadata": {},
   "outputs": [],
   "source": []
  }
 ],
 "metadata": {
  "kernelspec": {
   "display_name": "Python 3 (ipykernel)",
   "language": "python",
   "name": "python3"
  },
  "language_info": {
   "codemirror_mode": {
    "name": "ipython",
    "version": 3
   },
   "file_extension": ".py",
   "mimetype": "text/x-python",
   "name": "python",
   "nbconvert_exporter": "python",
   "pygments_lexer": "ipython3",
   "version": "3.12.4"
  }
 },
 "nbformat": 4,
 "nbformat_minor": 5
}
