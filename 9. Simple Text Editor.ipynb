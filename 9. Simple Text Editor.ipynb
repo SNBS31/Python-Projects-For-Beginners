{
 "cells": [
  {
   "cell_type": "code",
   "execution_count": 31,
   "id": "592011c9-ba3a-48f1-bcb1-d375beaa029b",
   "metadata": {},
   "outputs": [
    {
     "name": "stdin",
     "output_type": "stream",
     "text": [
      "Enter the filename to open or create:  Mosco.txt\n"
     ]
    },
    {
     "name": "stdout",
     "output_type": "stream",
     "text": [
      "Hello World!\n",
      "This is my simple editor\n",
      "\n",
      "Enter your text (type SAVE on a new line when you're done, so as to exit):\n"
     ]
    },
    {
     "name": "stdin",
     "output_type": "stream",
     "text": [
      " Line 1 Line 2 Mosco 233 Hello World! This is my simple editor\n"
     ]
    },
    {
     "name": "stdout",
     "output_type": "stream",
     "text": [
      "Mosco.txt saved!\n"
     ]
    },
    {
     "name": "stdin",
     "output_type": "stream",
     "text": [
      " SAVE\n"
     ]
    }
   ],
   "source": [
    "# The below project, gets you farmiliar with working with files.\n",
    "import os\n",
    "\n",
    "def main():\n",
    "    # Ask the user for a filename. If it already exists, it should read at once what is inside it.\n",
    "    filename = input('Enter the filename to open or create: ').strip()\n",
    "    try: # First of all addressing the OSError\n",
    "        # 'Open' it for 'reading'\n",
    "        if os.path.exists(filename): # If the filename exists(we'll need the 'os' model for this)\n",
    "            with open(filename, 'r') as file:\n",
    "                content = file.read()\n",
    "                print(content)\n",
    "        else:\n",
    "            with open(filename, 'w') as file: # Start at once to write new stuff, into the newly created file.\n",
    "                pass # Since we can't have an empty with block\n",
    "    except OSError: # As this else statement is been needed now, to make our code work\n",
    "        print(f\"{filename} can't be opened.\")\n",
    "        return # Doing this from our main() function(), is what 'terminates our program'(i.e, not asking for any further input).\n",
    "\n",
    "    # Before the loop, print the below.\n",
    "    print( \"\\nEnter your text (type SAVE on a new line when you're done, so as to exit):\") # The '\\n', is to seperate this line of text from the rest of our output.\n",
    "    \n",
    "    content = []\n",
    "    # Loop, to help us write now into our file via the editor\n",
    "    while True:\n",
    "        # Get user input. It should be 'totally empty' as this is our editor.\n",
    "        # 'line' will be the variable we'll use to store this empty space the user will type into.\n",
    "        line = input()\n",
    "        # If input('line' variable) == 'SAVE'\n",
    "        if line == 'SAVE': # Where we'll stop the writing of stuff into our file.\n",
    "            # break\n",
    "            break # After writing this as the last line is when we terminate the program.\n",
    "        # else\n",
    "        content.append(line) # As we're adding 'everything' the user wrote in 'one go'.\n",
    "        # The BELOW block is what we'll be appending.\n",
    "        # Now write all the user input(the 'content') into the file now.\n",
    "        try: # To check and verify if each line we've typed, is been saved\n",
    "            with open(filename, 'w') as file:\n",
    "                file.write('\\n'.join(content)) # In which we can skip to next lines, and write inputs in each as we want.\n",
    "                print(f'{filename} saved!')\n",
    "        except OSError:\n",
    "            print(f\"{filename} couldn't be saved.\")\n",
    "            \n",
    "if __name__ == \"__main__\":\n",
    "  main()"
   ]
  }
 ],
 "metadata": {
  "kernelspec": {
   "display_name": "Python 3 (ipykernel)",
   "language": "python",
   "name": "python3"
  },
  "language_info": {
   "codemirror_mode": {
    "name": "ipython",
    "version": 3
   },
   "file_extension": ".py",
   "mimetype": "text/x-python",
   "name": "python",
   "nbconvert_exporter": "python",
   "pygments_lexer": "ipython3",
   "version": "3.12.4"
  }
 },
 "nbformat": 4,
 "nbformat_minor": 5
}
