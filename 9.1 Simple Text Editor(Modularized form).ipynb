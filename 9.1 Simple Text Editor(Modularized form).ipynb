{
 "cells": [
  {
   "cell_type": "code",
   "execution_count": 13,
   "id": "015f4954-50d2-44f8-90a1-13d4ed2f8522",
   "metadata": {},
   "outputs": [
    {
     "name": "stdin",
     "output_type": "stream",
     "text": [
      "Enter the filename to open or create:  FINAL.txt\n"
     ]
    },
    {
     "name": "stdout",
     "output_type": "stream",
     "text": [
      "Line a\n",
      "Line b\n",
      "Line c\n",
      "Line d \n",
      "\n",
      "Enter your text (type SAVE on a new line when you're done, so as to exit):\n"
     ]
    },
    {
     "name": "stdin",
     "output_type": "stream",
     "text": [
      " LINE 1+2\n",
      " SAVE\n"
     ]
    },
    {
     "name": "stdout",
     "output_type": "stream",
     "text": [
      "FINAL.txt saved!\n"
     ]
    }
   ],
   "source": [
    "# The below project, gets you farmiliar with working with files.\n",
    "import os\n",
    "\n",
    "def read_file(filename): \n",
    "    with open(filename, 'r') as file:\n",
    "        return file.read()\n",
    "\n",
    "def write_file(filename, content):\n",
    "    with open(filename, 'w') as file: # Start at once to write new stuff, into the newly created file.\n",
    "        file.write(content)\n",
    "\n",
    "def get_user_input():\n",
    "    # Before the loop, print the below.\n",
    "    print( \"\\nEnter your text (type SAVE on a new line when you're done, so as to exit):\") # The '\\n', is to seperate this line of text from the rest of our output.\n",
    "    \n",
    "    lines = []\n",
    "    # Loop, to help us write now into our file via the editor\n",
    "    while True:\n",
    "        # Get user input. It should be 'totally empty' as this is our editor.\n",
    "        # 'line' will be the variable we'll use to store this empty space the user will type into.\n",
    "        line = input() # A totally empty line we can write into.\n",
    "        # If input('line' variable) == 'SAVE'\n",
    "        if line == 'SAVE': # Where we'll stop the writing of stuff into our file.\n",
    "            # break\n",
    "            break # After writing this as the last line is when we terminate the program.\n",
    "        # else\n",
    "        lines.append(line) # As we're adding 'everything' the user wrote in 'one go'.\n",
    "\n",
    "    return '\\n'.join(lines) # Returning from first of all converting our final content as a 'string object', not the initial 'list of strings'.\n",
    "                              # It combines('join's) the lines, and returns the final result.\n",
    "\n",
    "def main():\n",
    "    # Ask the user for a filename. If it already exists, it should read at once what is inside it.\n",
    "    filename = input('Enter the filename to open or create: ').strip()\n",
    "    try: # First of all addressing the OSError\n",
    "        # 'Open' it for 'reading'\n",
    "        if os.path.exists(filename): # If the filename exists(we'll need the 'os' model for this)\n",
    "            print(read_file(filename))\n",
    "        else:\n",
    "            write_file(filename, '') # Meaning just opening a new file, without writing anything to it.\n",
    "   \n",
    "        \n",
    "        # The BELOW block is what we'll be appending.\n",
    "        # Now write all the user input(the 'content') into the file now.\n",
    "        content = get_user_input()\n",
    "        write_file(filename, content) # As the 'join'ing of lines, was initially done in the get_user_input() function. \n",
    "        print(f'{filename} saved!')\n",
    "    except OSError:\n",
    "        print(f\"{filename} couldn't be opened at all.\")\n",
    "            \n",
    "if __name__ == \"__main__\":\n",
    "  main()"
   ]
  },
  {
   "cell_type": "code",
   "execution_count": null,
   "id": "287609da-c947-46c4-98dd-638b371ba2ab",
   "metadata": {},
   "outputs": [],
   "source": []
  }
 ],
 "metadata": {
  "kernelspec": {
   "display_name": "Python 3 (ipykernel)",
   "language": "python",
   "name": "python3"
  },
  "language_info": {
   "codemirror_mode": {
    "name": "ipython",
    "version": 3
   },
   "file_extension": ".py",
   "mimetype": "text/x-python",
   "name": "python",
   "nbconvert_exporter": "python",
   "pygments_lexer": "ipython3",
   "version": "3.12.4"
  }
 },
 "nbformat": 4,
 "nbformat_minor": 5
}
