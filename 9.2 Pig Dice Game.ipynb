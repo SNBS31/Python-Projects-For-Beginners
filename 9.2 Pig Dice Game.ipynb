{
 "cells": [
  {
   "cell_type": "code",
   "execution_count": 1,
   "id": "280a5265-690e-4af5-9a41-121684beb0d8",
   "metadata": {},
   "outputs": [
    {
     "name": "stdout",
     "output_type": "stream",
     "text": [
      "Player Player1's turn: \n",
      "You rolled at 1\n",
      "\n",
      " You scored 0 points this turn\n",
      "Current scores: Player 1: 0, Player 2: 0\n",
      "Player Player2's turn: \n",
      "You rolled at 1\n",
      "\n",
      " You scored 0 points this turn\n",
      "Current scores: Player 1: 0, Player 2: 0\n",
      "Player Player1's turn: \n",
      "You rolled at 4\n"
     ]
    },
    {
     "name": "stdin",
     "output_type": "stream",
     "text": [
      "Roll again?(y/n): y\n"
     ]
    },
    {
     "name": "stdout",
     "output_type": "stream",
     "text": [
      "You rolled at 5\n"
     ]
    },
    {
     "name": "stdin",
     "output_type": "stream",
     "text": [
      "Roll again?(y/n): n\n"
     ]
    },
    {
     "name": "stdout",
     "output_type": "stream",
     "text": [
      "\n",
      " You scored 9 points this turn\n",
      "Current scores: Player 1: 9, Player 2: 0\n",
      "Player Player2's turn: \n",
      "You rolled at 5\n"
     ]
    },
    {
     "name": "stdin",
     "output_type": "stream",
     "text": [
      "Roll again?(y/n): n\n"
     ]
    },
    {
     "name": "stdout",
     "output_type": "stream",
     "text": [
      "\n",
      " You scored 5 points this turn\n",
      "Current scores: Player 1: 9, Player 2: 5\n",
      "Player Player1's turn: \n",
      "You rolled at 3\n"
     ]
    },
    {
     "name": "stdin",
     "output_type": "stream",
     "text": [
      "Roll again?(y/n): y\n"
     ]
    },
    {
     "name": "stdout",
     "output_type": "stream",
     "text": [
      "You rolled at 4\n"
     ]
    },
    {
     "name": "stdin",
     "output_type": "stream",
     "text": [
      "Roll again?(y/n): n\n"
     ]
    },
    {
     "name": "stdout",
     "output_type": "stream",
     "text": [
      "\n",
      " You scored 7 points this turn\n",
      "Current scores: Player 1: 16, Player 2: 5\n",
      "Player Player2's turn: \n",
      "You rolled at 1\n",
      "\n",
      " You scored 0 points this turn\n",
      "Current scores: Player 1: 16, Player 2: 5\n",
      "Player Player1's turn: \n",
      "You rolled at 5\n"
     ]
    },
    {
     "name": "stdin",
     "output_type": "stream",
     "text": [
      "Roll again?(y/n): y\n"
     ]
    },
    {
     "name": "stdout",
     "output_type": "stream",
     "text": [
      "You rolled at 6\n"
     ]
    },
    {
     "name": "stdin",
     "output_type": "stream",
     "text": [
      "Roll again?(y/n): n\n"
     ]
    },
    {
     "name": "stdout",
     "output_type": "stream",
     "text": [
      "\n",
      " You scored 11 points this turn\n",
      "Current scores: Player 1: 27, Player 2: 5\n",
      "Player Player2's turn: \n",
      "You rolled at 6\n"
     ]
    },
    {
     "name": "stdin",
     "output_type": "stream",
     "text": [
      "Roll again?(y/n): y\n"
     ]
    },
    {
     "name": "stdout",
     "output_type": "stream",
     "text": [
      "You rolled at 6\n"
     ]
    },
    {
     "name": "stdin",
     "output_type": "stream",
     "text": [
      "Roll again?(y/n): y\n"
     ]
    },
    {
     "name": "stdout",
     "output_type": "stream",
     "text": [
      "You rolled at 2\n"
     ]
    },
    {
     "name": "stdin",
     "output_type": "stream",
     "text": [
      "Roll again?(y/n): y\n"
     ]
    },
    {
     "name": "stdout",
     "output_type": "stream",
     "text": [
      "You rolled at 3\n"
     ]
    },
    {
     "name": "stdin",
     "output_type": "stream",
     "text": [
      "Roll again?(y/n): y\n"
     ]
    },
    {
     "name": "stdout",
     "output_type": "stream",
     "text": [
      "You rolled at 3\n"
     ]
    },
    {
     "name": "stdin",
     "output_type": "stream",
     "text": [
      "Roll again?(y/n): n\n"
     ]
    },
    {
     "name": "stdout",
     "output_type": "stream",
     "text": [
      "\n",
      " You scored 20 points this turn\n",
      "Current scores: Player 1: 27, Player 2: 25\n",
      "Player Player1's turn: \n",
      "You rolled at 4\n"
     ]
    },
    {
     "name": "stdin",
     "output_type": "stream",
     "text": [
      "Roll again?(y/n): y\n"
     ]
    },
    {
     "name": "stdout",
     "output_type": "stream",
     "text": [
      "You rolled at 3\n"
     ]
    },
    {
     "name": "stdin",
     "output_type": "stream",
     "text": [
      "Roll again?(y/n): y\n"
     ]
    },
    {
     "name": "stdout",
     "output_type": "stream",
     "text": [
      "You rolled at 6\n"
     ]
    },
    {
     "name": "stdin",
     "output_type": "stream",
     "text": [
      "Roll again?(y/n): n\n"
     ]
    },
    {
     "name": "stdout",
     "output_type": "stream",
     "text": [
      "\n",
      " You scored 13 points this turn\n",
      "Current scores: Player 1: 40, Player 2: 25\n",
      "Player Player2's turn: \n",
      "You rolled at 6\n"
     ]
    },
    {
     "name": "stdin",
     "output_type": "stream",
     "text": [
      "Roll again?(y/n): y\n"
     ]
    },
    {
     "name": "stdout",
     "output_type": "stream",
     "text": [
      "You rolled at 6\n"
     ]
    },
    {
     "name": "stdin",
     "output_type": "stream",
     "text": [
      "Roll again?(y/n): y\n"
     ]
    },
    {
     "name": "stdout",
     "output_type": "stream",
     "text": [
      "You rolled at 1\n",
      "\n",
      " You scored 0 points this turn\n",
      "Current scores: Player 1: 40, Player 2: 25\n",
      "Player Player1's turn: \n",
      "You rolled at 6\n"
     ]
    },
    {
     "name": "stdin",
     "output_type": "stream",
     "text": [
      "Roll again?(y/n): y\n"
     ]
    },
    {
     "name": "stdout",
     "output_type": "stream",
     "text": [
      "You rolled at 5\n"
     ]
    },
    {
     "name": "stdin",
     "output_type": "stream",
     "text": [
      "Roll again?(y/n): y\n"
     ]
    },
    {
     "name": "stdout",
     "output_type": "stream",
     "text": [
      "You rolled at 3\n"
     ]
    },
    {
     "name": "stdin",
     "output_type": "stream",
     "text": [
      "Roll again?(y/n): n\n"
     ]
    },
    {
     "name": "stdout",
     "output_type": "stream",
     "text": [
      "\n",
      " You scored 14 points this turn\n",
      "Current scores: Player 1: 54, Player 2: 25\n",
      "Player Player2's turn: \n",
      "You rolled at 4\n"
     ]
    },
    {
     "name": "stdin",
     "output_type": "stream",
     "text": [
      "Roll again?(y/n): y\n"
     ]
    },
    {
     "name": "stdout",
     "output_type": "stream",
     "text": [
      "You rolled at 2\n"
     ]
    },
    {
     "name": "stdin",
     "output_type": "stream",
     "text": [
      "Roll again?(y/n): y\n"
     ]
    },
    {
     "name": "stdout",
     "output_type": "stream",
     "text": [
      "You rolled at 4\n"
     ]
    },
    {
     "name": "stdin",
     "output_type": "stream",
     "text": [
      "Roll again?(y/n): y\n"
     ]
    },
    {
     "name": "stdout",
     "output_type": "stream",
     "text": [
      "You rolled at 1\n",
      "\n",
      " You scored 0 points this turn\n",
      "Current scores: Player 1: 54, Player 2: 25\n",
      "Player Player1's turn: \n",
      "You rolled at 2\n"
     ]
    },
    {
     "name": "stdin",
     "output_type": "stream",
     "text": [
      "Roll again?(y/n): y\n"
     ]
    },
    {
     "name": "stdout",
     "output_type": "stream",
     "text": [
      "You rolled at 3\n"
     ]
    },
    {
     "name": "stdin",
     "output_type": "stream",
     "text": [
      "Roll again?(y/n): y\n"
     ]
    },
    {
     "name": "stdout",
     "output_type": "stream",
     "text": [
      "You rolled at 6\n"
     ]
    },
    {
     "name": "stdin",
     "output_type": "stream",
     "text": [
      "Roll again?(y/n): y\n"
     ]
    },
    {
     "name": "stdout",
     "output_type": "stream",
     "text": [
      "You rolled at 2\n"
     ]
    },
    {
     "name": "stdin",
     "output_type": "stream",
     "text": [
      "Roll again?(y/n): n\n"
     ]
    },
    {
     "name": "stdout",
     "output_type": "stream",
     "text": [
      "\n",
      " You scored 13 points this turn\n",
      "Current scores: Player 1: 67, Player 2: 25\n",
      "Player Player2's turn: \n",
      "You rolled at 1\n",
      "\n",
      " You scored 0 points this turn\n",
      "Current scores: Player 1: 67, Player 2: 25\n",
      "Player Player1's turn: \n",
      "You rolled at 6\n"
     ]
    },
    {
     "name": "stdin",
     "output_type": "stream",
     "text": [
      "Roll again?(y/n): y\n"
     ]
    },
    {
     "name": "stdout",
     "output_type": "stream",
     "text": [
      "You rolled at 1\n",
      "\n",
      " You scored 0 points this turn\n",
      "Current scores: Player 1: 67, Player 2: 25\n",
      "Player Player2's turn: \n",
      "You rolled at 2\n"
     ]
    },
    {
     "name": "stdin",
     "output_type": "stream",
     "text": [
      "Roll again?(y/n): y\n"
     ]
    },
    {
     "name": "stdout",
     "output_type": "stream",
     "text": [
      "You rolled at 3\n"
     ]
    },
    {
     "name": "stdin",
     "output_type": "stream",
     "text": [
      "Roll again?(y/n): n\n"
     ]
    },
    {
     "name": "stdout",
     "output_type": "stream",
     "text": [
      "\n",
      " You scored 5 points this turn\n",
      "Current scores: Player 1: 67, Player 2: 30\n",
      "Player Player1's turn: \n",
      "You rolled at 5\n"
     ]
    },
    {
     "name": "stdin",
     "output_type": "stream",
     "text": [
      "Roll again?(y/n): y\n"
     ]
    },
    {
     "name": "stdout",
     "output_type": "stream",
     "text": [
      "You rolled at 5\n"
     ]
    },
    {
     "name": "stdin",
     "output_type": "stream",
     "text": [
      "Roll again?(y/n): y\n"
     ]
    },
    {
     "name": "stdout",
     "output_type": "stream",
     "text": [
      "You rolled at 5\n"
     ]
    },
    {
     "name": "stdin",
     "output_type": "stream",
     "text": [
      "Roll again?(y/n): y\n"
     ]
    },
    {
     "name": "stdout",
     "output_type": "stream",
     "text": [
      "You rolled at 5\n"
     ]
    },
    {
     "name": "stdin",
     "output_type": "stream",
     "text": [
      "Roll again?(y/n): y\n"
     ]
    },
    {
     "name": "stdout",
     "output_type": "stream",
     "text": [
      "You rolled at 2\n"
     ]
    },
    {
     "name": "stdin",
     "output_type": "stream",
     "text": [
      "Roll again?(y/n): n\n"
     ]
    },
    {
     "name": "stdout",
     "output_type": "stream",
     "text": [
      "\n",
      " You scored 22 points this turn\n",
      "Current scores: Player 1: 89, Player 2: 30\n",
      "Player Player2's turn: \n",
      "You rolled at 4\n"
     ]
    },
    {
     "name": "stdin",
     "output_type": "stream",
     "text": [
      "Roll again?(y/n): y\n"
     ]
    },
    {
     "name": "stdout",
     "output_type": "stream",
     "text": [
      "You rolled at 1\n",
      "\n",
      " You scored 0 points this turn\n",
      "Current scores: Player 1: 89, Player 2: 30\n",
      "Player Player1's turn: \n",
      "You rolled at 5\n"
     ]
    },
    {
     "name": "stdin",
     "output_type": "stream",
     "text": [
      "Roll again?(y/n): y\n"
     ]
    },
    {
     "name": "stdout",
     "output_type": "stream",
     "text": [
      "You rolled at 2\n"
     ]
    },
    {
     "name": "stdin",
     "output_type": "stream",
     "text": [
      "Roll again?(y/n): y\n"
     ]
    },
    {
     "name": "stdout",
     "output_type": "stream",
     "text": [
      "You rolled at 5\n"
     ]
    },
    {
     "name": "stdin",
     "output_type": "stream",
     "text": [
      "Roll again?(y/n): y\n"
     ]
    },
    {
     "name": "stdout",
     "output_type": "stream",
     "text": [
      "You rolled at 2\n"
     ]
    },
    {
     "name": "stdin",
     "output_type": "stream",
     "text": [
      "Roll again?(y/n): y\n"
     ]
    },
    {
     "name": "stdout",
     "output_type": "stream",
     "text": [
      "You rolled at 2\n"
     ]
    },
    {
     "name": "stdin",
     "output_type": "stream",
     "text": [
      "Roll again?(y/n): n\n"
     ]
    },
    {
     "name": "stdout",
     "output_type": "stream",
     "text": [
      "\n",
      " You scored 16 points this turn\n",
      "Current scores: Player 1: 105, Player 2: 30\n",
      "Player1 wins!\n"
     ]
    }
   ],
   "source": [
    "import random\n",
    "\n",
    "def roll_die():\n",
    "    return random.randint(1,6)\n",
    "\n",
    "def play_turn(name_of_player):\n",
    "    turn_score = 0\n",
    "\n",
    "    print(f\"\\nPlayer {name_of_player}'s turn: \")\n",
    "\n",
    "    while True: # So as to give the player the chance to roll a die as many times as they want.\n",
    "    # To roll a die, we have to 'generate' a number in between 1 and 6.    \n",
    "        roll = roll_die()\n",
    "        print(f'You rolled at {roll}') # NEVER forget the formatted string\n",
    "\n",
    "        if roll == 1:\n",
    "            return 0\n",
    "\n",
    "        turn_score += roll\n",
    "        proceed = input('Roll again?(y/n):').lower() # For 'lower' case,\n",
    "        if proceed != 'y':\n",
    "            return turn_score\n",
    "\n",
    "def main():\n",
    "    scores = [0, 0] # Keeping track the score for each player(We're dealing with two players here, Hence 'score1' and 'score2' here)\n",
    "    current_player = 0\n",
    "    \n",
    "    while True:\n",
    "        name_of_player = f'Player{current_player + 1}'\n",
    "        turn_score = play_turn(name_of_player)\n",
    "        # Now updating current player's score,\n",
    "        scores[current_player] += turn_score  # Adding the updated scores to the 'scores' section, of each of the two players.\n",
    "        \n",
    "        # Print some statistics now\n",
    "        print(f'\\n You scored {turn_score} points this turn')\n",
    "        print(f'Current scores: Player 1: {scores[0]}, Player 2: {scores[1]}')\n",
    "        \n",
    "        # Check if player 1 wins(i.e, if total_points >= 100)\n",
    "        if scores[current_player] >= 100:\n",
    "            print(f'{name_of_player} wins!')\n",
    "            break # Where, we terminate the game/program\n",
    "        \n",
    "        # Otherwise we swap players\n",
    "        current_player = 1 if current_player == 0 else 0    \n",
    "               \n",
    "if __name__ == \"__main__\":\n",
    "    main() # Calling out the main function"
   ]
  }
 ],
 "metadata": {
  "kernelspec": {
   "display_name": "Python 3 (ipykernel)",
   "language": "python",
   "name": "python3"
  },
  "language_info": {
   "codemirror_mode": {
    "name": "ipython",
    "version": 3
   },
   "file_extension": ".py",
   "mimetype": "text/x-python",
   "name": "python",
   "nbconvert_exporter": "python",
   "pygments_lexer": "ipython3",
   "version": "3.12.4"
  }
 },
 "nbformat": 4,
 "nbformat_minor": 5
}
