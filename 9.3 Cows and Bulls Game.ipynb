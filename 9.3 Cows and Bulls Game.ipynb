{
 "cells": [
  {
   "cell_type": "code",
   "execution_count": 18,
   "id": "caa97a11-bb35-427b-9807-4a3a74dddf84",
   "metadata": {},
   "outputs": [
    {
     "name": "stdin",
     "output_type": "stream",
     "text": [
      "Guess:  2345\n"
     ]
    },
    {
     "name": "stdout",
     "output_type": "stream",
     "text": [
      "2 cows , 1 bulls\n"
     ]
    },
    {
     "name": "stdin",
     "output_type": "stream",
     "text": [
      "Guess:  0345\n"
     ]
    },
    {
     "name": "stdout",
     "output_type": "stream",
     "text": [
      "1 cows , 1 bulls\n"
     ]
    },
    {
     "name": "stdin",
     "output_type": "stream",
     "text": [
      "Guess:  2045\n"
     ]
    },
    {
     "name": "stdout",
     "output_type": "stream",
     "text": [
      "2 cows , 0 bulls\n"
     ]
    },
    {
     "name": "stdin",
     "output_type": "stream",
     "text": [
      "Guess:  2305\n"
     ]
    },
    {
     "name": "stdout",
     "output_type": "stream",
     "text": [
      "1 cows , 1 bulls\n"
     ]
    },
    {
     "name": "stdin",
     "output_type": "stream",
     "text": [
      "Guess:  2340\n"
     ]
    },
    {
     "name": "stdout",
     "output_type": "stream",
     "text": [
      "2 cows , 1 bulls\n"
     ]
    },
    {
     "name": "stdin",
     "output_type": "stream",
     "text": [
      "Guess:  0324\n"
     ]
    },
    {
     "name": "stdout",
     "output_type": "stream",
     "text": [
      "2 cows , 1 bulls\n"
     ]
    },
    {
     "name": "stdin",
     "output_type": "stream",
     "text": [
      "Guess:  2312\n"
     ]
    },
    {
     "name": "stdout",
     "output_type": "stream",
     "text": [
      "Invalid Guess! Please enter a 4-digt number with unique digits.\n"
     ]
    },
    {
     "name": "stdin",
     "output_type": "stream",
     "text": [
      "Guess:  2378\n"
     ]
    },
    {
     "name": "stdout",
     "output_type": "stream",
     "text": [
      "2 cows , 1 bulls\n"
     ]
    },
    {
     "name": "stdin",
     "output_type": "stream",
     "text": [
      "Guess:  4312\n"
     ]
    },
    {
     "name": "stdout",
     "output_type": "stream",
     "text": [
      "0 cows , 3 bulls\n"
     ]
    },
    {
     "name": "stdin",
     "output_type": "stream",
     "text": [
      "Guess:  4362\n"
     ]
    },
    {
     "name": "stdout",
     "output_type": "stream",
     "text": [
      "0 cows , 3 bulls\n"
     ]
    },
    {
     "name": "stdin",
     "output_type": "stream",
     "text": [
      "Guess:  4392\n"
     ]
    },
    {
     "name": "stdout",
     "output_type": "stream",
     "text": [
      "0 cows , 3 bulls\n"
     ]
    },
    {
     "name": "stdin",
     "output_type": "stream",
     "text": [
      "Guess:  4312\n"
     ]
    },
    {
     "name": "stdout",
     "output_type": "stream",
     "text": [
      "0 cows , 3 bulls\n"
     ]
    },
    {
     "name": "stdin",
     "output_type": "stream",
     "text": [
      "Guess:  4352\n"
     ]
    },
    {
     "name": "stdout",
     "output_type": "stream",
     "text": [
      "0 cows , 3 bulls\n"
     ]
    },
    {
     "name": "stdin",
     "output_type": "stream",
     "text": [
      "Guess:  4362\n"
     ]
    },
    {
     "name": "stdout",
     "output_type": "stream",
     "text": [
      "0 cows , 3 bulls\n"
     ]
    },
    {
     "name": "stdin",
     "output_type": "stream",
     "text": [
      "Guess:  4372\n"
     ]
    },
    {
     "name": "stdout",
     "output_type": "stream",
     "text": [
      "0 cows , 3 bulls\n"
     ]
    },
    {
     "name": "stdin",
     "output_type": "stream",
     "text": [
      "Guess:  4382\n"
     ]
    },
    {
     "name": "stdout",
     "output_type": "stream",
     "text": [
      "0 cows , 4 bulls\n",
      "Congratulations! You guessed the correct number\n"
     ]
    }
   ],
   "source": [
    "import random\n",
    "\n",
    "def generate_secret_number():\n",
    "    digits = [0,1,2,3,4,5,6,7,8,9] \n",
    "    random.shuffle(digits)\n",
    "    secret_number = '' # Where we'll store our required now(from below) list of unique digits\n",
    "    for digit in digits[:4]: \n",
    "        secret_number += str(digit) # The range of all possible '4-digit'-'unique' numbers we want now\n",
    "    return secret_number\n",
    "\n",
    "def calculate_cows_and_bulls(secret_number, guess):\n",
    "    cows = 0\n",
    "    bulls = 0\n",
    "\n",
    "    for i in range(4): # To help us access each character, in the given indices in our above 2 paramters of this function. i.e, each position\n",
    "        if guess[i] == secret_number[i]: # Checking if our input has the same 'position', compared to the secret_number\n",
    "            bulls += 1\n",
    "        elif guess[i] in secret_number: # If any of the correct characters are within OUR 4-DIGIT 'secret_number'.\n",
    "            cows += 1\n",
    "\n",
    "    return cows, bulls # Comes out as a tuple, of two elements.\n",
    "    \n",
    "def main():\n",
    "    secret_number = generate_secret_number()\n",
    "    # Loop, till the user gets that secret_number\n",
    "    while True:\n",
    "        guess = input('Guess: ')\n",
    "        if len(guess) == 4 and guess.isdigit() and len(set(guess)) == 4:\n",
    "            cows, bulls = calculate_cows_and_bulls(secret_number, guess) # Unpacking now\n",
    "            print(f'{cows} cows , {bulls} bulls')\n",
    "        \n",
    "            if bulls == 4:\n",
    "                print('Congratulations! You guessed the correct number')\n",
    "                break\n",
    "        else:\n",
    "            print('Invalid Guess! Please enter a 4-digt number with unique digits.')\n",
    "            # Jumping back now to the beginning of the loop. We don't need 'continue' here to do that.\n",
    "\n",
    "if __name__ == \"__main__\":\n",
    "    main()"
   ]
  },
  {
   "cell_type": "code",
   "execution_count": null,
   "id": "0cae71be-7943-43e2-9a0f-ef54e97dc582",
   "metadata": {},
   "outputs": [],
   "source": []
  }
 ],
 "metadata": {
  "kernelspec": {
   "display_name": "Python 3 (ipykernel)",
   "language": "python",
   "name": "python3"
  },
  "language_info": {
   "codemirror_mode": {
    "name": "ipython",
    "version": 3
   },
   "file_extension": ".py",
   "mimetype": "text/x-python",
   "name": "python",
   "nbconvert_exporter": "python",
   "pygments_lexer": "ipython3",
   "version": "3.12.4"
  }
 },
 "nbformat": 4,
 "nbformat_minor": 5
}
