{
 "cells": [
  {
   "cell_type": "code",
   "execution_count": 1,
   "id": "1e813b65-9222-4625-828d-a4333b9db9de",
   "metadata": {},
   "outputs": [
    {
     "name": "stdin",
     "output_type": "stream",
     "text": [
      "Guess:  4568\n"
     ]
    },
    {
     "name": "stdout",
     "output_type": "stream",
     "text": [
      "1 cows , 1 bulls\n"
     ]
    },
    {
     "name": "stdin",
     "output_type": "stream",
     "text": [
      "Guess:  0568\n"
     ]
    },
    {
     "name": "stdout",
     "output_type": "stream",
     "text": [
      "1 cows , 0 bulls\n"
     ]
    },
    {
     "name": "stdin",
     "output_type": "stream",
     "text": [
      "Guess:  4068\n"
     ]
    },
    {
     "name": "stdout",
     "output_type": "stream",
     "text": [
      "1 cows , 1 bulls\n"
     ]
    },
    {
     "name": "stdin",
     "output_type": "stream",
     "text": [
      "Guess:  4508\n"
     ]
    },
    {
     "name": "stdout",
     "output_type": "stream",
     "text": [
      "1 cows , 1 bulls\n"
     ]
    },
    {
     "name": "stdin",
     "output_type": "stream",
     "text": [
      "Guess:  4560\n"
     ]
    },
    {
     "name": "stdout",
     "output_type": "stream",
     "text": [
      "0 cows , 1 bulls\n"
     ]
    },
    {
     "name": "stdin",
     "output_type": "stream",
     "text": [
      "Guess:  1237\n"
     ]
    },
    {
     "name": "stdout",
     "output_type": "stream",
     "text": [
      "1 cows , 0 bulls\n"
     ]
    },
    {
     "name": "stdin",
     "output_type": "stream",
     "text": [
      "Guess:  0237\n"
     ]
    },
    {
     "name": "stdout",
     "output_type": "stream",
     "text": [
      "1 cows , 0 bulls\n"
     ]
    },
    {
     "name": "stdin",
     "output_type": "stream",
     "text": [
      "Guess:  1037\n"
     ]
    },
    {
     "name": "stdout",
     "output_type": "stream",
     "text": [
      "0 cows , 0 bulls\n"
     ]
    },
    {
     "name": "stdin",
     "output_type": "stream",
     "text": [
      "Guess:  9037\n"
     ]
    },
    {
     "name": "stdout",
     "output_type": "stream",
     "text": [
      "1 cows , 0 bulls\n"
     ]
    },
    {
     "name": "stdin",
     "output_type": "stream",
     "text": [
      "Guess:  4829\n"
     ]
    },
    {
     "name": "stdout",
     "output_type": "stream",
     "text": [
      "0 cows , 4 bulls\n",
      "Congratulations! You guessed the correct number\n"
     ]
    }
   ],
   "source": [
    "import random\n",
    "\n",
    "def generate_secret_number():\n",
    "    digits = list(range(10)) # Ensure, that this is a list by all means\n",
    "    random.shuffle(digits)\n",
    "    return ''.join([str(digit) for digit in digits[:4]]) # Application of List Comprehension here\n",
    "\n",
    "def calculate_cows_and_bulls(secret_number, guess):\n",
    "    bulls = sum([1 for i in range(4) if guess[i] == secret_number[i]])\n",
    "    cows = sum([1 for i in range(4) if guess[i] in secret_number]) - bulls\n",
    "    return cows, bulls # Comes out as a tuple, of two elements.\n",
    "    \n",
    "def main():\n",
    "    secret_number = generate_secret_number()\n",
    "    # Loop, till the user gets that secret_number\n",
    "    while True:\n",
    "        guess = input('Guess: ')\n",
    "        if len(guess) == 4 and guess.isdigit() and len(set(guess)) == 4:\n",
    "            cows, bulls = calculate_cows_and_bulls(secret_number, guess) # Unpacking now\n",
    "            print(f'{cows} cows , {bulls} bulls')\n",
    "        \n",
    "            if bulls == 4:\n",
    "                print('Congratulations! You guessed the correct number')\n",
    "                break\n",
    "        else:\n",
    "            print('Invalid Guess! Please enter a 4-digt number with unique digits.')\n",
    "            # Jumping back now to the beginning of the loop. We don't need 'continue' here to do that.\n",
    "\n",
    "if __name__ == \"__main__\":\n",
    "    main()"
   ]
  },
  {
   "cell_type": "code",
   "execution_count": null,
   "id": "daac6b19-6f79-4d59-a4b0-5e93098572b2",
   "metadata": {},
   "outputs": [],
   "source": []
  }
 ],
 "metadata": {
  "kernelspec": {
   "display_name": "Python 3 (ipykernel)",
   "language": "python",
   "name": "python3"
  },
  "language_info": {
   "codemirror_mode": {
    "name": "ipython",
    "version": 3
   },
   "file_extension": ".py",
   "mimetype": "text/x-python",
   "name": "python",
   "nbconvert_exporter": "python",
   "pygments_lexer": "ipython3",
   "version": "3.12.4"
  }
 },
 "nbformat": 4,
 "nbformat_minor": 5
}
