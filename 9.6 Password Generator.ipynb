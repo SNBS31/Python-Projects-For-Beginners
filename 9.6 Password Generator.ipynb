{
 "cells": [
  {
   "cell_type": "code",
   "execution_count": null,
   "id": "8970a91f-2984-48bc-a1b1-ac5a9a6975e4",
   "metadata": {},
   "outputs": [
    {
     "name": "stdin",
     "output_type": "stream",
     "text": [
      "Enter Password length:  8\n",
      "Include uppercase letters?(y/n):  y\n",
      "Include number?(y/n):  y\n",
      "Include special characters?(y/n):  y\n"
     ]
    },
    {
     "name": "stdout",
     "output_type": "stream",
     "text": [
      "/m7`m+;f\n"
     ]
    },
    {
     "name": "stdin",
     "output_type": "stream",
     "text": [
      "Enter Password length:  8\n",
      "Include uppercase letters?(y/n):  y\n",
      "Include number?(y/n):  y\n",
      "Include special characters?(y/n):  y\n"
     ]
    },
    {
     "name": "stdout",
     "output_type": "stream",
     "text": [
      "-]#BeUyq\n"
     ]
    }
   ],
   "source": [
    "import string\n",
    "import random\n",
    "\n",
    "def generate_password(length, include_uppercase, include_numbers, include_special_char):\n",
    "    characters = string.ascii_lowercase\n",
    "    if include_uppercase:\n",
    "        characters += string.ascii_uppercase\n",
    "    if include_numbers: \n",
    "        characters += string.digits\n",
    "    if include_special_char:\n",
    "        characters += string.punctuation\n",
    "    \n",
    "    password = ''\n",
    "    for _ in range(length):\n",
    "        password += random.choice(characters) # So as to make it possible to have more than one character.\n",
    "        \n",
    "    return password\n",
    "    \n",
    "def main():\n",
    "    while True:\n",
    "        length = int(input('Enter Password length: '))\n",
    "        include_uppercase = input('Include uppercase letters?(y/n): ').lower() == 'y' # A boolean, which includes 'True' or 'False'\n",
    "        include_numbers = input('Include numbers?(y/n): ').lower() == 'y'\n",
    "        include_special_char = input('Include special characters?(y/n): ').lower() == 'y'\n",
    "\n",
    "        password = generate_password(length, include_uppercase, include_numbers, include_special_char)\n",
    "        print(password) # Then print the generated password, on the terminal\n",
    "\n",
    "\n",
    "if __name__ == \"__main__\":\n",
    "    main()"
   ]
  },
  {
   "cell_type": "code",
   "execution_count": null,
   "id": "bee138dc-0d19-4922-a60f-9138033e0f0b",
   "metadata": {},
   "outputs": [],
   "source": []
  }
 ],
 "metadata": {
  "kernelspec": {
   "display_name": "Python 3 (ipykernel)",
   "language": "python",
   "name": "python3"
  },
  "language_info": {
   "codemirror_mode": {
    "name": "ipython",
    "version": 3
   },
   "file_extension": ".py",
   "mimetype": "text/x-python",
   "name": "python",
   "nbconvert_exporter": "python",
   "pygments_lexer": "ipython3",
   "version": "3.12.4"
  }
 },
 "nbformat": 4,
 "nbformat_minor": 5
}
