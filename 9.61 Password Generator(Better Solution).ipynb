{
 "cells": [
  {
   "cell_type": "code",
   "execution_count": null,
   "id": "d27d87f3-a191-4cab-a5a7-750360b58c13",
   "metadata": {},
   "outputs": [
    {
     "name": "stdin",
     "output_type": "stream",
     "text": [
      "Enter Password length:  2\n",
      "Include uppercase letters?(y/n):  y\n",
      "Include numbers?(y/n):  y\n",
      "Include special characters?(y/n):  y\n"
     ]
    },
    {
     "name": "stdout",
     "output_type": "stream",
     "text": [
      "Password length is too short, to proceed with\n"
     ]
    },
    {
     "name": "stdin",
     "output_type": "stream",
     "text": [
      "Enter Password length:  8\n",
      "Include uppercase letters?(y/n):  y\n",
      "Include numbers?(y/n):  y\n",
      "Include special characters?(y/n):  y\n"
     ]
    },
    {
     "name": "stdout",
     "output_type": "stream",
     "text": [
      "\\^t;D1+O\n"
     ]
    },
    {
     "name": "stdin",
     "output_type": "stream",
     "text": [
      "Enter Password length:  8\n",
      "Include uppercase letters?(y/n):  n\n",
      "Include numbers?(y/n):  y\n",
      "Include special characters?(y/n):  y\n"
     ]
    },
    {
     "name": "stdout",
     "output_type": "stream",
     "text": [
      "3`_9[$[;\n"
     ]
    }
   ],
   "source": [
    "import string\n",
    "import random\n",
    "\n",
    "def generate_password(length, include_uppercase, include_numbers, include_special_char):\n",
    "    # First of all, we need to ensure that the length is large enough to accomodate uppercase,numbers and special characters.\n",
    "    if length < (include_uppercase + include_numbers + include_special_char): # (i.e 3 maximum here),\n",
    "        raise ValueError('Password length is too short, to proceed with') # But this alone, doesn't enhance user experience.\n",
    "                                                                          # Hence, we'll need try....except in our main() to\n",
    "                                                                          # cover this up.\n",
    "    password = ''\n",
    "    if include_uppercase:\n",
    "        password += random.choice(string.ascii_uppercase)\n",
    "    if include_numbers: \n",
    "        password += random.choice(string.digits)\n",
    "    if include_special_char:\n",
    "        password += random.choice(string.punctuation)\n",
    "    # The above block of code will now guarantee that the generated password, will be what we initially agreed on.\n",
    "        \n",
    "    # We're to fill the remaining length now, with any allowed characters.\n",
    "    characters = string.ascii_lowercase\n",
    "    if include_uppercase:\n",
    "        characters += string.ascii_uppercase\n",
    "    if include_numbers: \n",
    "        characters += string.digits\n",
    "    if include_special_char:\n",
    "        characters += string.punctuation\n",
    "\n",
    "    # What fills the remaining length now, after any three of the above conditions being initially met.\n",
    "    for _ in range(length - len(password)):\n",
    "        password += random.choice(characters)\n",
    "\n",
    "    # But we need to avoid the chronological order of our generated password starting with uppercase, and so on.\n",
    "    password_list = list(password)\n",
    "    random.shuffle(password_list)\n",
    "\n",
    "    # Finally 'combining' our elements from the above list, and 'returning' them\n",
    "    return ''.join(password_list)\n",
    "    \n",
    "def main():\n",
    "    while True:\n",
    "        length = int(input('Enter Password length: '))\n",
    "        include_uppercase = input('Include uppercase letters?(y/n): ').lower() == 'y' # A boolean, which includes 'True' or 'False'\n",
    "        include_numbers = input('Include numbers?(y/n): ').lower() == 'y'\n",
    "        include_special_char = input('Include special characters?(y/n): ').lower() == 'y'\n",
    "        try:\n",
    "            password = generate_password(length, include_uppercase, include_numbers, include_special_char)\n",
    "            print(password) # Then print the generated password, on the terminal\n",
    "        except ValueError as e:\n",
    "            print(e) # Meaning, Print the error\n",
    "\n",
    "if __name__ == \"__main__\":\n",
    "    main()"
   ]
  },
  {
   "cell_type": "code",
   "execution_count": null,
   "id": "b7fddfdd-a777-45da-9864-40fab46e8cf4",
   "metadata": {},
   "outputs": [],
   "source": []
  }
 ],
 "metadata": {
  "kernelspec": {
   "display_name": "Python 3 (ipykernel)",
   "language": "python",
   "name": "python3"
  },
  "language_info": {
   "codemirror_mode": {
    "name": "ipython",
    "version": 3
   },
   "file_extension": ".py",
   "mimetype": "text/x-python",
   "name": "python",
   "nbconvert_exporter": "python",
   "pygments_lexer": "ipython3",
   "version": "3.12.4"
  }
 },
 "nbformat": 4,
 "nbformat_minor": 5
}
