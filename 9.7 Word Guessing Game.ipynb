{
 "cells": [
  {
   "cell_type": "code",
   "execution_count": 15,
   "id": "14d66c0a-2743-489f-a041-706983da83fb",
   "metadata": {},
   "outputs": [
    {
     "name": "stdout",
     "output_type": "stream",
     "text": [
      "elephant\n",
      "________\n"
     ]
    },
    {
     "name": "stdin",
     "output_type": "stream",
     "text": [
      "Enter a letter:  p\n"
     ]
    },
    {
     "name": "stdout",
     "output_type": "stream",
     "text": [
      "Good guess\n",
      "___p____\n"
     ]
    },
    {
     "name": "stdin",
     "output_type": "stream",
     "text": [
      "Enter a letter:  q\n"
     ]
    },
    {
     "name": "stdout",
     "output_type": "stream",
     "text": [
      "Wrong guess\n",
      "___p____\n"
     ]
    },
    {
     "name": "stdin",
     "output_type": "stream",
     "text": [
      "Enter a letter:  k\n"
     ]
    },
    {
     "name": "stdout",
     "output_type": "stream",
     "text": [
      "Wrong guess\n",
      "___p____\n"
     ]
    },
    {
     "name": "stdin",
     "output_type": "stream",
     "text": [
      "Enter a letter:  r\n"
     ]
    },
    {
     "name": "stdout",
     "output_type": "stream",
     "text": [
      "Wrong guess\n",
      "___p____\n"
     ]
    },
    {
     "name": "stdin",
     "output_type": "stream",
     "text": [
      "Enter a letter:  m\n"
     ]
    },
    {
     "name": "stdout",
     "output_type": "stream",
     "text": [
      "Wrong guess\n",
      "___p____\n"
     ]
    },
    {
     "name": "stdin",
     "output_type": "stream",
     "text": [
      "Enter a letter:  w\n"
     ]
    },
    {
     "name": "stdout",
     "output_type": "stream",
     "text": [
      "Wrong guess\n",
      "___p____\n"
     ]
    },
    {
     "name": "stdin",
     "output_type": "stream",
     "text": [
      "Enter a letter:  z\n"
     ]
    },
    {
     "name": "stdout",
     "output_type": "stream",
     "text": [
      "Wrong guess\n",
      "Game Over! The word was elephant\n"
     ]
    }
   ],
   "source": [
    "import random\n",
    "import re # Involving the re or regular expression\n",
    "\n",
    "def read_words():\n",
    "    # First of all. To see if this file we're dealing with exists or not, it is important to implement the\n",
    "    # try... except\n",
    "    try:\n",
    "        with open('words.txt', 'r') as file:\n",
    "            # Now we have to break this into a list of words, which will permit us now to choose a word randomly.\n",
    "            words = file.read().splitlines()\n",
    "            return words\n",
    "    except FileNotFoundError:\n",
    "        print(\"words.txt doesn't exist\")\n",
    "        return [] # Meaning return an empty list\n",
    "\n",
    "# Loop to display result now   \n",
    "def display_words(secret_word, guessed_letters):\n",
    "    word_to_display = ''\n",
    "    for letter in secret_word:\n",
    "            # If user guessed that letter\n",
    "            if letter in guessed_letters:\n",
    "                # Print it BUT NOT like 'print(letter)', since we're avoiding the adding of a new line.\n",
    "                # We're displaying everything but on the same line.\n",
    "                word_to_display += letter\n",
    "            else:\n",
    "                # Print _ still\n",
    "                word_to_display += '_' # This special character has to be a string first, b4 being able to be added.\n",
    "                                       # This alone can cause problems in the final output of your program.\n",
    "\n",
    "    print(word_to_display)\n",
    "\n",
    "def guess_letter_part(guessed_letters): # We're parsing 'guessed_letters' to this function, to help address \n",
    "                                        # the area of checking if a letter, was mentioned more than once.\n",
    "    while True: # To give the user a chance, to try again.\n",
    "        guess = input('Enter a letter: ').lower()\n",
    "        if len(guess) != 1: # We can't use > here, since we didn't make our 'guess' variable above\n",
    "                            # to accept solely integers(very wrong approach here, in what we're trying to acomplish.)\n",
    "            print('Sorry! You got to  enter but only one letter.')\n",
    "        elif not re.search('[a-z]', guess): # ''guess' .... 'in'' ain't correct to be used here \n",
    "            print('Enter letters only from a to z.')\n",
    "        elif guess in guessed_letters: #Mentioned more than once, \n",
    "            print('You already guessed that letter.')\n",
    "        else: # The user entered but a valid guess\n",
    "            return guess\n",
    "\n",
    "def if_word_guessed_finally(secret_word, guessed_letters):\n",
    "    # Looking through each letter now\n",
    "    for letter in secret_word:\n",
    "        if letter not in guessed_letters:\n",
    "            return False\n",
    "    # The final 'return True', has to be indented as shown below(i.e, after the for loop).         \n",
    "    return True # Meaning every letter of the single word, has been guessed finally.        \n",
    "\n",
    "def main():    \n",
    "    # Don't just start a loop here, for it will start our game all over even when we initially guessed correclty the full word.   \n",
    "    words = read_words()\n",
    "        \n",
    "    if not words:\n",
    "        print('No words loaded yet.') # The error message\n",
    "        return # To terminate the program\n",
    "            \n",
    "    secret_word = random.choice(words)\n",
    "    print(secret_word)\n",
    "\n",
    "    no_of_attempts = 6\n",
    "    guessed_letters = [] # Initialize here, into an empty list\n",
    "    while no_of_attempts > 0:\n",
    "        display_words(secret_word, guessed_letters)\n",
    "            \n",
    "        guess = guess_letter_part(guessed_letters)\n",
    "        # Now adding our guess to our above-empty list of 'guessed_letters', \n",
    "        guessed_letters.append(guess)\n",
    "\n",
    "        if guess in secret_word:\n",
    "            print('Good guess')\n",
    "            if if_word_guessed_finally(secret_word, guessed_letters): # Meaning if it returns true,\n",
    "                print('Congratulations! You guessed the word.')\n",
    "                break # The game terminates\n",
    "        else:\n",
    "            print('Wrong guess')\n",
    "            no_of_attempts -= 1\n",
    "            if no_of_attempts == 0:\n",
    "                print(f'Game Over! The word was {secret_word}')\n",
    "                    \n",
    "\n",
    "if __name__ == \"__main__\":\n",
    "    main()"
   ]
  },
  {
   "cell_type": "code",
   "execution_count": null,
   "id": "afc95739-3d3c-41b4-a18f-7f46a982944a",
   "metadata": {},
   "outputs": [],
   "source": []
  }
 ],
 "metadata": {
  "kernelspec": {
   "display_name": "Python 3 (ipykernel)",
   "language": "python",
   "name": "python3"
  },
  "language_info": {
   "codemirror_mode": {
    "name": "ipython",
    "version": 3
   },
   "file_extension": ".py",
   "mimetype": "text/x-python",
   "name": "python",
   "nbconvert_exporter": "python",
   "pygments_lexer": "ipython3",
   "version": "3.12.4"
  }
 },
 "nbformat": 4,
 "nbformat_minor": 5
}
