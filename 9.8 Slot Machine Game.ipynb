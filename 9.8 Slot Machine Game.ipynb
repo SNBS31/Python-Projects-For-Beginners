{
 "cells": [
  {
   "cell_type": "code",
   "execution_count": 5,
   "id": "64d1457c-9aae-4bd8-a157-58a0fba288c8",
   "metadata": {},
   "outputs": [
    {
     "name": "stdin",
     "output_type": "stream",
     "text": [
      "Enter your starting balance: $ a\n"
     ]
    },
    {
     "name": "stdout",
     "output_type": "stream",
     "text": [
      "Please enter a valid number.\n"
     ]
    },
    {
     "name": "stdin",
     "output_type": "stream",
     "text": [
      "Enter your starting balance: $ 0\n"
     ]
    },
    {
     "name": "stdout",
     "output_type": "stream",
     "text": [
      "Your balance must be a positive number.\n"
     ]
    },
    {
     "name": "stdin",
     "output_type": "stream",
     "text": [
      "Enter your starting balance: $ -1\n"
     ]
    },
    {
     "name": "stdout",
     "output_type": "stream",
     "text": [
      "Your balance must be a positive number.\n"
     ]
    },
    {
     "name": "stdin",
     "output_type": "stream",
     "text": [
      "Enter your starting balance: $ 100\n"
     ]
    },
    {
     "name": "stdout",
     "output_type": "stream",
     "text": [
      "Welcome to the Slot Machine Game\n",
      "You start with a balance of $100.\n",
      "\n",
      "Current balance: $100\n"
     ]
    },
    {
     "name": "stdin",
     "output_type": "stream",
     "text": [
      "Enter your bet amount: $ \n"
     ]
    },
    {
     "name": "stdout",
     "output_type": "stream",
     "text": [
      "Please enter a valid number for the bet amount.\n"
     ]
    },
    {
     "name": "stdin",
     "output_type": "stream",
     "text": [
      "Enter your bet amount: $ a\n"
     ]
    },
    {
     "name": "stdout",
     "output_type": "stream",
     "text": [
      "Please enter a valid number for the bet amount.\n"
     ]
    },
    {
     "name": "stdin",
     "output_type": "stream",
     "text": [
      "Enter your bet amount: $ 0\n"
     ]
    },
    {
     "name": "stdout",
     "output_type": "stream",
     "text": [
      "Invalid bet amount. You can bet in between $1 and $100.\n"
     ]
    },
    {
     "name": "stdin",
     "output_type": "stream",
     "text": [
      "Enter your bet amount: $ -1\n"
     ]
    },
    {
     "name": "stdout",
     "output_type": "stream",
     "text": [
      "Invalid bet amount. You can bet in between $1 and $100.\n"
     ]
    },
    {
     "name": "stdin",
     "output_type": "stream",
     "text": [
      "Enter your bet amount: $ 250\n"
     ]
    },
    {
     "name": "stdout",
     "output_type": "stream",
     "text": [
      "Invalid bet amount. You can bet in between $1 and $100.\n"
     ]
    },
    {
     "name": "stdin",
     "output_type": "stream",
     "text": [
      "Enter your bet amount: $ 40\n"
     ]
    },
    {
     "name": "stdout",
     "output_type": "stream",
     "text": [
      "🔔 | 🍉 | 🔔\n",
      "You won $80\n"
     ]
    },
    {
     "name": "stdin",
     "output_type": "stream",
     "text": [
      "Do you want to play again(y/n): y\n"
     ]
    },
    {
     "name": "stdout",
     "output_type": "stream",
     "text": [
      "Current balance: $140\n"
     ]
    },
    {
     "name": "stdin",
     "output_type": "stream",
     "text": [
      "Enter your bet amount: $ 10\n"
     ]
    },
    {
     "name": "stdout",
     "output_type": "stream",
     "text": [
      "🍉 | 🍉 | ⭐\n",
      "You won $20\n"
     ]
    },
    {
     "name": "stdin",
     "output_type": "stream",
     "text": [
      "Do you want to play again(y/n): y\n"
     ]
    },
    {
     "name": "stdout",
     "output_type": "stream",
     "text": [
      "Current balance: $150\n"
     ]
    },
    {
     "name": "stdin",
     "output_type": "stream",
     "text": [
      "Enter your bet amount: $ 150\n"
     ]
    },
    {
     "name": "stdout",
     "output_type": "stream",
     "text": [
      "🔔 | 🍒 | 🍒\n",
      "You won $300\n"
     ]
    },
    {
     "name": "stdin",
     "output_type": "stream",
     "text": [
      "Do you want to play again(y/n): y\n"
     ]
    },
    {
     "name": "stdout",
     "output_type": "stream",
     "text": [
      "Current balance: $300\n"
     ]
    },
    {
     "name": "stdin",
     "output_type": "stream",
     "text": [
      "Enter your bet amount: $ 300\n"
     ]
    },
    {
     "name": "stdout",
     "output_type": "stream",
     "text": [
      "🍉 | 🔔 | 🍋\n",
      "You lost!\n",
      "Game Over! You're out of money.\n"
     ]
    }
   ],
   "source": [
    "import random\n",
    "\n",
    "def start_balance():\n",
    "    while True: \n",
    "        try:  \n",
    "            start_input = int(input(\"Enter your starting balance: $\")) # As that '$' sign, is very much needed there    \n",
    "            if start_input <= 0:\n",
    "                print('Your balance must be a positive number.')\n",
    "            else: # If a +ve integer as wanted,\n",
    "                return start_input # We 'return' and not 'break' here, since we're within a defined function outside our main() \n",
    "        except ValueError:        \n",
    "            print('Please enter a valid number.')\n",
    "   \n",
    "def bet_amount(starting_balance):\n",
    "    while True: # So as to give the user a a chance to try again, if he got something wrong. \n",
    "        try:\n",
    "            bet_input = int(input(\"Enter your bet amount: $\"))\n",
    "            if bet_input <= 0 or bet_input > starting_balance:\n",
    "                print(f'Invalid bet amount. You can bet in between $1 and ${starting_balance}.')\n",
    "            else:\n",
    "                return bet_input\n",
    "        except ValueError:    \n",
    "            print('Please enter a valid number for the bet amount.')\n",
    "    \n",
    "def spin_reels(): # i.e just spinning of the wheels now, meaning no parameters to parse to this function.\n",
    "                  # We'll need it this way with no parameters within, so that it will later be used as a parameter now in the below function.\n",
    "    # We'll need to generate here now, '3 random symbols' out of 5 different-possible symbols.  \n",
    "    symbols = ['🍒', '🍋', '🔔', '⭐', '🍉']\n",
    "    # Since we're selecting randomly but 3 symbols,\n",
    "    return [random.choice(symbols) for _ in range(3)] # i.e For each iteration three times. Hence, no specific reason for chossing '_' to be our loop variable. \n",
    "                                                      # We're using the most concised List Comprehension approach here.\n",
    "                                                      # The 'return' helps provide our result at the end, without having to waste time to create another empty list to just store results.\n",
    "\n",
    "# Displaying now the results from spinning our above wheel, we'll need another function for that\n",
    "# Our below function will display as done in the casinos.\n",
    "def display_reels(reels):\n",
    "    print(f'{reels[0]} | {reels[1]} | {reels[2]}')\n",
    "\n",
    "def calculate_payout(reels, bet): # Since it's based on 'how many symbols matched', BOTH the 'reels' and the 'bet' parameters will be parsed into this function.\n",
    "    if reels[0] == reels[1] == reels[2]:\n",
    "        return bet * 10\n",
    "    # Now checking to see if at least two of them symbols matched,\n",
    "    if reels[0] == reels[1] or reels[0] == reels[2] or reels[1] == reels[2]: # This 'if' statement is being checked still regardless,even if \n",
    "                                                                            # the above first condition initially checked first to be True.\n",
    "        return bet * 2\n",
    "    # Now if none of the above two conditions matched,\n",
    "    return 0 # Meaning literally all your money betted is gone.\n",
    "\n",
    "def main():\n",
    "    starting_balance = start_balance()\n",
    "    \n",
    "    print('Welcome to the Slot Machine Game')\n",
    "    print(f'You start with a balance of ${starting_balance}.\\n')  # the 'slash n' is so as to avoid our resulting output,\n",
    "                                                                 # to look cluttered(as a line is been skipped,\n",
    "                                                                 # b4 the next output is been displayed).\n",
    "\n",
    "    while starting_balance > 0: # Just to confirm\n",
    "        print(f'Current balance: ${starting_balance}')\n",
    "        \n",
    "        bet = bet_amount(starting_balance)\n",
    "        reels = spin_reels() # As we're just spinning and returning our randomly selected results. No further parameter needed within the function.\n",
    "        display_reels(reels)\n",
    "        \n",
    "        payout = calculate_payout(reels, bet) # Now re-calculating the balance further below from this,\n",
    "        # Just printing out results here,\n",
    "        if payout > 0:\n",
    "            print(f'You won ${payout}')\n",
    "        else:\n",
    "            print('You lost!')\n",
    "        # Finally.  Re-calculating the balance now  \n",
    "        starting_balance += payout - bet # Since 'payout' is guaranteed to either increase than the 'bet' amount, or totally lost.\n",
    "        if starting_balance <= 0:\n",
    "            print(\"Game Over! You're out of money.\")\n",
    "            break # Once you break out of the loop here, the remaining downward logic won't get executed at all!!\n",
    "\n",
    "        # To give the user the chance to avoid more risk,\n",
    "        play_again = input('Do you want to play again(y/n):').lower()\n",
    "        if play_again != 'y':\n",
    "            print(f'You walk away with ${starting_balance}.')\n",
    "            break \n",
    "    \n",
    "\n",
    "if __name__ == \"__main__\":\n",
    "    main()"
   ]
  },
  {
   "cell_type": "code",
   "execution_count": null,
   "id": "aa5d1898-fc79-4c79-b767-c3f5f3255741",
   "metadata": {},
   "outputs": [],
   "source": []
  }
 ],
 "metadata": {
  "kernelspec": {
   "display_name": "Python 3 (ipykernel)",
   "language": "python",
   "name": "python3"
  },
  "language_info": {
   "codemirror_mode": {
    "name": "ipython",
    "version": 3
   },
   "file_extension": ".py",
   "mimetype": "text/x-python",
   "name": "python",
   "nbconvert_exporter": "python",
   "pygments_lexer": "ipython3",
   "version": "3.12.4"
  }
 },
 "nbformat": 4,
 "nbformat_minor": 5
}
