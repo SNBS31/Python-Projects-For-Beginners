{
 "cells": [
  {
   "cell_type": "code",
   "execution_count": 13,
   "id": "2711ba32-48dc-4f08-b04f-7af0941f0391",
   "metadata": {},
   "outputs": [
    {
     "name": "stdout",
     "output_type": "stream",
     "text": [
      "\n",
      "Welcome to the ATM!\n",
      "1. Check Balance\n",
      "2. Make a deposit\n",
      "3. Withdraw\n",
      "4. Exit\n"
     ]
    },
    {
     "name": "stdin",
     "output_type": "stream",
     "text": [
      "Make your choice:  1\n"
     ]
    },
    {
     "name": "stdout",
     "output_type": "stream",
     "text": [
      "Your current balance is $0\n",
      "\n",
      "Welcome to the ATM!\n",
      "1. Check Balance\n",
      "2. Make a deposit\n",
      "3. Withdraw\n",
      "4. Exit\n"
     ]
    },
    {
     "name": "stdin",
     "output_type": "stream",
     "text": [
      "Make your choice:  2\n",
      "Enter the amount you want to deposit:  a\n"
     ]
    },
    {
     "name": "stdout",
     "output_type": "stream",
     "text": [
      "You have to enter a valid number, before you can proceed\n"
     ]
    },
    {
     "name": "stdin",
     "output_type": "stream",
     "text": [
      "Enter the amount you want to deposit:  0\n"
     ]
    },
    {
     "name": "stdout",
     "output_type": "stream",
     "text": [
      "Deposit must be a positive number.\n",
      "\n",
      "Welcome to the ATM!\n",
      "1. Check Balance\n",
      "2. Make a deposit\n",
      "3. Withdraw\n",
      "4. Exit\n"
     ]
    },
    {
     "name": "stdin",
     "output_type": "stream",
     "text": [
      "Make your choice:  100\n"
     ]
    },
    {
     "name": "stdout",
     "output_type": "stream",
     "text": [
      "Invalid choice. Please try again.\n",
      "\n",
      "Welcome to the ATM!\n",
      "1. Check Balance\n",
      "2. Make a deposit\n",
      "3. Withdraw\n",
      "4. Exit\n"
     ]
    },
    {
     "name": "stdin",
     "output_type": "stream",
     "text": [
      "Make your choice:  2\n",
      "Enter the amount you want to deposit:  100\n"
     ]
    },
    {
     "name": "stdout",
     "output_type": "stream",
     "text": [
      "Successfully deposited $100.0.\n",
      "\n",
      "Welcome to the ATM!\n",
      "1. Check Balance\n",
      "2. Make a deposit\n",
      "3. Withdraw\n",
      "4. Exit\n"
     ]
    },
    {
     "name": "stdin",
     "output_type": "stream",
     "text": [
      "Make your choice:  1\n"
     ]
    },
    {
     "name": "stdout",
     "output_type": "stream",
     "text": [
      "Your current balance is $100.0\n",
      "\n",
      "Welcome to the ATM!\n",
      "1. Check Balance\n",
      "2. Make a deposit\n",
      "3. Withdraw\n",
      "4. Exit\n"
     ]
    },
    {
     "name": "stdin",
     "output_type": "stream",
     "text": [
      "Make your choice:  2\n",
      "Enter the amount you want to deposit:  20\n"
     ]
    },
    {
     "name": "stdout",
     "output_type": "stream",
     "text": [
      "Successfully deposited $20.0.\n",
      "\n",
      "Welcome to the ATM!\n",
      "1. Check Balance\n",
      "2. Make a deposit\n",
      "3. Withdraw\n",
      "4. Exit\n"
     ]
    },
    {
     "name": "stdin",
     "output_type": "stream",
     "text": [
      "Make your choice:  1\n"
     ]
    },
    {
     "name": "stdout",
     "output_type": "stream",
     "text": [
      "Your current balance is $120.0\n",
      "\n",
      "Welcome to the ATM!\n",
      "1. Check Balance\n",
      "2. Make a deposit\n",
      "3. Withdraw\n",
      "4. Exit\n"
     ]
    },
    {
     "name": "stdin",
     "output_type": "stream",
     "text": [
      "Make your choice:  3\n",
      "Enter the amount you want to withdraw:  0\n"
     ]
    },
    {
     "name": "stdout",
     "output_type": "stream",
     "text": [
      "The Withdrawal amount must be a positive number.\n",
      "\n",
      "Welcome to the ATM!\n",
      "1. Check Balance\n",
      "2. Make a deposit\n",
      "3. Withdraw\n",
      "4. Exit\n"
     ]
    },
    {
     "name": "stdin",
     "output_type": "stream",
     "text": [
      "Make your choice:  3\n",
      "Enter the amount you want to withdraw:  20\n"
     ]
    },
    {
     "name": "stdout",
     "output_type": "stream",
     "text": [
      "Withdrawal of $20.0 successful.\n",
      "\n",
      "Welcome to the ATM!\n",
      "1. Check Balance\n",
      "2. Make a deposit\n",
      "3. Withdraw\n",
      "4. Exit\n"
     ]
    },
    {
     "name": "stdin",
     "output_type": "stream",
     "text": [
      "Make your choice:  1\n"
     ]
    },
    {
     "name": "stdout",
     "output_type": "stream",
     "text": [
      "Your current balance is $100.0\n",
      "\n",
      "Welcome to the ATM!\n",
      "1. Check Balance\n",
      "2. Make a deposit\n",
      "3. Withdraw\n",
      "4. Exit\n"
     ]
    },
    {
     "name": "stdin",
     "output_type": "stream",
     "text": [
      "Make your choice:  3\n",
      "Enter the amount you want to withdraw:  250\n"
     ]
    },
    {
     "name": "stdout",
     "output_type": "stream",
     "text": [
      "Sorry! Insufficient funds.\n",
      "\n",
      "Welcome to the ATM!\n",
      "1. Check Balance\n",
      "2. Make a deposit\n",
      "3. Withdraw\n",
      "4. Exit\n"
     ]
    },
    {
     "name": "stdin",
     "output_type": "stream",
     "text": [
      "Make your choice:  5\n"
     ]
    },
    {
     "name": "stdout",
     "output_type": "stream",
     "text": [
      "Invalid choice. Please try again.\n",
      "\n",
      "Welcome to the ATM!\n",
      "1. Check Balance\n",
      "2. Make a deposit\n",
      "3. Withdraw\n",
      "4. Exit\n"
     ]
    },
    {
     "name": "stdin",
     "output_type": "stream",
     "text": [
      "Make your choice:  4\n"
     ]
    },
    {
     "name": "stdout",
     "output_type": "stream",
     "text": [
      "Thanks for using the ATM!\n"
     ]
    }
   ],
   "source": [
    "class ATM:\n",
    "    def __init__(self):\n",
    "        self.balance = 0\n",
    "\n",
    "    def check_balance(self):\n",
    "        print(f'Your current balance is ${self.balance}') # UI Logic\n",
    "\n",
    "    def deposit(self, amount):\n",
    "        if amount > 0:\n",
    "            self.balance += amount\n",
    "            print(f'Successfully deposited ${amount}.') # UI Logic\n",
    "        else:\n",
    "            print('Deposit must be a positive number.') # UI Logic\n",
    "\n",
    "    def withdraw(self, amount):\n",
    "        if amount > self.balance:\n",
    "            print('Sorry! Insufficient funds.') # UI Logic\n",
    "        elif amount <= 0:\n",
    "            print('The Withdrawal amount must be a positive number.') # UI Logic\n",
    "        else:\n",
    "            self.balance -= amount\n",
    "            print(f'Withdrawal of ${amount} successful.') # UI Logic\n",
    "\n",
    "def main():\n",
    "    atm = ATM()\n",
    "    while True:\n",
    "        print('\\nWelcome to the ATM!')\n",
    "        print('1. Check Balance')\n",
    "        print('2. Make a deposit')\n",
    "        print('3. Withdraw')\n",
    "        print('4. Exit')\n",
    "\n",
    "        choice = input('Make your choice: ')\n",
    "        if choice == '1':\n",
    "            atm.check_balance()\n",
    "        elif choice == '2':\n",
    "            while True: # So as to give the user the chance to try again and again, till he enters a valid float number\n",
    "                try:\n",
    "                    amount = float(input('Enter the amount you want to deposit: '))\n",
    "                    atm.deposit(amount)\n",
    "                    break\n",
    "                except ValueError:\n",
    "                    print('You have to enter a valid number, before you can proceed.')\n",
    "        elif choice == '3':\n",
    "            while True: # So as to give the user the chance to try again and again till he enters a valid float number, as our valid amount of money\n",
    "                try:\n",
    "                    amount = float(input('Enter the amount you want to withdraw: '))\n",
    "                    atm.withdraw(amount)\n",
    "                    break\n",
    "                except ValueError:\n",
    "                    print('You have to enter a valid number, before you can proceed.')  \n",
    "        elif choice == '4':  \n",
    "            print('Thanks for using the ATM!')\n",
    "            break\n",
    "        else:\n",
    "            print('Invalid choice. Please try again.')\n",
    "    \n",
    "\n",
    "if __name__ == \"__main__\":\n",
    "    main()"
   ]
  },
  {
   "cell_type": "code",
   "execution_count": null,
   "id": "0a4f4951-0e96-4967-8654-27a5a5de710f",
   "metadata": {},
   "outputs": [],
   "source": []
  }
 ],
 "metadata": {
  "kernelspec": {
   "display_name": "Python 3 (ipykernel)",
   "language": "python",
   "name": "python3"
  },
  "language_info": {
   "codemirror_mode": {
    "name": "ipython",
    "version": 3
   },
   "file_extension": ".py",
   "mimetype": "text/x-python",
   "name": "python",
   "nbconvert_exporter": "python",
   "pygments_lexer": "ipython3",
   "version": "3.12.4"
  }
 },
 "nbformat": 4,
 "nbformat_minor": 5
}
