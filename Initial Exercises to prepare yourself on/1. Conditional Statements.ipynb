{
 "cells": [
  {
   "cell_type": "code",
   "execution_count": 6,
   "id": "d9fb6d50-0e8f-4c2d-9aaf-bee4e247ee23",
   "metadata": {},
   "outputs": [],
   "source": [
    "## if statement\n",
    "age=16\n",
    "\n",
    "if age>=18:\n",
    "    print(\"You're eligible to vote\")\n",
    "## No resulting output below, since the given condition of the if statement is False. \n",
    "## As a result, you're coming outside the block with nothing printed."
   ]
  },
  {
   "cell_type": "code",
   "execution_count": 8,
   "id": "31dce599-b7a7-4f44-8729-7281fcbf98b4",
   "metadata": {},
   "outputs": [
    {
     "name": "stdout",
     "output_type": "stream",
     "text": [
      "You're a minor\n"
     ]
    }
   ],
   "source": [
    "## else\n",
    "age=16\n",
    "\n",
    "if age>=18:\n",
    "    print(\"You're eligible to vote\")\n",
    "else:\n",
    "    print(\"You're a minor\")\n",
    "## i.e If the condition under the if statement is false, our program will then jump to \n",
    "## the block of the else statement."
   ]
  },
  {
   "cell_type": "code",
   "execution_count": 12,
   "id": "a972c152-cfd4-492e-ac5f-2640bf40f297",
   "metadata": {},
   "outputs": [
    {
     "name": "stdout",
     "output_type": "stream",
     "text": [
      "You are a teenager\n"
     ]
    }
   ],
   "source": [
    "## The 'elif' statement, which stands for 'else if' helps and allows us, to check \n",
    "## multiple conditions.\n",
    "\n",
    "age=17\n",
    "\n",
    "if age<13:\n",
    "    print(\"Hey! You are a child\")\n",
    "elif age<18:\n",
    "    print(\"You are a teenager\")\n",
    "else:\n",
    "    print(\"You're an adult\")"
   ]
  },
  {
   "cell_type": "code",
   "execution_count": 22,
   "id": "b476bfe0-efb1-424b-a78b-6518bb9ae586",
   "metadata": {},
   "outputs": [
    {
     "name": "stdin",
     "output_type": "stream",
     "text": [
      "Enter your number: 46\n"
     ]
    },
    {
     "name": "stdout",
     "output_type": "stream",
     "text": [
      "The number is positive\n",
      "The number is even\n"
     ]
    }
   ],
   "source": [
    "## 'Nested' Conditional Satement\n",
    "num=int(input(\"Enter your number:\"))\n",
    "\n",
    "if num>=0:\n",
    "    print(\"The number is positive\")\n",
    "    if num%2==0:\n",
    "        print(\"The number is even\")\n",
    "    else:\n",
    "        print(\"The number is odd\")\n",
    "\n",
    "else:\n",
    "    print(\"The number is zero or negative\")       "
   ]
  },
  {
   "cell_type": "code",
   "execution_count": 30,
   "id": "120464d8-f3be-4c27-bd85-eea33b3847f9",
   "metadata": {},
   "outputs": [
    {
     "name": "stdin",
     "output_type": "stream",
     "text": [
      "Enter the year: 2024\n"
     ]
    },
    {
     "name": "stdout",
     "output_type": "stream",
     "text": [
      "2024 is a leap year\n"
     ]
    }
   ],
   "source": [
    "## Practical Use Cases/Examples\n",
    "\n",
    "## For example:\n",
    "## A leap year, which is so only if it divided by 4 gives you zero. We can establish \n",
    "## this, using the nested conditional statement as shown below.\n",
    "year=int(input(\"Enter the year:\"))\n",
    "\n",
    "if year%4==0: ## Can also be written as if (year%4==0)\n",
    "    if year%100==0:\n",
    "        if year%400==0:\n",
    "            print(year,\"is a leap year\")\n",
    "        else: ## i.e, for if the year%400 case ain't true, but the other if statements above it are true,\n",
    "            print(year,\"is not a leap year\")\n",
    "    else:\n",
    "        print(year,\"is a leap year\")\n",
    "\n",
    "else:\n",
    "    print(year,\"is not a leap year\")               "
   ]
  },
  {
   "cell_type": "markdown",
   "id": "dc5b1d7f-ceff-4277-840b-6a0e92e28d53",
   "metadata": {},
   "source": [
    "# Asssignment 1: Simple Calculator Program"
   ]
  },
  {
   "cell_type": "code",
   "execution_count": 12,
   "id": "41ed0b48-670b-49d9-beff-7a969ae295c1",
   "metadata": {},
   "outputs": [
    {
     "name": "stdin",
     "output_type": "stream",
     "text": [
      "Enter the first number:  100\n",
      "Enter the operation you want (+,-,*,/):  /\n",
      "Enter the second number:  0\n"
     ]
    },
    {
     "name": "stdout",
     "output_type": "stream",
     "text": [
      "Result: Syntax Error, due to Division by zero.\n"
     ]
    }
   ],
   "source": [
    "## Starting by taking user input,\n",
    "num1 = float(input(\"Enter the first number: \"))\n",
    "operation = input(\"Enter the operation you want (+,-,*,/): \")\n",
    "num2 = float(input(\"Enter the second number: \"))\n",
    "\n",
    "# Now performing the requested operation,\n",
    "if operation == '+':\n",
    "    result = num1+num2\n",
    "elif operation == '-':\n",
    "    result = num1-num2\n",
    "elif operation == '*':\n",
    "    result = num1*num2  \n",
    "elif operation == '/':\n",
    "    if num2 != 0:\n",
    "        result = num1/num2\n",
    "    else:\n",
    "        result = \"Syntax Error, due to Division by zero.\"\n",
    "else:\n",
    "    result = \"Invalid operation.\"\n",
    "\n",
    "print(\"Result:\", result)"
   ]
  },
  {
   "cell_type": "markdown",
   "id": "730e1152-7f23-4a37-b9c8-4b12029309a7",
   "metadata": {},
   "source": [
    "## Assignment 2: Ticket Price, based on \"age\""
   ]
  },
  {
   "cell_type": "code",
   "execution_count": 15,
   "id": "b38aeeaf-1e4d-4e34-bd92-a10707046e8f",
   "metadata": {},
   "outputs": [
    {
     "name": "stdin",
     "output_type": "stream",
     "text": [
      "Enter your age please:  76\n",
      "Are you a student? (yes,no):  no\n"
     ]
    },
    {
     "name": "stdout",
     "output_type": "stream",
     "text": [
      "Ticket Price: $20\n"
     ]
    }
   ],
   "source": [
    "# i.e, to see whether or not the involved person is a student.\n",
    "\n",
    "## Taking our user input\n",
    "age = int(input(\"Enter your age please: \"))\n",
    "is_student = input(\"Are you a student? (yes,no): \").lower()\n",
    "\n",
    "# Now determining the ticket prices\n",
    "if age<5:\n",
    "    price = \"Free\"\n",
    "elif age<=12:\n",
    "    price = \"$10\"\n",
    "elif age<=17:\n",
    "    if is_student == \"yes\":\n",
    "        price = \"$12\"\n",
    "    else:\n",
    "        price = \"$15\"\n",
    "elif age<=64:\n",
    "    if is_student == \"yes\":\n",
    "        price = \"$18\"\n",
    "    else:\n",
    "        price = \"$25\"\n",
    "else:\n",
    "    price = \"$20\"\n",
    "\n",
    "print(\"Ticket Price:\", price)\n",
    "    "
   ]
  },
  {
   "cell_type": "markdown",
   "id": "02aa13be-d47d-4929-9667-d5e5eb994061",
   "metadata": {},
   "source": [
    "## Assignment 3: Employee Bonus Calculation"
   ]
  },
  {
   "cell_type": "code",
   "execution_count": 28,
   "id": "87096b8e-52a9-455c-bc87-4eb1d4e6d649",
   "metadata": {},
   "outputs": [
    {
     "name": "stdin",
     "output_type": "stream",
     "text": [
      "Enter years of service:  8\n",
      "Enter your given performance rating (1.0 to 5.0):  4.6\n",
      "Enter your current salary:  905.5\n"
     ]
    },
    {
     "name": "stdout",
     "output_type": "stream",
     "text": [
      "Bonus Amount: $ 135.82\n"
     ]
    }
   ],
   "source": [
    "# Taking our user input,\n",
    "years_of_service = int(input(\"Enter years of service: \"))\n",
    "performance_rating = float(input(\"Enter your given performance rating (1.0 to 5.0): \"))\n",
    "\n",
    "# Now determining that bonus percentage,\n",
    "if performance_rating >= 4.5:\n",
    "    if years_of_service > 10:\n",
    "        bonus_percentage = 20\n",
    "    elif years_of_service > 5:\n",
    "        bonus_percentage = 15\n",
    "    else:\n",
    "        bonus_percentage = 10\n",
    "elif performance_rating >= 3.5:\n",
    "    if years_of_service > 10:\n",
    "        bonus_percentage = 15\n",
    "    elif years_of_service > 5:\n",
    "        bonus_percentage = 10\n",
    "    else:\n",
    "        bonus_percentage = 5\n",
    "else:\n",
    "    bonus_percentage = 0\n",
    "    \n",
    "        \n",
    "## Calculating now our total bonus amount,\n",
    "salary = float(input(\"Enter your current salary: \"))\n",
    "bonus_amount = salary * bonus_percentage/100\n",
    "\n",
    "print(\"Bonus Amount: ${: .2f}\".format(bonus_amount)) ## Meaning a floating number of 2 decimal places"
   ]
  },
  {
   "cell_type": "markdown",
   "id": "1b6fd03c-09f1-493d-bb46-04314acbd5a0",
   "metadata": {},
   "source": [
    "## Final Assignment: User Login System"
   ]
  },
  {
   "cell_type": "code",
   "execution_count": 37,
   "id": "84a54525-d986-4ed5-be27-9e14d443e89f",
   "metadata": {},
   "outputs": [
    {
     "name": "stdin",
     "output_type": "stream",
     "text": [
      "Enter username:  admin\n",
      "Enter your password:  password123\n"
     ]
    },
    {
     "name": "stdout",
     "output_type": "stream",
     "text": [
      "Login Successful!\n"
     ]
    }
   ],
   "source": [
    "# Predefined username and password\n",
    "stored_username = \"admin\"\n",
    "stored_password = \"password123\"\n",
    "\n",
    "# Now taking our user input\n",
    "username = input(\"Enter username: \")\n",
    "password = input(\"Enter your password: \")\n",
    "\n",
    "# To check now the login credentials\n",
    "if username == stored_username:\n",
    "    if password == stored_password:\n",
    "        print(\"Login Successful!\")\n",
    "    else:\n",
    "        print(\"Incorrect Password.\")\n",
    "else:\n",
    "    print(\"Username not found.\")"
   ]
  },
  {
   "cell_type": "markdown",
   "id": "2db253c3-f798-4412-b7a2-207ca0c7dfde",
   "metadata": {},
   "source": [
    "## Writing a program that prints whether a number is +ve and even, positive and odd, or negative"
   ]
  },
  {
   "cell_type": "code",
   "execution_count": 3,
   "id": "d6720937-9325-4968-9613-0f1ad29796e2",
   "metadata": {},
   "outputs": [
    {
     "name": "stdin",
     "output_type": "stream",
     "text": [
      "Enter number:  7\n"
     ]
    },
    {
     "name": "stdout",
     "output_type": "stream",
     "text": [
      "The number is an odd number, but positive.\n"
     ]
    }
   ],
   "source": [
    "number = float(input(\"Enter number: \"))\n",
    "if number > 0:\n",
    "    if number%2==0:\n",
    "        print(\"The number is an even number, but positive.\")\n",
    "    else:\n",
    "        print(\"The number is an odd number, but positive.\")\n",
    "else:\n",
    "    print(\"The number is negative.\")"
   ]
  },
  {
   "cell_type": "code",
   "execution_count": null,
   "id": "964a9f48-3351-4883-8442-577d782fa0b9",
   "metadata": {},
   "outputs": [],
   "source": []
  }
 ],
 "metadata": {
  "kernelspec": {
   "display_name": "Python 3 (ipykernel)",
   "language": "python",
   "name": "python3"
  },
  "language_info": {
   "codemirror_mode": {
    "name": "ipython",
    "version": 3
   },
   "file_extension": ".py",
   "mimetype": "text/x-python",
   "name": "python",
   "nbconvert_exporter": "python",
   "pygments_lexer": "ipython3",
   "version": "3.12.4"
  }
 },
 "nbformat": 4,
 "nbformat_minor": 5
}
