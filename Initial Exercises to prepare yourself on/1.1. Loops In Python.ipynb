{
 "cells": [
  {
   "cell_type": "code",
   "execution_count": 2,
   "id": "acfa0cba-cc67-455a-bfc0-61fa349e7dbe",
   "metadata": {},
   "outputs": [
    {
     "data": {
      "text/plain": [
       "range(0, 5)"
      ]
     },
     "execution_count": 2,
     "metadata": {},
     "output_type": "execute_result"
    }
   ],
   "source": [
    "range(5)"
   ]
  },
  {
   "cell_type": "code",
   "execution_count": 4,
   "id": "33d94442-46cd-42b6-81ce-8d40d67895f7",
   "metadata": {},
   "outputs": [
    {
     "name": "stdout",
     "output_type": "stream",
     "text": [
      "0\n",
      "1\n",
      "2\n",
      "3\n",
      "4\n"
     ]
    }
   ],
   "source": [
    "## For Loop\n",
    "for i in range(5):\n",
    "    print(i)"
   ]
  },
  {
   "cell_type": "code",
   "execution_count": 6,
   "id": "5f21e1b8-31ac-44d8-9d0e-904f8943dfbd",
   "metadata": {},
   "outputs": [
    {
     "name": "stdout",
     "output_type": "stream",
     "text": [
      "1\n",
      "2\n",
      "3\n",
      "4\n",
      "5\n"
     ]
    }
   ],
   "source": [
    "for i in range(1,6):\n",
    "    print(i)"
   ]
  },
  {
   "cell_type": "code",
   "execution_count": 8,
   "id": "032511f4-9b25-4818-abca-cfcd84a81244",
   "metadata": {},
   "outputs": [
    {
     "name": "stdout",
     "output_type": "stream",
     "text": [
      "1\n",
      "3\n",
      "5\n",
      "7\n",
      "9\n"
     ]
    }
   ],
   "source": [
    "for i in range(1,10,2):\n",
    "    print(i)"
   ]
  },
  {
   "cell_type": "code",
   "execution_count": 10,
   "id": "983a61d1-024b-4693-bae0-6350a68c0417",
   "metadata": {},
   "outputs": [
    {
     "name": "stdout",
     "output_type": "stream",
     "text": [
      "10\n",
      "9\n",
      "8\n",
      "7\n",
      "6\n",
      "5\n",
      "4\n",
      "3\n",
      "2\n"
     ]
    }
   ],
   "source": [
    "for i in range(10, 1, -1):\n",
    "    print(i)"
   ]
  },
  {
   "cell_type": "code",
   "execution_count": 14,
   "id": "9f9dc3a3-0020-448f-8222-f123c52a4e29",
   "metadata": {},
   "outputs": [
    {
     "name": "stdout",
     "output_type": "stream",
     "text": [
      "S\n",
      "a\n",
      "l\n",
      "l\n",
      "e\n",
      "-\n",
      "N\n",
      "j\n",
      "u\n",
      "m\n",
      "e\n"
     ]
    }
   ],
   "source": [
    "## Strings\n",
    "\n",
    "str = \"Salle-Njume\"\n",
    "\n",
    "for i in str:\n",
    "    print(i)"
   ]
  },
  {
   "cell_type": "code",
   "execution_count": 16,
   "id": "69bd1b91-6d94-4a29-817c-66be28b5dc6a",
   "metadata": {},
   "outputs": [
    {
     "name": "stdout",
     "output_type": "stream",
     "text": [
      "0\n",
      "1\n",
      "2\n",
      "3\n",
      "4\n",
      "5\n"
     ]
    }
   ],
   "source": [
    "## While Loop\n",
    "\n",
    "count = 0\n",
    "\n",
    "while count<=5:\n",
    "    print(count)\n",
    "    count+=1"
   ]
  },
  {
   "cell_type": "code",
   "execution_count": 20,
   "id": "58120b97-932b-4ddb-aaa7-564d9e0d00c1",
   "metadata": {},
   "outputs": [
    {
     "ename": "SyntaxError",
     "evalue": "incomplete input (2776085677.py, line 3)",
     "output_type": "error",
     "traceback": [
      "\u001b[1;36m  Cell \u001b[1;32mIn[20], line 3\u001b[1;36m\u001b[0m\n\u001b[1;33m    while count%2==0:\u001b[0m\n\u001b[1;37m                     ^\u001b[0m\n\u001b[1;31mSyntaxError\u001b[0m\u001b[1;31m:\u001b[0m incomplete input\n"
     ]
    }
   ],
   "source": [
    "count=0\n",
    "\n",
    "while count%2==0:\n",
    "    print(count)\n",
    "# Don't ever try running this cell, for the loop will never end    "
   ]
  },
  {
   "cell_type": "code",
   "execution_count": 4,
   "id": "796c82da-7cc2-40a9-a717-b3af3ce93021",
   "metadata": {},
   "outputs": [
    {
     "name": "stdout",
     "output_type": "stream",
     "text": [
      "0\n"
     ]
    }
   ],
   "source": [
    "count=0\n",
    "\n",
    "while count%2==0:\n",
    "    print(count)\n",
    "    count = count + 1\n",
    "# The below result, will just come outside the loop, after coming across 1    "
   ]
  },
  {
   "cell_type": "code",
   "execution_count": 2,
   "id": "4c0e7c7e-d166-43d7-aaf5-aa875bf71f8f",
   "metadata": {},
   "outputs": [
    {
     "name": "stdout",
     "output_type": "stream",
     "text": [
      "0\n",
      "1\n",
      "2\n",
      "3\n",
      "4\n"
     ]
    }
   ],
   "source": [
    "## Loop Contol Statements\n",
    "\n",
    "## 'break'\n",
    "\n",
    "for i in range(10):\n",
    "    if i==5:\n",
    "        break\n",
    "    print(i)    "
   ]
  },
  {
   "cell_type": "code",
   "execution_count": 12,
   "id": "614df935-9b63-473b-aed3-dcaeec3ada7b",
   "metadata": {},
   "outputs": [
    {
     "name": "stdout",
     "output_type": "stream",
     "text": [
      "1\n",
      "3\n",
      "5\n",
      "7\n",
      "9\n"
     ]
    }
   ],
   "source": [
    "## 'continue'\n",
    "\n",
    "for i in range(10):\n",
    "    if i%2==0:\n",
    "        continue\n",
    "    print(i)    \n",
    "# The below as a result, will print out but only odd numbers"
   ]
  },
  {
   "cell_type": "code",
   "execution_count": 22,
   "id": "acd66e4d-f392-456e-83be-6dfe68ac668b",
   "metadata": {},
   "outputs": [
    {
     "name": "stdout",
     "output_type": "stream",
     "text": [
      "0\n",
      "1\n",
      "2\n",
      "The number is 3\n",
      "3\n",
      "4\n"
     ]
    }
   ],
   "source": [
    "## 'pass'\n",
    "\n",
    "for i in range(5):\n",
    "    if i==3:\n",
    "        \n",
    "        pass # i.e, \"Do Nothing\"\n",
    "        print(\"The number is\",i)\n",
    "        # Then continues the loop from the 3 here now\n",
    "        \n",
    "    print(i) # \"Just go ahead\"   "
   ]
  },
  {
   "cell_type": "code",
   "execution_count": 24,
   "id": "e45b3fa9-e8a9-48dd-b1da-530cf6edbf07",
   "metadata": {},
   "outputs": [
    {
     "name": "stdout",
     "output_type": "stream",
     "text": [
      "0\n",
      "1\n",
      "2\n",
      "The number is 3\n",
      "3\n",
      "4\n"
     ]
    }
   ],
   "source": [
    "## 'pass'\n",
    "\n",
    "for i in range(5):\n",
    "    if i==3:\n",
    "        print(\"The number is\",i)\n",
    "        pass # i.e, \"Do Nothing\"\n",
    "        \n",
    "        # Then continues the loop from the 3 here now\n",
    "        \n",
    "    print(i) # \"Just go ahead\"   "
   ]
  },
  {
   "cell_type": "code",
   "execution_count": 26,
   "id": "4d2cc4b8-7a22-47a3-90b6-c61c0d9771ff",
   "metadata": {},
   "outputs": [
    {
     "name": "stdout",
     "output_type": "stream",
     "text": [
      "i:0, j:0\n",
      "i:0, j:1\n",
      "i:1, j:0\n",
      "i:1, j:1\n",
      "i:2, j:0\n",
      "i:2, j:1\n"
     ]
    }
   ],
   "source": [
    "## Nested Loops\n",
    "for i in range(3):\n",
    "    for j in range(2): # This inner loop, is been ran 2 times.\n",
    "                       # For example when i=0, j=0 and j=1..... and so on for the next i=...\n",
    "        print(f\"i:{i}, j:{j}\") "
   ]
  },
  {
   "cell_type": "markdown",
   "id": "9b475e1f-d2f2-444d-ba01-1ac52d2b6dd4",
   "metadata": {},
   "source": [
    "## Example: Calaculating the first N natural numbers, using the for loop and the while loop           "
   ]
  },
  {
   "cell_type": "code",
   "execution_count": 38,
   "id": "00db99f9-e86e-4a7d-a29c-fbf98854b19c",
   "metadata": {},
   "outputs": [
    {
     "name": "stdout",
     "output_type": "stream",
     "text": [
      "The sum of the first 10 natural numbers is: 55\n"
     ]
    }
   ],
   "source": [
    "## while loop\n",
    "n=10\n",
    "sum=0 # i.e,the temporal variable, where I'll be saving my sum\n",
    "count=1 # another temporary variable that I'll keep\n",
    "\n",
    "while count<=n:\n",
    "    sum=sum + count\n",
    "    count+=1\n",
    "\n",
    "print(\"The sum of the first 10 natural numbers is:\", sum)"
   ]
  },
  {
   "cell_type": "code",
   "execution_count": 41,
   "id": "32091d8b-b52f-48d2-9d42-aa00de61093a",
   "metadata": {},
   "outputs": [
    {
     "name": "stdout",
     "output_type": "stream",
     "text": [
      "The sum of the first 10 natural numbers is: 55\n"
     ]
    }
   ],
   "source": [
    "## for loop\n",
    "# Defining still our same three variables,\n",
    "n=10\n",
    "sum=0 \n",
    "count=1\n",
    "\n",
    "for i in range(11):\n",
    "    sum=sum+i # Automatically integrates the needed 'i+=1'\n",
    "print(\"The sum of the first 10 natural numbers is:\", sum)"
   ]
  },
  {
   "cell_type": "markdown",
   "id": "d3700a62-70e4-4af8-8a18-678633fcd380",
   "metadata": {},
   "source": [
    "## Final Example: Displaying prime numbers, between 1 and 100"
   ]
  },
  {
   "cell_type": "code",
   "execution_count": 47,
   "id": "9efe7543-e355-4305-8046-1060df93754b",
   "metadata": {},
   "outputs": [
    {
     "name": "stdout",
     "output_type": "stream",
     "text": [
      "2\n",
      "3\n",
      "5\n",
      "7\n",
      "11\n",
      "13\n",
      "17\n",
      "19\n",
      "23\n",
      "29\n",
      "31\n",
      "37\n",
      "41\n",
      "43\n",
      "47\n",
      "53\n",
      "59\n",
      "61\n",
      "67\n",
      "71\n",
      "73\n",
      "79\n",
      "83\n",
      "89\n",
      "97\n"
     ]
    }
   ],
   "source": [
    "## Here, we're talikng about only numbers divisible by one and itself\n",
    "\n",
    "for num in range(1,101):\n",
    "    if num>1:\n",
    "        for i in range(2,num):\n",
    "            if num%i==0: # Meaning you've found a divisor of num, that's greater than 1, meaning it's not a prime number.\n",
    "                break\n",
    "        else:\n",
    "            print(num) # Just display this number, if it's at the end of the day a prime number\n",
    "                       # Once it's only divisor is one, it's other divisor is itself.\n",
    "    "
   ]
  },
  {
   "cell_type": "markdown",
   "id": "e05d45a3-b73b-4bdd-a147-59c335433f74",
   "metadata": {},
   "source": [
    "## Printing all numbers from 1 to 10, using the for loop"
   ]
  },
  {
   "cell_type": "code",
   "execution_count": 4,
   "id": "7a836174-f5b8-4183-aaf7-6c35f3c5773c",
   "metadata": {},
   "outputs": [
    {
     "name": "stdout",
     "output_type": "stream",
     "text": [
      "1\n",
      "2\n",
      "3\n",
      "4\n",
      "5\n",
      "6\n",
      "7\n",
      "8\n",
      "9\n",
      "10\n"
     ]
    }
   ],
   "source": [
    "for i in range(1,11):\n",
    "    print(i)"
   ]
  },
  {
   "cell_type": "markdown",
   "id": "5d6fde7a-ce7b-426f-8872-4934dc505779",
   "metadata": {},
   "source": [
    "## Printing all numbers from 1 to 10, using but the while loop this time"
   ]
  },
  {
   "cell_type": "code",
   "execution_count": 7,
   "id": "8e9641e5-1366-49b0-b2cc-cef416d139d1",
   "metadata": {},
   "outputs": [
    {
     "name": "stdout",
     "output_type": "stream",
     "text": [
      "1\n",
      "2\n",
      "3\n",
      "4\n",
      "5\n",
      "6\n",
      "7\n",
      "8\n",
      "9\n",
      "10\n"
     ]
    }
   ],
   "source": [
    "i=1\n",
    "while i<=10:\n",
    "    print(i)\n",
    "    i+=1"
   ]
  },
  {
   "cell_type": "markdown",
   "id": "c0fd42cc-c046-4bc6-b1c8-e025e68a1c50",
   "metadata": {},
   "source": [
    "## Printing a 5 by 5 grid of asterisks(i.e, '*')"
   ]
  },
  {
   "cell_type": "code",
   "execution_count": 10,
   "id": "69a91ecc-c4b4-4674-b738-1d9661db1273",
   "metadata": {},
   "outputs": [
    {
     "name": "stdout",
     "output_type": "stream",
     "text": [
      "* * * * * \n",
      "* * * * * \n",
      "* * * * * \n",
      "* * * * * \n",
      "* * * * * \n"
     ]
    }
   ],
   "source": [
    "for i in range(5):\n",
    "    for j in range(5):\n",
    "        print(\"*\", end=\" \")\n",
    "    print()    "
   ]
  },
  {
   "cell_type": "markdown",
   "id": "df74a3ec-6f65-44d1-8265-1fd2ea26e4a8",
   "metadata": {},
   "source": [
    "## Using the break statement to write a program that asks you to input numbers, till you input 0. Then sums up all the previous numbers you initially inputed."
   ]
  },
  {
   "cell_type": "code",
   "execution_count": 13,
   "id": "3f306b1b-c012-4d7d-b522-1d1116373363",
   "metadata": {},
   "outputs": [
    {
     "name": "stdin",
     "output_type": "stream",
     "text": [
      "Enter a number:  45\n",
      "Enter a number:  46\n",
      "Enter a number:  7\n",
      "Enter a number:  47\n",
      "Enter a number:  83\n",
      "Enter a number:  73\n",
      "Enter a number:  373\n",
      "Enter a number:  8735\n",
      "Enter a number:  63\n",
      "Enter a number:  1\n",
      "Enter a number:  33\n",
      "Enter a number:  6\n",
      "Enter a number:  0\n"
     ]
    },
    {
     "name": "stdout",
     "output_type": "stream",
     "text": [
      "The sum of all the numbers is 9512.0.\n"
     ]
    }
   ],
   "source": [
    "total = 0\n",
    "while True:\n",
    "    number = float(input(\"Enter a number: \"))\n",
    "    if number == 0:\n",
    "        break\n",
    "    total += number\n",
    "print(f\"The sum of all the numbers is {total}.\")"
   ]
  },
  {
   "cell_type": "markdown",
   "id": "f6d05b65-a7d0-4909-ae2b-fdcd3cc5e46b",
   "metadata": {},
   "source": [
    "## Writing a program that prints all the numbers from 1 to 10 except 5, using both the for loop and the continue statement"
   ]
  },
  {
   "cell_type": "code",
   "execution_count": 17,
   "id": "33431893-507d-426c-bf0f-14745b4406a4",
   "metadata": {},
   "outputs": [
    {
     "name": "stdout",
     "output_type": "stream",
     "text": [
      "1\n",
      "2\n",
      "3\n",
      "4\n",
      "6\n",
      "7\n",
      "8\n",
      "9\n",
      "10\n"
     ]
    }
   ],
   "source": [
    "for i in range(1,11):\n",
    "    if i == 5:\n",
    "        continue\n",
    "    print(i)    "
   ]
  },
  {
   "cell_type": "markdown",
   "id": "20c9f24b-d7e9-436e-a7f5-4ba10ad68dc2",
   "metadata": {},
   "source": [
    "## Write a program that defines an empty function using the pass statement."
   ]
  },
  {
   "cell_type": "code",
   "execution_count": 20,
   "id": "ddfc13a3-3a1a-47a8-aae7-8562aacab4c5",
   "metadata": {},
   "outputs": [],
   "source": [
    "def empty_function():\n",
    "    pass ## Meaning, 'do nothing'\n",
    "empty_function() # Calling out now our above empty function "
   ]
  },
  {
   "cell_type": "markdown",
   "id": "f8c5cf37-ce9a-49fd-a21d-0506a4829077",
   "metadata": {},
   "source": [
    "## Writing a program that asks the user to input a number and prints all the even numbers from 1 to that number, using a for loop."
   ]
  },
  {
   "cell_type": "code",
   "execution_count": 22,
   "id": "b3f9bfd8-3e6b-4146-978c-0da40150d79e",
   "metadata": {},
   "outputs": [
    {
     "name": "stdin",
     "output_type": "stream",
     "text": [
      "Enter a number:  9\n"
     ]
    },
    {
     "name": "stdout",
     "output_type": "stream",
     "text": [
      "2\n",
      "4\n",
      "6\n",
      "8\n"
     ]
    }
   ],
   "source": [
    "number = int(input(\"Enter a number: \"))\n",
    "for i in range(1, number+1):\n",
    "    if i%2 == 0:\n",
    "        print(i)"
   ]
  },
  {
   "cell_type": "markdown",
   "id": "3edece06-eb57-4cb8-8b8e-5d25afa9e392",
   "metadata": {},
   "source": [
    "## Calculating the factorial of a number inputed by the user, using a while loop."
   ]
  },
  {
   "cell_type": "code",
   "execution_count": 29,
   "id": "db8d9def-79d2-484e-8521-c52c36b32194",
   "metadata": {},
   "outputs": [
    {
     "name": "stdin",
     "output_type": "stream",
     "text": [
      "Enter a number:  4\n"
     ]
    },
    {
     "name": "stdout",
     "output_type": "stream",
     "text": [
      "The factorial of the number 4 is 24.\n"
     ]
    }
   ],
   "source": [
    "number = int(input(\"Enter a number: \"))\n",
    "factorial = 1\n",
    "i=1\n",
    "while i <= number:\n",
    "    factorial*= i\n",
    "    i+=1\n",
    "print(f\"The factorial of the number {number} is {factorial}.\")    "
   ]
  },
  {
   "cell_type": "markdown",
   "id": "9ee3e7c2-7d0d-4dcc-8f25-96c0736675e8",
   "metadata": {},
   "source": [
    "## Calculating the sum of the digits of a number input by the user, using the while loop."
   ]
  },
  {
   "cell_type": "code",
   "execution_count": 2,
   "id": "74309684-7325-4152-8d55-f4e9fb8a3134",
   "metadata": {},
   "outputs": [
    {
     "name": "stdin",
     "output_type": "stream",
     "text": [
      "Enter a number:  123\n"
     ]
    },
    {
     "name": "stdout",
     "output_type": "stream",
     "text": [
      "The sum of the digits is 6.\n"
     ]
    }
   ],
   "source": [
    "number = int(input(\"Enter a number: \"))\n",
    "sum_of_digits = 0\n",
    "while number > 0:\n",
    "    digit = number % 10\n",
    "    sum_of_digits += digit\n",
    "    number = number // 10 # Result rounded down to the nearest integer, discarding any remainder. \n",
    "                          # e.g 123 // 10 = 12\n",
    "print(f\"The sum of the digits is {sum_of_digits}.\")"
   ]
  },
  {
   "cell_type": "markdown",
   "id": "725ff70c-d1c3-4417-a52f-cc917f5bf635",
   "metadata": {},
   "source": [
    "## To check whether the involved inputed number is a prime number, using the while loop"
   ]
  },
  {
   "cell_type": "code",
   "execution_count": 9,
   "id": "241281d0-82d9-45e0-bb7d-ad05e456e80d",
   "metadata": {},
   "outputs": [
    {
     "name": "stdin",
     "output_type": "stream",
     "text": [
      "Enter a number:  59\n"
     ]
    },
    {
     "name": "stdout",
     "output_type": "stream",
     "text": [
      "59 is a prime number.\n"
     ]
    }
   ],
   "source": [
    "number = int(input(\"Enter a number: \"))\n",
    "is_prime = True\n",
    "if number <= 1:\n",
    "    is_prime = False\n",
    "else:\n",
    "    for i in range(2, int(number ** 0.5)+1): # i.e, to the square root of the involved number\n",
    "        if number % i == 0:\n",
    "            is_prime = False\n",
    "            break\n",
    "if is_prime:\n",
    "    print(f\"{number} is a prime number.\")\n",
    "else:\n",
    "    print(f\"{number} is not a prime number.\")"
   ]
  },
  {
   "cell_type": "code",
   "execution_count": null,
   "id": "4ecf3d1f-aa8a-4f99-a6db-bdf9fddbea14",
   "metadata": {},
   "outputs": [],
   "source": []
  }
 ],
 "metadata": {
  "kernelspec": {
   "display_name": "Python 3 (ipykernel)",
   "language": "python",
   "name": "python3"
  },
  "language_info": {
   "codemirror_mode": {
    "name": "ipython",
    "version": 3
   },
   "file_extension": ".py",
   "mimetype": "text/x-python",
   "name": "python",
   "nbconvert_exporter": "python",
   "pygments_lexer": "ipython3",
   "version": "3.12.4"
  }
 },
 "nbformat": 4,
 "nbformat_minor": 5
}
