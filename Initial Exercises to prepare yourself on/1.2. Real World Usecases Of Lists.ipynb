{
 "cells": [
  {
   "cell_type": "markdown",
   "id": "62e1e090-aec8-4809-a5ff-21c510a4f4a2",
   "metadata": {},
   "source": [
    "## Example 1: Managing a To Do List"
   ]
  },
  {
   "cell_type": "code",
   "execution_count": null,
   "id": "66d6a560-0303-4cc3-b64b-bc4f22f83ffa",
   "metadata": {},
   "outputs": [],
   "source": [
    "# List are the most common data structure, commonly used everywhere, within large applications as shown throught the examples below."
   ]
  },
  {
   "cell_type": "code",
   "execution_count": 2,
   "id": "30643f58-2b6a-4711-b23f-1015c09b6999",
   "metadata": {},
   "outputs": [
    {
     "name": "stdout",
     "output_type": "stream",
     "text": [
      "Don't forget to pay the utility bills\n",
      "To Do list remaining\n",
      "Buy groceries\n",
      "Pay bills\n",
      "Schedule meeting\n",
      "Go for jogging\n"
     ]
    }
   ],
   "source": [
    "to_do_list = [\"Buy groceries\",\"Clean the house\",\"Pay bills\"] # i.e out To Do list, which is a list data structure\n",
    "\n",
    "## Now given that there's another task and I wish to add that to my 'To Do' list,\n",
    "to_do_list.append(\"Schedule meeting\")\n",
    "to_do_list.append(\"Go for jogging\")\n",
    "\n",
    "# Given that the first task that I completed was cleaning my house, I should now remove it\n",
    "to_do_list.remove(\"Clean the house\")\n",
    "\n",
    "## Checking if a task, is currently within the list\n",
    "if \"Pay bills\" in to_do_list:\n",
    "    print(\"Don't forget to pay the utility bills\")\n",
    "\n",
    "print(\"To Do list remaining\")\n",
    "for task in to_do_list:\n",
    "    print(f\"{task}\")"
   ]
  },
  {
   "cell_type": "markdown",
   "id": "85657d12-8144-41df-bb46-62b8d6cb173f",
   "metadata": {},
   "source": [
    "## Example 2: Organizing Student Grades"
   ]
  },
  {
   "cell_type": "code",
   "execution_count": 8,
   "id": "c63bad01-72f2-4d05-a955-07bdfe81bd2d",
   "metadata": {},
   "outputs": [
    {
     "name": "stdout",
     "output_type": "stream",
     "text": [
      "86.6\n",
      "Average Grade: 88.00\n",
      "Highest Grade = 95\n",
      "Lowest Grade = 78\n"
     ]
    }
   ],
   "source": [
    "grades = [85, 92, 78, 90, 88]\n",
    "print(sum(grades) / len(grades))\n",
    "\n",
    "# Now I want to add a new grade\n",
    "grades.append(95)\n",
    "\n",
    "# Now calculating the overall average grade,\n",
    "average_grade = sum(grades) / len(grades)\n",
    "print(f\"Average Grade: {average_grade:.2f}\")\n",
    "\n",
    "# Now finding our lowest and highest grades now,\n",
    "highest_grade = max(grades)\n",
    "lowest_grade = min(grades)\n",
    "print(f\"Highest Grade = {highest_grade}\")\n",
    "print(f\"Lowest Grade = {lowest_grade}\")"
   ]
  },
  {
   "cell_type": "markdown",
   "id": "6e071228-e171-45ab-a23f-4192da6b6d76",
   "metadata": {},
   "source": [
    "## Example 3: Managing an Inventory"
   ]
  },
  {
   "cell_type": "code",
   "execution_count": 16,
   "id": "d9f709a3-276a-48b4-bf72-64f26d788e5a",
   "metadata": {},
   "outputs": [
    {
     "name": "stdout",
     "output_type": "stream",
     "text": [
      "strawberries are in stock.\n",
      "Inventory List: \n",
      "apples\n",
      "oranges\n",
      "grapes\n",
      "strawberries\n"
     ]
    }
   ],
   "source": [
    "# Inventories are the main thing managed by e-commerce companies\n",
    "\n",
    "## For example\n",
    "inventory = [\"apples\", \"bananas\", \"oranges\", \"grapes\"]\n",
    "\n",
    "# Adding a new item within our list\n",
    "inventory.append(\"strawberries\")\n",
    "\n",
    "# Removing an item\n",
    "inventory.remove(\"bananas\") # After it was been ordered by someone\n",
    "\n",
    "# Checking if an item, is in stock\n",
    "item = \"strawberries\"\n",
    "if item in inventory:\n",
    "    print(f\"{item} are in stock.\")\n",
    "else:\n",
    "    print(f\"{item} currently out of stock\")\n",
    "\n",
    "## Finally, printing our inventory\n",
    "print(\"Inventory List: \")\n",
    "for item in inventory:\n",
    "    print(f\"{item}\")"
   ]
  },
  {
   "cell_type": "markdown",
   "id": "0387a6cb-c775-4627-8956-3eb5800db483",
   "metadata": {},
   "source": [
    "## Example 4: Collecting and Analyzing User Feedback"
   ]
  },
  {
   "cell_type": "code",
   "execution_count": 32,
   "id": "87889680-0b85-4ea2-811f-7817653015c4",
   "metadata": {},
   "outputs": [
    {
     "name": "stdout",
     "output_type": "stream",
     "text": [
      "Positive Feedback Count: 2\n",
      "User Feedback: \n",
      "- Great Service\n",
      "- Very satisfied\n",
      "- Could be better\n",
      "- Excellent experience\n",
      "- Not happy with the service\n"
     ]
    }
   ],
   "source": [
    "# Collecting User Feedback\n",
    "feedback = [\"Great Service\", \"Very satisfied\", \"Could be better\", \"Excellent experience\"]\n",
    "\n",
    "# Adding a new feedback\n",
    "feedback.append(\"Not happy with the service\")\n",
    "\n",
    "# Filtering out words,from every specific feedback\n",
    "positive_feedback_count = sum(1 for comment in feedback if \"great\" in comment.lower() or \"excellent\" in comment.lower())\n",
    "print(f\"Positive Feedback Count: {positive_feedback_count}\")\n",
    "\n",
    "# Finally, printing now all the feedbacks,\n",
    "print(\"User Feedback: \")\n",
    "for comment in feedback:\n",
    "    print(f\"- {comment}\")"
   ]
  },
  {
   "cell_type": "code",
   "execution_count": null,
   "id": "03b845cc-fe2c-45d1-8626-69f663dc7337",
   "metadata": {},
   "outputs": [],
   "source": []
  }
 ],
 "metadata": {
  "kernelspec": {
   "display_name": "Python 3 (ipykernel)",
   "language": "python",
   "name": "python3"
  },
  "language_info": {
   "codemirror_mode": {
    "name": "ipython",
    "version": 3
   },
   "file_extension": ".py",
   "mimetype": "text/x-python",
   "name": "python",
   "nbconvert_exporter": "python",
   "pygments_lexer": "ipython3",
   "version": "3.12.4"
  }
 },
 "nbformat": 4,
 "nbformat_minor": 5
}
