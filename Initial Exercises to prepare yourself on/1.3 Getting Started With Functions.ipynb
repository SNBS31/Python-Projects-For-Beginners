{
 "cells": [
  {
   "cell_type": "code",
   "execution_count": null,
   "id": "0538cbca-d3fb-473b-9da0-bf21fb8a6c5e",
   "metadata": {},
   "outputs": [],
   "source": [
    "# Functions, are the most important module of Python."
   ]
  },
  {
   "cell_type": "code",
   "execution_count": null,
   "id": "8683addd-9199-46eb-8c69-4d278ed955e4",
   "metadata": {},
   "outputs": [],
   "source": [
    "## it's syntax\n",
    "def function_name(parameters): # The involved 'parameters', will be defined here\n",
    "    \"\"\"Docstring\"\"\" # A personal summarry of what the function does, to help those reading to engage and understand\n",
    "    # Function body(i.e, all the code we'll be using inside the function)\n",
    "    return expression # This might be optional, not compulsory to put at the end of every function.\n",
    "                      # The expression here can be a combination of values, variables, operators, and function calls.\n",
    "                      # e.g c(=a+b) initailly defined above, within the function.     "
   ]
  },
  {
   "cell_type": "code",
   "execution_count": 16,
   "id": "93708b57-7ea2-4de7-b5f5-bdd43ab43b09",
   "metadata": {},
   "outputs": [],
   "source": [
    "## why functions?\n",
    "def even_or_odd(num):\n",
    "    \"\"\"                                                                                                              \n",
    "    This function(as every other function), can be reused anywhere else, to find out if a number is even or odd    \n",
    "    This removes the stress of having to write the same code, over and over again.\n",
    "    \"\"\" # But this Docstring is very good practice, though it's Optional(not compulsory).                                                                                                                  \n",
    "    if num%2 == 0:\n",
    "        print(\"This number is even!\")\n",
    "    else:\n",
    "        print(\"This number is odd!\")"
   ]
  },
  {
   "cell_type": "code",
   "execution_count": 20,
   "id": "d54fdcc3-f6ba-4b17-91fb-5a0337c499d4",
   "metadata": {},
   "outputs": [
    {
     "name": "stdout",
     "output_type": "stream",
     "text": [
      "This number is odd!\n"
     ]
    }
   ],
   "source": [
    "# Now calling our above function to use it here now,\n",
    "even_or_odd(37)"
   ]
  },
  {
   "cell_type": "code",
   "execution_count": 24,
   "id": "8e9fc99f-704b-479c-8fb3-56ca2d15dda2",
   "metadata": {},
   "outputs": [
    {
     "name": "stdout",
     "output_type": "stream",
     "text": [
      "9\n"
     ]
    }
   ],
   "source": [
    "## function with multiple parameters\n",
    "def add(a,b):\n",
    "    c = a + b\n",
    "    return c\n",
    "result = add(5,4) # Always good practice to print the results but 'immediately after outside' \n",
    "print(result)     # the function,as it helps each function responsible for its own output.\n"
   ]
  },
  {
   "cell_type": "code",
   "execution_count": null,
   "id": "174c5258-0006-4a24-ba94-c54e499ef118",
   "metadata": {},
   "outputs": [],
   "source": [
    "# OR, What we can literally do is"
   ]
  },
  {
   "cell_type": "code",
   "execution_count": 26,
   "id": "f6def154-0927-475f-ad81-b422ed070f44",
   "metadata": {},
   "outputs": [
    {
     "name": "stdout",
     "output_type": "stream",
     "text": [
      "6\n"
     ]
    }
   ],
   "source": [
    "def add(a, b):\n",
    "    return a+b    \n",
    "result = add(2,4)\n",
    "print(result)"
   ]
  },
  {
   "cell_type": "code",
   "execution_count": 28,
   "id": "3528622f-4dc3-49d9-a6d7-8b252afe1f08",
   "metadata": {},
   "outputs": [
    {
     "name": "stdout",
     "output_type": "stream",
     "text": [
      "Hello Mosco! Welcome to Paradise\n"
     ]
    }
   ],
   "source": [
    "## Default parameters\n",
    "def greet(name):\n",
    "    print(f\"Hello {name}! Welcome to Paradise\")\n",
    "greet(\"Mosco\")    "
   ]
  },
  {
   "cell_type": "code",
   "execution_count": 34,
   "id": "ebdfd8f9-e26b-43f5-97fe-bbf065427c49",
   "metadata": {},
   "outputs": [
    {
     "name": "stdout",
     "output_type": "stream",
     "text": [
      "Hello Salle! Welcome to Paradise\n"
     ]
    }
   ],
   "source": [
    "def greet(name=\"Guest\"): # Where 'Guest', is 'the default parameter', in case if a name \n",
    "                         # wasn't been given below, during the call out.\n",
    "    print(f\"Hello {name}! Welcome to Paradise\")\n",
    "greet() # But if there was a name within this parenthesis, there'll be no need again to \n",
    "        # use the default parameter above."
   ]
  },
  {
   "cell_type": "code",
   "execution_count": 36,
   "id": "6bcab4a1-c37e-485e-9c56-ec5e904d8d5c",
   "metadata": {},
   "outputs": [],
   "source": [
    "### Variable Length Arguments\n",
    "## Positional and Keyword arguments\n",
    "\n",
    "# Positional Arguments\n",
    "def print_numbers(*args): # Meaning we have multiple arguments(e.g num1, num2, .....),\n",
    "    for number in args:   # We can use any other variable name, but 'args' is more\n",
    "        print(number)     # recognisable for people golbally, to relate to.\n",
    "                          # But it's straineous to write all of them here, the '*args*\n",
    "                          # accepts an arbitrary number of positional arguments.\n",
    "    "
   ]
  },
  {
   "cell_type": "code",
   "execution_count": 40,
   "id": "500a6bc9-cfe0-4ddf-a912-0e4643e1ef62",
   "metadata": {},
   "outputs": [
    {
     "name": "stdout",
     "output_type": "stream",
     "text": [
      "1\n",
      "2\n",
      "3\n",
      "4\n",
      "55\n",
      "6\n",
      "3\n",
      "2\n",
      "Ajanoh\n",
      "233\n"
     ]
    }
   ],
   "source": [
    "print_numbers(1,2,3,4,55,6,3,2, \"Ajanoh\", 233) # Each of these arguments, are what we call\n",
    "                                          # positional arguments.\n",
    "                                          # All of these parameters irrespective of their\n",
    "                                          # number and different data types, will be\n",
    "                                          # referenced by our above '*args'\n",
    "                                          # Hence,our variable '*args' will be referring\n",
    "                                          # all of these particular positional arguments."
   ]
  },
  {
   "cell_type": "code",
   "execution_count": 44,
   "id": "97cc481e-202c-4769-b86f-e812ca30cf13",
   "metadata": {},
   "outputs": [
    {
     "name": "stdout",
     "output_type": "stream",
     "text": [
      "Name:Salle\n",
      "Age:24\n",
      "Country:Cameroon\n"
     ]
    }
   ],
   "source": [
    "# Keyword Arguments\n",
    "def print_details(**kwargs): # As all of the parameters here, will be in the form of\n",
    "                             # 'key-value' pairs.\n",
    "    for key,value in kwargs.items():\n",
    "        print(f\"{key}:{value}\")\n",
    "\n",
    "print_details(Name=\"Salle\",Age=\"24\",Country=\"Cameroon\") # As all of these parameters/\n",
    "                                                        # keyword arguments, will be referenced \n",
    "                                                        # by the variable '**kwargs'"
   ]
  },
  {
   "cell_type": "code",
   "execution_count": 46,
   "id": "949faad8-3629-4500-bad0-49aa10902963",
   "metadata": {},
   "outputs": [],
   "source": [
    "def print_details(*args,**kwargs):\n",
    "    for val in args:   \n",
    "        print(f\"Positional argument :{val}\")\n",
    "    for key,value in kwargs.items():\n",
    "        print(f\"{key}:{value}\")\n"
   ]
  },
  {
   "cell_type": "code",
   "execution_count": 52,
   "id": "08264670-b0c2-4822-aa10-173f7382493d",
   "metadata": {},
   "outputs": [
    {
     "name": "stdout",
     "output_type": "stream",
     "text": [
      "Positional argument :1\n",
      "Positional argument :2\n",
      "Positional argument :3\n",
      "Positional argument :4\n",
      "Positional argument :55\n",
      "Positional argument :6\n",
      "Positional argument :3\n",
      "Positional argument :2\n",
      "Positional argument :Ajanoh\n",
      "Positional argument :233\n",
      "Name:Salle\n",
      "Age:24\n",
      "Country:Cameroon\n"
     ]
    }
   ],
   "source": [
    "print_details(1,2,3,4,55,6,3,2, \"Ajanoh\", 233,Name=\"Salle\",Age=\"24\",Country=\"Cameroon\")\n",
    "# As shown from the below result, all the postional arguments must come first, b4 the\n",
    "# keyword one Or else, it will give an error."
   ]
  },
  {
   "cell_type": "code",
   "execution_count": 60,
   "id": "8bb2f2d9-d55f-4a77-937e-31d1f1a8b985",
   "metadata": {},
   "outputs": [
    {
     "data": {
      "text/plain": [
       "9"
      ]
     },
     "execution_count": 60,
     "metadata": {},
     "output_type": "execute_result"
    }
   ],
   "source": [
    "### The 'return' statement\n",
    "# It is a command which means to 'return/send something back, \"right after\" the execution\n",
    "# of the involved statement'. It doesn't mean to print out at all!!\n",
    "def multiply(a,b):\n",
    "    return a*b # Which doesn't mean to print out the output\n",
    "multiply(3,3) # This now prints out the output"
   ]
  },
  {
   "cell_type": "code",
   "execution_count": 56,
   "id": "47a26c4c-3c2e-4b4f-98fa-b8ca8da0ed4a",
   "metadata": {},
   "outputs": [
    {
     "data": {
      "text/plain": [
       "(9, 3)"
      ]
     },
     "execution_count": 56,
     "metadata": {},
     "output_type": "execute_result"
    }
   ],
   "source": [
    "# Now let's see whether functions can 'return' multiple values or not\n",
    "\n",
    "## Returning multiple parameters\n",
    "def multiply(a,b):\n",
    "    return a*b,a\n",
    "\n",
    "multiply(3,3)"
   ]
  },
  {
   "cell_type": "code",
   "execution_count": null,
   "id": "69e90971-d173-4d36-85a9-2390ac35dd03",
   "metadata": {},
   "outputs": [],
   "source": [
    "# Hence in Python as shown above, a function can return multiple values."
   ]
  }
 ],
 "metadata": {
  "kernelspec": {
   "display_name": "Python 3 (ipykernel)",
   "language": "python",
   "name": "python3"
  },
  "language_info": {
   "codemirror_mode": {
    "name": "ipython",
    "version": 3
   },
   "file_extension": ".py",
   "mimetype": "text/x-python",
   "name": "python",
   "nbconvert_exporter": "python",
   "pygments_lexer": "ipython3",
   "version": "3.12.4"
  }
 },
 "nbformat": 4,
 "nbformat_minor": 5
}
