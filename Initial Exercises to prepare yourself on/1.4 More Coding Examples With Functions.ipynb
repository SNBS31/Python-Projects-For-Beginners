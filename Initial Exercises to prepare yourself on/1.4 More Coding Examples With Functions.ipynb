{
 "cells": [
  {
   "cell_type": "markdown",
   "id": "51959d30-b4c9-46a5-b09d-e99c3a38274d",
   "metadata": {},
   "source": [
    "## Example 1: Creating a function, for Temperature Conversion"
   ]
  },
  {
   "cell_type": "code",
   "execution_count": 5,
   "id": "c11a10ee-d772-4d74-8c13-dc0d9e131ad5",
   "metadata": {},
   "outputs": [
    {
     "name": "stdout",
     "output_type": "stream",
     "text": [
      "77.0\n",
      "25.0\n"
     ]
    }
   ],
   "source": [
    "def convert_temperature(temp,unit):\n",
    "    \"\"\"The conversion here is between Celsius, and Fahrenheit\"\"\"\n",
    "    if unit=='C':\n",
    "        return temp * 9/5 + 32 # i.e, from Celsius to Fahrenheit\n",
    "    elif unit=='F':\n",
    "        return (temp-32)*5/9 ## i.e, from Fahrenheit to Celsius this time \n",
    "    else:\n",
    "        return None\n",
    "\n",
    "# We have to use the print here to display the output(as always), if not It will not go\n",
    "print(convert_temperature(25,'C'))\n",
    "print(convert_temperature(77,'F'))"
   ]
  },
  {
   "cell_type": "markdown",
   "id": "8f1a3575-b8f7-479b-ad66-8f259718e1d2",
   "metadata": {},
   "source": [
    "## Example 2: Password Strength Checker"
   ]
  },
  {
   "cell_type": "code",
   "execution_count": 14,
   "id": "65a41fc1-5e4e-4dcd-a46e-db65a83c3f04",
   "metadata": {},
   "outputs": [
    {
     "name": "stdout",
     "output_type": "stream",
     "text": [
      "False\n",
      "True\n"
     ]
    }
   ],
   "source": [
    "def is_strong_password(password):\n",
    "    \"\"\"This function will check whether our inputed password is strong or not\"\"\"\n",
    "    if len(password)<8:\n",
    "        return False\n",
    "    if not any(char.isdigit() for char in password): # i.e check till the end to see if there's any character digit number within the password\n",
    "        return False\n",
    "    if not any(char.islower() for char in password): # Meaning a strong password should have at least a lower case within.    \n",
    "        return False\n",
    "    if not any(char.isupper() for char in password): # Meaning a strong password should have at least an upper case character within.    \n",
    "        return False    \n",
    "    if not any(char in '!@#$%()*+_&' for char in password): # Meaning a strong password must have at least one of these given special characters within.\n",
    "        return False    \n",
    "    return True\n",
    "\n",
    "print(is_strong_password(\"whdcHk\"))\n",
    "print(is_strong_password(\"wx3JH!fdhvdck\"))"
   ]
  },
  {
   "cell_type": "markdown",
   "id": "2ce20f9e-2f36-4704-a826-2938d666cc73",
   "metadata": {},
   "source": [
    "## Example 3: Calculating the Total Cost of Items, in a Shopping Cart"
   ]
  },
  {
   "cell_type": "code",
   "execution_count": 28,
   "id": "cd6e8227-9acd-4a16-b93c-be693f1aec48",
   "metadata": {},
   "outputs": [
    {
     "name": "stdout",
     "output_type": "stream",
     "text": [
      "5.8999999999999995\n"
     ]
    }
   ],
   "source": [
    "def calculate_total_cost(cart):\n",
    "    #pass # To first of all see the kind of data I have below, b4 coming back to remove it, then write our code\n",
    "    total_cost = 0\n",
    "    for item in cart:\n",
    "        total_cost += item['price']*item['quantity']\n",
    "\n",
    "    return total_cost # Must be on the same line, with it's above for loop.\n",
    "    \n",
    "# Now Example of cart data, which must be written totally outside the above for loop\n",
    "cart=[\n",
    "    {'name':'Apple','price':0.5,'quantity':4},  # Make sure that each dictionary starts from being idented by '4 spaces'(Tab space)\n",
    "    {'name':'Banana','price':0.3,'quantity':6}, # The price here, is per quantity\n",
    "    {'name':'Orange','price':0.7,'quantity':3}\n",
    "]\n",
    "\n",
    "# Now calling the function,\n",
    "total_cost = calculate_total_cost(cart) # In which cart(the list of dictionaries) is my data needed here\n",
    "\n",
    "# Finally, printing our total cost result,\n",
    "print(total_cost) # Below will be the total cost, with respect to the items I actually bought"
   ]
  },
  {
   "cell_type": "markdown",
   "id": "2552a55a-8fcc-460b-888b-92f61330a7b4",
   "metadata": {},
   "source": [
    "## Example 4: Checking if a given string is Palindrome"
   ]
  },
  {
   "cell_type": "code",
   "execution_count": 5,
   "id": "3e5230c9-f245-4898-8e0f-fff1e8402c52",
   "metadata": {},
   "outputs": [
    {
     "name": "stdout",
     "output_type": "stream",
     "text": [
      "True\n",
      "False\n"
     ]
    }
   ],
   "source": [
    "# Meaning when reading the string both front and back, it is the same thing\n",
    "def is_palindrome(s): # Where 's', is the given string\n",
    "    s=s.lower().replace(\" \",\"\")  # As these characters need to be lowered first, b4 the empty strings/spaces within our given string being removed completely.\n",
    "    return s==s[:: -1] # As 's[::]' selects all the elements of the string, WHILE the '-1' reverses the order of our stepping, i.e reverses the specific string\n",
    "                       # The conditional statement here will be either 'True' of 'False'\n",
    "\n",
    "# NOTE that we return within the function, but we print our results but on the same line as the 'def', outside the function.\n",
    "print(is_palindrome(\"A man a plan a canal Panama\")) # Looks similar, when carefully read from both sides.\n",
    "print(is_palindrome(\"Hello\"))"
   ]
  },
  {
   "cell_type": "markdown",
   "id": "c5d9f9dc-4427-41bb-a536-3773c2fb185c",
   "metadata": {},
   "source": [
    "### Example 4: Calculating the factorial of a number, using recursion"
   ]
  },
  {
   "cell_type": "code",
   "execution_count": 17,
   "id": "98856f6d-5b79-44fb-bfd8-1a00e3cebcc5",
   "metadata": {},
   "outputs": [
    {
     "name": "stdout",
     "output_type": "stream",
     "text": [
      "24\n"
     ]
    }
   ],
   "source": [
    "# Recursion means a created function, within which 'the inside body of that function' is 'being called over and over again'.\n",
    "\n",
    "# Normally, 5!=5*4*3*2*1\n",
    "def factorial(n):\n",
    "    if n==0:\n",
    "        return 1\n",
    "    else:\n",
    "        return n * factorial(n-1) # Hence recursion, since we're bizarrely still calling the same function, inside the function.\n",
    "\n",
    "print(factorial(4))\n"
   ]
  },
  {
   "cell_type": "markdown",
   "id": "99cbadb6-db62-4ad5-9d3b-f4036ca83397",
   "metadata": {},
   "source": [
    "## Example 6: A function to read a file, and count the frequency of each word"
   ]
  },
  {
   "cell_type": "code",
   "execution_count": 1,
   "id": "1c5c1741-a111-4555-b12d-ad49e3beb2ab",
   "metadata": {},
   "outputs": [
    {
     "name": "stdout",
     "output_type": "stream",
     "text": [
      "{'hello': 1, 'mosco': 3, 'how': 1, 'you': 2, 'doing': 1, 'are': 1, 'fine': 1, 'right': 1}\n"
     ]
    }
   ],
   "source": [
    "def count_word_frequency(file_path): # In which the best way to read a file path, is using the 'with open' function as we'll see below.\n",
    "    word_count = {} # The dictionary here must be empty, as I'll need it to count the frequency of each word.\n",
    "    with open(file_path,'r') as file: # With \"'r'\", meaning opening the file in 'read' mode.\n",
    "        for line in file:\n",
    "            words=line.split() # Meaning taking each, 'word-by-word'.\n",
    "            for word in words: # Since I'll have to access the 'words' variable now since it's the one(compared to the 'words' variable), already associated with a value. This is why it comes last in our for statement.\n",
    "                               # WHILE\n",
    "                               # The temporary variable 'word' is already been used here in our function of code, b4 it even been assigned a value. This is why it comes first in our for statement.\n",
    "                word=word.lower().strip('.,!?;:\"\\'') # As 'strip()' here means to remove such characters. \n",
    "                word_count[word]=word_count.get(word,0)+1 # From the get(), it means that if there's no specific word after the search,\n",
    "                                                          # let the value there be assigned to ZERO.\n",
    "                                                          # OTHERWISE. Increment with 1.\n",
    "    return word_count\n",
    "\n",
    "filepath = 'Sample.txt' # As we run this command from the same folder location as where we stored the Sample.txt\n",
    "                        # This is a different 'filepath', compared to the parameter in our directly above function created.\n",
    "word_frequency = count_word_frequency(filepath)\n",
    "print(word_frequency)"
   ]
  },
  {
   "cell_type": "markdown",
   "id": "0b7b533b-29f2-44a6-9bf4-8963447e549b",
   "metadata": {},
   "source": [
    "## Example 7: Validate Email Address"
   ]
  },
  {
   "cell_type": "code",
   "execution_count": 8,
   "id": "b1f026ae-e42f-4e6b-930b-da366dfb5265",
   "metadata": {},
   "outputs": [
    {
     "name": "stdout",
     "output_type": "stream",
     "text": [
      "True\n",
      "False\n"
     ]
    }
   ],
   "source": [
    "# Meaning is see if the given email is valid(has been correctly established) or not\n",
    "import re\n",
    "\n",
    "# The email validation function now\n",
    "def is_valid_email(email):\n",
    "    \"\"\"To check whether the email is valid or not\"\"\"\n",
    "    pattern = r'^[a-zA-Z0-9_.+-]+@[a-zA-Z0-9-]+[a-zA-Z0-9-.]+$'\n",
    "    return re.match(pattern, email) is not None\n",
    "\n",
    "print(is_valid_email(\"test@example.com\"))\n",
    "print(is_valid_email(\"invalid-something\"))"
   ]
  },
  {
   "cell_type": "code",
   "execution_count": null,
   "id": "71eb95e3-b93d-475a-bc36-387ad749ce88",
   "metadata": {},
   "outputs": [],
   "source": []
  }
 ],
 "metadata": {
  "kernelspec": {
   "display_name": "Python 3 (ipykernel)",
   "language": "python",
   "name": "python3"
  },
  "language_info": {
   "codemirror_mode": {
    "name": "ipython",
    "version": 3
   },
   "file_extension": ".py",
   "mimetype": "text/x-python",
   "name": "python",
   "nbconvert_exporter": "python",
   "pygments_lexer": "ipython3",
   "version": "3.12.4"
  }
 },
 "nbformat": 4,
 "nbformat_minor": 5
}
