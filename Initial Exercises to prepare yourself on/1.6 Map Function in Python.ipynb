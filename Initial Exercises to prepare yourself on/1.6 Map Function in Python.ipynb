{
 "cells": [
  {
   "cell_type": "code",
   "execution_count": null,
   "id": "1eff7ce3-cc5e-47fb-a5bd-0a75f5a19b1a",
   "metadata": {},
   "outputs": [],
   "source": [
    "## Hence, the map() is used to transform data in a list comprehensively"
   ]
  },
  {
   "cell_type": "code",
   "execution_count": 1,
   "id": "8d23f5a8-6bb6-42e8-94a4-d747c644afb8",
   "metadata": {},
   "outputs": [
    {
     "data": {
      "text/plain": [
       "100"
      ]
     },
     "execution_count": 1,
     "metadata": {},
     "output_type": "execute_result"
    }
   ],
   "source": [
    "def square(x):\n",
    "    return x*x\n",
    "square(10)"
   ]
  },
  {
   "cell_type": "code",
   "execution_count": 3,
   "id": "766dc55d-a66d-4884-8eff-6ac51a26dda4",
   "metadata": {},
   "outputs": [
    {
     "data": {
      "text/plain": [
       "<map at 0x1a0776a1930>"
      ]
     },
     "execution_count": 3,
     "metadata": {},
     "output_type": "execute_result"
    }
   ],
   "source": [
    "numbers = [1,2,3,4,5,6,7,8]\n",
    "map(square,numbers)"
   ]
  },
  {
   "cell_type": "code",
   "execution_count": 5,
   "id": "89e382ce-8ea1-4a08-a64b-312628f01301",
   "metadata": {},
   "outputs": [
    {
     "data": {
      "text/plain": [
       "list[<map object at 0x000001A07A2163B0>]"
      ]
     },
     "execution_count": 5,
     "metadata": {},
     "output_type": "execute_result"
    }
   ],
   "source": [
    "list[map(square,numbers)]"
   ]
  },
  {
   "cell_type": "code",
   "execution_count": 7,
   "id": "859432d1-ccf2-458e-8d72-1ae2133993d3",
   "metadata": {},
   "outputs": [
    {
     "data": {
      "text/plain": [
       "[1, 4, 9, 16, 25, 36, 49, 64]"
      ]
     },
     "execution_count": 7,
     "metadata": {},
     "output_type": "execute_result"
    }
   ],
   "source": [
    "# Now in order to see the output,\n",
    "list(map(square,numbers))"
   ]
  },
  {
   "cell_type": "code",
   "execution_count": 9,
   "id": "5e7a29dd-ff9b-46c7-9a8b-06e64aa57577",
   "metadata": {},
   "outputs": [
    {
     "data": {
      "text/plain": [
       "[1, 4, 9, 16, 25, 36, 49, 64]"
      ]
     },
     "execution_count": 9,
     "metadata": {},
     "output_type": "execute_result"
    }
   ],
   "source": [
    "## Lambda function with map\n",
    "numbers = [1,2,3,4,5,6,7,8]\n",
    "list(map(lambda x:x*x,numbers))"
   ]
  },
  {
   "cell_type": "code",
   "execution_count": 13,
   "id": "aac18a42-11b1-4008-a3a9-e9fb3bb9ad2f",
   "metadata": {},
   "outputs": [
    {
     "name": "stdout",
     "output_type": "stream",
     "text": [
      "[5, 7, 9]\n"
     ]
    }
   ],
   "source": [
    "# But can we map multiple iterables?\n",
    "numbers1=[1,2,3]\n",
    "numbers2=[4,5,6]\n",
    "# What we want to do now is to take each and every element, and add both of them,\n",
    "# making our result to be [5,7,9].\n",
    "# Can we do this by mapping multiple iterables?\n",
    "add_numbers= list(map(lambda x,y:x+y,numbers1,numbers2))\n",
    "\n",
    "print(add_numbers)"
   ]
  },
  {
   "cell_type": "code",
   "execution_count": 15,
   "id": "bf6eef9b-4255-453e-aa06-de531a93c014",
   "metadata": {},
   "outputs": [
    {
     "name": "stdout",
     "output_type": "stream",
     "text": [
      "[1, 2, 3, 4, 5]\n"
     ]
    }
   ],
   "source": [
    "# Hence, from the above demonstration, there are multiple things we can do with\n",
    "# map.\n",
    "\n",
    "# Below is an example now of map converting a list of strings into integers.\n",
    "str_numbers = ['1', '2', '3', '4', '5']\n",
    "int_numbers = list(map(int, str_numbers))\n",
    "\n",
    "print(int_numbers) # Output: [1, 2, 3, 4, 5]. Hence, this demonstrates 'typecasting'\n",
    "                   # (i.e, converting a value of one data type to another)."
   ]
  },
  {
   "cell_type": "code",
   "execution_count": 19,
   "id": "9b5403e1-fb35-487f-b751-39801ff21cee",
   "metadata": {},
   "outputs": [
    {
     "name": "stdout",
     "output_type": "stream",
     "text": [
      "['APPLE', 'BANANA', 'CHERRY']\n"
     ]
    }
   ],
   "source": [
    "words=[\"apple\",\"banana\",\"cherry\"]\n",
    "upper_word=list(map(str.upper,words))\n",
    "\n",
    "print(upper_word)"
   ]
  },
  {
   "cell_type": "code",
   "execution_count": 23,
   "id": "24a53884-d099-4d8f-8125-752981c9e6e9",
   "metadata": {},
   "outputs": [
    {
     "data": {
      "text/plain": [
       "['Salle', 'Krish']"
      ]
     },
     "execution_count": 23,
     "metadata": {},
     "output_type": "execute_result"
    }
   ],
   "source": [
    "def get_name(person):\n",
    "    return person['name']\n",
    "\n",
    "# But if I have but a list of dictionaries,\n",
    "people =[\n",
    "    {'name': 'Salle', 'age':24},\n",
    "    {'name': 'Krish', 'age':32}\n",
    "]\n",
    "list(map(get_name,people))"
   ]
  },
  {
   "cell_type": "code",
   "execution_count": null,
   "id": "65733c00-7a77-419c-99a9-aec010640740",
   "metadata": {},
   "outputs": [],
   "source": []
  }
 ],
 "metadata": {
  "kernelspec": {
   "display_name": "Python 3 (ipykernel)",
   "language": "python",
   "name": "python3"
  },
  "language_info": {
   "codemirror_mode": {
    "name": "ipython",
    "version": 3
   },
   "file_extension": ".py",
   "mimetype": "text/x-python",
   "name": "python",
   "nbconvert_exporter": "python",
   "pygments_lexer": "ipython3",
   "version": "3.12.4"
  }
 },
 "nbformat": 4,
 "nbformat_minor": 5
}
