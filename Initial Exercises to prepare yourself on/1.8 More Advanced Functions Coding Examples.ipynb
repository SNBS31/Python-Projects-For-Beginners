{
 "cells": [
  {
   "cell_type": "markdown",
   "id": "aa815d13-1fe1-49ca-90e8-7d641840f0ac",
   "metadata": {},
   "source": [
    "## Assignment 1: Fibonacci Sequence, with Memoization(i.e, transforming the results of our function into something rememberable)"
   ]
  },
  {
   "cell_type": "code",
   "execution_count": 6,
   "id": "70b3dd64-e4c3-499e-83b4-b755fc52ddb0",
   "metadata": {},
   "outputs": [
    {
     "name": "stdout",
     "output_type": "stream",
     "text": [
      "55\n",
      "610\n"
     ]
    }
   ],
   "source": [
    "##  Fibonacci Sequence\n",
    "# This refers to a series of numbers where each number is the sum of the two preceding ones, starting from 0 and 1.\n",
    "def fibonacci(n, memo={}):\n",
    "    if n in memo:\n",
    "        return memo[n]\n",
    "    if n <=1:\n",
    "        return n\n",
    "    memo[n] = fibonacci(n-1, memo) + fibonacci(n-2, memo)\n",
    "    return memo[n]\n",
    "\n",
    "# Let's test now\n",
    "print(fibonacci(10)) # 55\n",
    "print(fibonacci(15)) # 610"
   ]
  },
  {
   "cell_type": "markdown",
   "id": "569dfad9-be85-463e-877a-b3e79478e6fe",
   "metadata": {},
   "source": [
    "## Assignment 2: Function, with Nested default Arguments"
   ]
  },
  {
   "cell_type": "code",
   "execution_count": 9,
   "id": "fdccd8ec-2551-4e13-944c-068c2f854e35",
   "metadata": {},
   "outputs": [
    {
     "name": "stdout",
     "output_type": "stream",
     "text": [
      "{2: 4}\n",
      "{1: 1, 3: 9}\n"
     ]
    }
   ],
   "source": [
    "# We'll define a function of two arguments here, 'a' and 'b' where b is a dictionary, starting\n",
    "# as default an empty one. Our function will add a new key-value pair to it, and return it.\n",
    "# We'll test the function with different inputs.\n",
    "def add_to_dict(a, b=None):\n",
    "    if b is None:\n",
    "        b = {}\n",
    "    b[a] = a**2 # As we're accesseing the dictionary b now, using the key 'a' whose own value will be 'a**2'\n",
    "    return b\n",
    "\n",
    "# Let's Test\n",
    "print(add_to_dict(2)) \n",
    "print(add_to_dict(3, {1:1}))"
   ]
  },
  {
   "cell_type": "markdown",
   "id": "5f8dd6fe-abc8-4305-aeee-76694c699adf",
   "metadata": {},
   "source": [
    "## Assignment 3: Function, with Variable Keyword Arguments"
   ]
  },
  {
   "cell_type": "code",
   "execution_count": 14,
   "id": "aee5222a-47c2-4983-85c4-3df1fa3c5d46",
   "metadata": {},
   "outputs": [
    {
     "name": "stdout",
     "output_type": "stream",
     "text": [
      "{'a': 1, 'c': 3}\n",
      "{'x': 10, 'z': 20}\n"
     ]
    }
   ],
   "source": [
    "# Here, we'll define a function that takes as variable keyword arguments, and returns a dictionary\n",
    "# that contains only those key-value pairs, where the value is an integer.\n",
    "def filter_integers(**kwargs):\n",
    "    return {k: v for k, v in kwargs.items() if isinstance(v,int)}\n",
    "\n",
    "# Test\n",
    "print(filter_integers(a=1, b='two', c=3, d=4.5))\n",
    "print(filter_integers(x=10, y='yes', z=20))"
   ]
  },
  {
   "cell_type": "markdown",
   "id": "195d865a-269d-4f53-a20b-ee08e1409582",
   "metadata": {},
   "source": [
    "## Assginment 4: Function with Callback"
   ]
  },
  {
   "cell_type": "code",
   "execution_count": 17,
   "id": "55d83cd2-7e39-43a2-936f-8e16e1bf791e",
   "metadata": {},
   "outputs": [
    {
     "name": "stdout",
     "output_type": "stream",
     "text": [
      "[1, 4, 9, 16]\n",
      "[2, 3, 4, 5]\n"
     ]
    }
   ],
   "source": [
    "# This refers to a function, having the callback() function within it as one of it's \n",
    "# arguments in which the receiving function then calls the callback function at a later point\n",
    "# in time, often when a certain event or condition occurs or even when operation was been provided.\n",
    "def apply_callback(callback, lst):\n",
    "    return [callback(x) for x in lst]\n",
    "\n",
    "# Test\n",
    "print(apply_callback(lambda x: x**2, [1,2,3,4]))\n",
    "print(apply_callback(lambda x: x+1, [1,2,3,4]))"
   ]
  },
  {
   "cell_type": "markdown",
   "id": "063721e4-07aa-4890-a79a-c47bea184e42",
   "metadata": {},
   "source": [
    "## Assignment 5: A Function that returns a Function"
   ]
  },
  {
   "cell_type": "code",
   "execution_count": 20,
   "id": "16e5696d-0fa8-4429-a2a9-40c5357dd7f9",
   "metadata": {},
   "outputs": [
    {
     "name": "stdout",
     "output_type": "stream",
     "text": [
      "4\n",
      "25\n"
     ]
    }
   ],
   "source": [
    "# Our returned function in this case, should take an integer as input and return it's square.\n",
    "def the_outer_function():\n",
    "    def the_inner_function(x):\n",
    "        return x**2\n",
    "    return the_inner_function\n",
    "\n",
    "# Test\n",
    "square = the_outer_function()\n",
    "print(square(2))\n",
    "print(square(5))"
   ]
  },
  {
   "cell_type": "markdown",
   "id": "fa9fbb85-1d13-4c0f-bdd3-d41c0b8d182f",
   "metadata": {},
   "source": [
    "## Assignment 6: Function with Decorators"
   ]
  },
  {
   "cell_type": "code",
   "execution_count": 30,
   "id": "a7123fb3-6c2b-4813-9eab-9e2334a1b575",
   "metadata": {},
   "outputs": [
    {
     "name": "stdout",
     "output_type": "stream",
     "text": [
      "Function complex_calculation took 0.0019953250885009766 seconds to execute.\n",
      "333283335000\n"
     ]
    }
   ],
   "source": [
    "# Decorators are commonly used to modify the behavior of functions or classes, without directly\n",
    "# altering their source code.\n",
    "# The assignment here is to define a function that calculates the time taken to execute\n",
    "# another function. This other function, probably performs a complex calculation, and it's\n",
    "# the function we're applying the decorator to.\n",
    "import time\n",
    "\n",
    "def timer_decorator(func):\n",
    "    def wrapper(*args, **kwargs):\n",
    "        start_time = time.time()\n",
    "        result = func(*args, *kwargs)\n",
    "        end_time = time.time()\n",
    "        print(f\"Function {func.__name__} took {end_time - start_time} seconds to execute.\")\n",
    "        return result\n",
    "    return wrapper\n",
    "\n",
    "@timer_decorator # Applying now our decorator, to our below function of complex calculation,\n",
    "def complex_calculation(n):\n",
    "    return sum(x**2 for x in range(n))\n",
    "\n",
    "# Test\n",
    "print(complex_calculation(10000))"
   ]
  },
  {
   "cell_type": "markdown",
   "id": "ece7a306-0c06-4cf6-9014-65bf5437209b",
   "metadata": {},
   "source": [
    "## Assignment 7: Higher-Order Function for Filtering and Mapping"
   ]
  },
  {
   "cell_type": "code",
   "execution_count": 33,
   "id": "201833a0-22ac-4a95-99ab-64b809375e37",
   "metadata": {},
   "outputs": [
    {
     "name": "stdout",
     "output_type": "stream",
     "text": [
      "[4, 16]\n",
      "[4, 5, 6]\n"
     ]
    }
   ],
   "source": [
    "# This our higher-order function, will take in a filter function and a map function, alongside\n",
    "# a list of integers.\n",
    "# This our higher-filter function will first of all start filtering out values, b4 now applying\n",
    "# the map function to the filtered integers.\n",
    "def filter_and_map(filter_func, map_func, lst):\n",
    "    return [map_func(x) for x in lst if filter_func(x)] # As the filtering must be executed first.\n",
    "\n",
    "# Test\n",
    "print(filter_and_map(lambda x: x%2 ==0, lambda x: x**2, [1, 2, 3, 4, 5]))\n",
    "print(filter_and_map(lambda x: x>2, lambda x: x+1, [1, 2, 3, 4, 5]))"
   ]
  },
  {
   "cell_type": "markdown",
   "id": "fb43b81e-fd46-4219-be4b-749326bf84c4",
   "metadata": {},
   "source": [
    "## Assignment 8: Function Composition"
   ]
  },
  {
   "cell_type": "code",
   "execution_count": 1,
   "id": "8eee9ad2-c86c-4e13-9c1d-1bf37ee36387",
   "metadata": {},
   "outputs": [
    {
     "name": "stdout",
     "output_type": "stream",
     "text": [
      "7\n",
      "11\n"
     ]
    }
   ],
   "source": [
    "# Here, we'll define a define a function composed of f and f, such that f(g(x)) is the \n",
    "# result.\n",
    "def compose(f,g):\n",
    "    return lambda x: f(g(x)) # Meaning g(x) is been calculated first, b4 the f(x) outside\n",
    "\n",
    "# Test\n",
    "f = lambda x: x+1\n",
    "g = lambda x: x*2\n",
    "h = compose(f,g)\n",
    "print(h(3))\n",
    "print(h(5))"
   ]
  },
  {
   "cell_type": "markdown",
   "id": "b744f55a-968f-4948-8a06-29c6dc58e2ff",
   "metadata": {},
   "source": [
    "## Assignment 9: Partial Function Application"
   ]
  },
  {
   "cell_type": "code",
   "execution_count": 4,
   "id": "c1790cdb-e626-4cc8-9d5d-85a54f6b426d",
   "metadata": {},
   "outputs": [
    {
     "name": "stdout",
     "output_type": "stream",
     "text": [
      "6\n",
      "10\n"
     ]
    }
   ],
   "source": [
    "# Here we'll use the 'partial' function tool to create 'a new function', that simply\n",
    "# multiplies it's input by 2\n",
    "from functools import partial\n",
    "\n",
    "multiply_by_2 = partial(lambda x,y: x*y, 2) # In this context of partial function, y is not been used, which is why the '2' now comes into play.\n",
    "\n",
    "# Test\n",
    "print(multiply_by_2(3))\n",
    "print(multiply_by_2(5))"
   ]
  },
  {
   "cell_type": "markdown",
   "id": "186f3a9a-27a7-44db-9a98-462f3bff5fee",
   "metadata": {},
   "source": [
    "## Assignment 10: Function with Error Handling"
   ]
  },
  {
   "cell_type": "code",
   "execution_count": 4,
   "id": "04108889-6bbe-44af-9998-c5682995bd9f",
   "metadata": {},
   "outputs": [
    {
     "name": "stdout",
     "output_type": "stream",
     "text": [
      "3.0\n",
      "None\n",
      "0.0\n"
     ]
    }
   ],
   "source": [
    "# Here, we'll define a function that takes in a lists of integers, returning their\n",
    "# average. The function should be able to handle errors (such as an empty list),\n",
    "# through simply returning 'None'.\n",
    "def average(lst):\n",
    "    try:\n",
    "        return sum(lst) / len(lst)\n",
    "    except ZeroDivisionError:\n",
    "        return None\n",
    "\n",
    "# Test\n",
    "print(average([1,2,3,4,5]))\n",
    "print(average([]))\n",
    "print(average([0]))"
   ]
  },
  {
   "cell_type": "markdown",
   "id": "324c41a2-15fb-4689-8d16-7d628da11a09",
   "metadata": {},
   "source": [
    "## Assignment 11: Function with Generators"
   ]
  },
  {
   "cell_type": "code",
   "execution_count": 7,
   "id": "1d501490-8a2f-4d5f-b24b-2a69e05a2fc7",
   "metadata": {},
   "outputs": [
    {
     "name": "stdout",
     "output_type": "stream",
     "text": [
      "0\n",
      "1\n",
      "1\n",
      "2\n",
      "3\n",
      "5\n",
      "8\n",
      "13\n",
      "21\n",
      "34\n"
     ]
    }
   ],
   "source": [
    "# Here, we'll define a function that generates an infinite sequence of Fibonacci\n",
    "# numbers. We'll print out here soley the first 10 numbers of the sequence.\n",
    "def fibonacci_generator():\n",
    "    a, b = 0, 1\n",
    "    while True:\n",
    "        yield a # Yielding the current value a\n",
    "        a, b = b, a+b # Updating a and b, for the next iteration\n",
    "\n",
    "# Test\n",
    "fib_gen = fibonacci_generator()\n",
    "for _ in range(10):\n",
    "    print(next(fib_gen)) # The 'next() function' here, is what asks the fib_gen generator to provide the next value"
   ]
  },
  {
   "cell_type": "markdown",
   "id": "e6af1f26-4c6d-411e-9c79-8833d4acd9e2",
   "metadata": {},
   "source": [
    "## Assignment 12: Currying"
   ]
  },
  {
   "cell_type": "code",
   "execution_count": 10,
   "id": "6021e002-3710-4266-b863-29aa9f767357",
   "metadata": {},
   "outputs": [
    {
     "name": "stdout",
     "output_type": "stream",
     "text": [
      "24\n",
      "30\n"
     ]
    }
   ],
   "source": [
    "# We'll define a curried function, which takes in three arguments(can even add more, if we want), one at a time.\n",
    "# We'll return the overall product of these three arguments.\n",
    "def curry_product(x):\n",
    "    def inner1(y):\n",
    "        def inner2(z):\n",
    "            return x*y*z\n",
    "        return inner2\n",
    "    return inner1\n",
    "\n",
    "# Test\n",
    "print(curry_product(2)(3)(4))\n",
    "print(curry_product(1)(5)(6))"
   ]
  },
  {
   "cell_type": "markdown",
   "id": "bebe4ae1-c7ed-412e-a2a6-672a4e473226",
   "metadata": {},
   "source": [
    "## Assignment 13: Function with Context Manager"
   ]
  },
  {
   "cell_type": "code",
   "execution_count": 17,
   "id": "706d51cf-768e-44fa-a7ae-96842b7d2e9d",
   "metadata": {},
   "outputs": [],
   "source": [
    "# Here, we'll define a function that uses a context manager(code to be executed only\n",
    "# under certain conditions) to 'write' a list of integers to a file. Our function \n",
    "# should be able to handle errors, during the file operations.\n",
    "def write_to_file(lst, filename):\n",
    "    try:\n",
    "        with open(filename, 'w') as f:\n",
    "            for num in lst:\n",
    "                f.write(f\"{num}\\n\")\n",
    "    except IOError as e:\n",
    "        print(f\"An error occurred: {e}\")\n",
    "\n",
    "# Test\n",
    "write_to_file([1,2,3,4,5], 'output.txt')"
   ]
  },
  {
   "cell_type": "markdown",
   "id": "71e14340-6370-407f-91f5-c0ca4f628056",
   "metadata": {},
   "source": [
    "# Assignment 14: Function with Multiple Return Types"
   ]
  },
  {
   "cell_type": "code",
   "execution_count": 2,
   "id": "7c895b9c-8486-4846-bace-4ae9106ac296",
   "metadata": {},
   "outputs": [
    {
     "name": "stdout",
     "output_type": "stream",
     "text": [
      "([1, 3], ['a', 'b', 'c'], [2.5, 4.0])\n"
     ]
    }
   ],
   "source": [
    "# The list we'll define within the function created here, contains a mixture of \n",
    "# integers, strings and floats.\n",
    "# We'll 'return' 'three lists', each containing elements of the same data type.\n",
    "def seperate_types(lst):\n",
    "    ints, strs, flts = [], [], []\n",
    "    for item in lst:\n",
    "        if isinstance(item,int):\n",
    "            ints.append(item)\n",
    "        elif isinstance(item,str):\n",
    "            strs.append(item)\n",
    "        elif isinstance(item,float):\n",
    "            flts.append(item)\n",
    "    return ints, strs, flts\n",
    "\n",
    "# Test\n",
    "print(seperate_types([1, 'a', 2.5, 3, 'b', 4.0, 'c']))"
   ]
  },
  {
   "cell_type": "markdown",
   "id": "5ac90781-472b-47c3-a2e2-211992ec93ab",
   "metadata": {},
   "source": [
    "# Assignment 15: Function with State"
   ]
  },
  {
   "cell_type": "code",
   "execution_count": 24,
   "id": "f731c4f4-564e-4b1b-ba60-e232a7ab61d8",
   "metadata": {},
   "outputs": [
    {
     "name": "stdout",
     "output_type": "stream",
     "text": [
      "1\n",
      "2\n",
      "3\n",
      "4\n"
     ]
    }
   ],
   "source": [
    "# We'll define a function here that maintains state(i.e, retains info and not \n",
    "# starting afresh) b/w calls, using a 'mutable default argument'.\n",
    "# The function should retain how many times, it was been called in total.\n",
    "def call_counter(counter={'count': 0}): # With our 'mutable default argument' within\n",
    "    counter['count'] += 1\n",
    "    return counter['count']\n",
    "\n",
    "# Test\n",
    "print(call_counter())\n",
    "print(call_counter())\n",
    "print(call_counter())\n",
    "print(call_counter())"
   ]
  },
  {
   "cell_type": "code",
   "execution_count": null,
   "id": "2f604502-cb46-42f3-bd75-6626069f3878",
   "metadata": {},
   "outputs": [],
   "source": []
  }
 ],
 "metadata": {
  "kernelspec": {
   "display_name": "Python 3 (ipykernel)",
   "language": "python",
   "name": "python3"
  },
  "language_info": {
   "codemirror_mode": {
    "name": "ipython",
    "version": 3
   },
   "file_extension": ".py",
   "mimetype": "text/x-python",
   "name": "python",
   "nbconvert_exporter": "python",
   "pygments_lexer": "ipython3",
   "version": "3.12.4"
  }
 },
 "nbformat": 4,
 "nbformat_minor": 5
}
