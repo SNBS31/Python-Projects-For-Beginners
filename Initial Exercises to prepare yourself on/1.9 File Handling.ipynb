{
 "cells": [
  {
   "cell_type": "code",
   "execution_count": 2,
   "id": "4f998c18-e07f-4580-b98d-73c09f90c1a6",
   "metadata": {},
   "outputs": [],
   "source": [
    "# We'll be performing here various file operations, with the use of Python.\n",
    "# We'll be playing with both text and binary files.\n",
    "# We'll learn how to create files, how to write within such files, how to read the \n",
    "# content in such files etc."
   ]
  },
  {
   "cell_type": "code",
   "execution_count": 6,
   "id": "1c7e6946-5bcf-4744-802c-2d1298964fb5",
   "metadata": {},
   "outputs": [
    {
     "name": "stdout",
     "output_type": "stream",
     "text": [
      "I'm Mosco\n",
      "Mosco Billion\n",
      "OnGod\n",
      "I pray for the strength and courage, to act with wisdom.\n",
      "As Solomon was able to do.\n"
     ]
    }
   ],
   "source": [
    "### Reading a whole file\n",
    "# We use the 'with open()' method, for this\n",
    "with open('example.txt', 'r') as file: # As the 'r' parameter here means 'read', plus\n",
    "                                       # creating the object of file.\n",
    "    #for line in file # Meaning how many lines will be in the file we just created,\n",
    "                     # we'll keep on reading it. What we'll instead do to replace this,\n",
    "                      # is as shown below.\n",
    "    content = file.read()\n",
    "    print(content)\n",
    "\n",
    "# All of the above code when ran will usually give one an error, which is common\n",
    "# whenever we're trying to read. It's after we create a file within this same path\n",
    "# and write within that file that the block of code will execute what we want."
   ]
  },
  {
   "cell_type": "code",
   "execution_count": null,
   "id": "bc03107a-81fd-41a0-b79f-1fa9c912c480",
   "metadata": {},
   "outputs": [],
   "source": [
    "# Note that this our was been opened but in the 'read mode'. Hence, we'll not be\n",
    "# able to write."
   ]
  },
  {
   "cell_type": "code",
   "execution_count": 8,
   "id": "6eadbc35-01df-4dcd-81e0-5e1f5db43fcb",
   "metadata": {},
   "outputs": [
    {
     "name": "stdout",
     "output_type": "stream",
     "text": [
      "I'm Mosco\n",
      "\n",
      "Mosco Billion\n",
      "\n",
      "OnGod\n",
      "\n",
      "I pray for the strength and courage, to act with wisdom.\n",
      "\n",
      "As Solomon was able to do.\n"
     ]
    }
   ],
   "source": [
    "## Read a file but line by line, meaning it will take the new lines as characters\n",
    "## as well. This is what happens when we use 'line', and not 'line.strip()'.\n",
    "with open('example.txt', 'r') as file:\n",
    "    for line in file:\n",
    "        print(line)"
   ]
  },
  {
   "cell_type": "code",
   "execution_count": 10,
   "id": "f8a4f5fa-dbd7-4702-863e-aefc660fd74f",
   "metadata": {},
   "outputs": [
    {
     "name": "stdout",
     "output_type": "stream",
     "text": [
      "I'm Mosco\n",
      "Mosco Billion\n",
      "OnGod\n",
      "I pray for the strength and courage, to act with wisdom.\n",
      "As Solomon was able to do.\n"
     ]
    }
   ],
   "source": [
    "with open('example.txt', 'r') as file:\n",
    "    for line in file:\n",
    "        print(line.strip()) ## As '.strip()' removes now the newline character"
   ]
  },
  {
   "cell_type": "code",
   "execution_count": 1,
   "id": "26644a24-13ee-4db3-9de4-c172303d508c",
   "metadata": {},
   "outputs": [],
   "source": [
    "## Writing a file(Overwriting) i.e, replacing with something else.\n",
    "\n",
    "with open('example.txt', 'w') as file:\n",
    "    file.write('Hello World!\\n') # As 'file.write()' is what causes the overwriting\n",
    "    file.write(\"This is a new line.\")"
   ]
  },
  {
   "cell_type": "code",
   "execution_count": 7,
   "id": "68e8f223-a388-48bc-b462-2dab738c5705",
   "metadata": {},
   "outputs": [],
   "source": [
    "## Write a file, without overwriting(Meaning we're just adding without having to replace anything.)\n",
    "with open('example.txt', 'a') as file:\n",
    "    file.write(\"\\nAppend operation, taking place.\") # Meaning this will be written but on the next line\n",
    "     "
   ]
  },
  {
   "cell_type": "code",
   "execution_count": 9,
   "id": "e6bf8f69-ae20-4bcf-87fc-0dfc13f3028e",
   "metadata": {},
   "outputs": [],
   "source": [
    "with open('example.txt', 'a') as file:\n",
    "    file.write(\"Let's round up!\\n\")"
   ]
  },
  {
   "cell_type": "code",
   "execution_count": 11,
   "id": "c4aa9798-bc5c-401c-8882-7b60db9a3e93",
   "metadata": {},
   "outputs": [],
   "source": [
    "with open('example.txt', 'a') as file:\n",
    "    file.write(\"\\nAppend operation, taking place.\\n\") # Skips a line space here."
   ]
  },
  {
   "cell_type": "code",
   "execution_count": 17,
   "id": "3e37055a-da7c-4709-9e2c-f732521850db",
   "metadata": {},
   "outputs": [],
   "source": [
    "### Writing multiple lines/list of lines, to a file\n",
    "lines = ['First line \\n', 'Second line \\n', 'Third line\\n']\n",
    "with open('example.txt', 'a') as file:\n",
    "    file.writelines(lines)"
   ]
  },
  {
   "cell_type": "code",
   "execution_count": 19,
   "id": "43b7b733-a3ee-445f-a4a7-75d3b2f646d1",
   "metadata": {},
   "outputs": [],
   "source": [
    "### Binary Files(data processed directly, but by computer hardware)\n",
    "# Here, we're talking about bin files\n",
    "# In binary files we usually update 'bytes'.\n",
    "\n",
    "# Now writing a binary file\n",
    "data = b'\\x00\\x01\\x02\\x03\\x04'\n",
    "with open('example.bin', 'wb') as file: # i.e,in 'write byte' mode. This neither the usual read nor write mode.\n",
    "    file.write(data)"
   ]
  },
  {
   "cell_type": "code",
   "execution_count": 21,
   "id": "0167d855-1bd6-4718-9344-9a1b95547d65",
   "metadata": {},
   "outputs": [
    {
     "name": "stdout",
     "output_type": "stream",
     "text": [
      "b'\\x00\\x01\\x02\\x03\\x04'\n"
     ]
    }
   ],
   "source": [
    "with open('example.bin', 'rb') as file:\n",
    "    content = file.read()\n",
    "    print(content)"
   ]
  },
  {
   "cell_type": "code",
   "execution_count": 33,
   "id": "572c9456-7c92-4a5f-ae1b-6f76ee898174",
   "metadata": {},
   "outputs": [],
   "source": [
    "### Reading content from a source text file, then writing it to a destination text file.\n",
    "# Copying the text file\n",
    "with open('Sample.txt', 'r') as source_file:\n",
    "    content = source_file.read()\n",
    "\n",
    "with open('destination.txt', 'w') as destination_file: # Hence, the destination text file can be created here.\n",
    "    destination_file.write(content)"
   ]
  },
  {
   "cell_type": "code",
   "execution_count": 31,
   "id": "afff5aae-f040-406b-90a1-8bfeac147a13",
   "metadata": {},
   "outputs": [
    {
     "name": "stdout",
     "output_type": "stream",
     "text": [
      "Lines:7, Words:20, Characters:114\n"
     ]
    }
   ],
   "source": [
    "# Read a text file, and count the number of lines, words and characters.\n",
    "def count_text_file(file_path):\n",
    "    with open(file_path, 'r') as file:\n",
    "        lines = file.readlines()\n",
    "        line_count = len(lines)\n",
    "        word_count = sum(len(line.split()) for line in lines)\n",
    "        char_count = sum(len(line) for line in lines)\n",
    "    return line_count, word_count, char_count\n",
    "\n",
    "file_path = 'Sample.txt'\n",
    "lines, words, characters = count_text_file(file_path)\n",
    "print(f'Lines:{lines}, Words:{words}, Characters:{characters}')"
   ]
  },
  {
   "cell_type": "code",
   "execution_count": 43,
   "id": "ea4b9faf-54ae-4ad8-b5c9-dd313e2abdcf",
   "metadata": {},
   "outputs": [
    {
     "name": "stdout",
     "output_type": "stream",
     "text": [
      "Hello World\n",
      "This ia a new line\n",
      "\n"
     ]
    }
   ],
   "source": [
    "### Writing, and then reading a file.\n",
    "with open('output.txt', 'w+') as file: # This 'w+' mode is been used to open a file\n",
    "                                       # for both reading and writing. If the file doesn't\n",
    "                                       # exist, it will be created WHILE if it had \n",
    "                                       # already existed, it will be overwritten.\n",
    "    file.write(\"Hello World\\n\")\n",
    "    file.write(\"This ia a new line\\n\")\n",
    "    file.seek(0)\n",
    "    content = file.read() # You have to read the file first, b4 printing out the content in it.\n",
    "\n",
    "\n",
    "    # Now let's read the content of the file\n",
    "    print(content) \n",
    "# Nothing is been displayed below here but if you ckeck the file, the changes have been made.\n",
    "# For it to be displayed down here as well, we have to ensure that 'file.seek(0)'\n",
    "# brings our cursor to the first line as shown above."
   ]
  },
  {
   "cell_type": "code",
   "execution_count": 51,
   "id": "e51299e7-c889-40e2-bfc2-b902a4219e85",
   "metadata": {},
   "outputs": [
    {
     "name": "stdout",
     "output_type": "stream",
     "text": [
      "Directory 'package' created\n"
     ]
    }
   ],
   "source": [
    "# NOW Creating a new directory\n",
    "import os\n",
    "new_directory = \"package\"\n",
    "os.mkdir(new_directory)\n",
    "print(f\"Directory '{new_directory}' created\")"
   ]
  },
  {
   "cell_type": "code",
   "execution_count": 53,
   "id": "53ff4f83-9272-47e8-964f-c5ee8b761c03",
   "metadata": {},
   "outputs": [
    {
     "name": "stdout",
     "output_type": "stream",
     "text": [
      "['.ipynb_checkpoints', '1. Conditional Statements.ipynb', '1.1. Loops In Python.ipynb', '1.2. Real World Usecases Of Lists.ipynb', '1.3 Getting Started With Functions.ipynb', '1.4 More Coding Examples With Functions.ipynb', '1.5 Lambda Function in Python.ipynb', '1.6 Map Function in Python.ipynb', '1.7 Filter Function in Python.ipynb', '1.8 More Advanced Functions Coding Examples.ipynb', '1.9 File Handling.ipynb', 'destination.txt', 'example.bin', 'example.txt', 'output.txt', 'package', 'Sample.txt', 'Untitled.ipynb']\n"
     ]
    }
   ],
   "source": [
    "## Listing files and directories\n",
    "items = os.listdir('.')\n",
    "print(items) # Displays all the files and folders, inside this directory."
   ]
  },
  {
   "cell_type": "code",
   "execution_count": 55,
   "id": "129507e9-c195-44b0-aabe-decf9b06ace7",
   "metadata": {},
   "outputs": [
    {
     "name": "stdout",
     "output_type": "stream",
     "text": [
      "folder\\file.txt\n"
     ]
    }
   ],
   "source": [
    "## Joining Paths\n",
    "# This is the most important feature, of using the 'os' package\n",
    "dir_name='folder'\n",
    "file_name='file.txt'\n",
    "full_path=os.path.join(dir_name,file_name)\n",
    "print(full_path)"
   ]
  },
  {
   "cell_type": "code",
   "execution_count": 57,
   "id": "07cea296-4c37-4257-9cfa-4e86e7dcc587",
   "metadata": {},
   "outputs": [
    {
     "name": "stdout",
     "output_type": "stream",
     "text": [
      "C:\\Users\\MOSCO\\Udacity\\ML_Bootcamp\\Python\\ipykernel, for notebooks\\folder\\file.txt\n"
     ]
    }
   ],
   "source": [
    "# Now but to get the current working directory this time(i.e 'cwd),\n",
    "full_path=os.path.join(os.getcwd(),dir_name,file_name)\n",
    "print(full_path)"
   ]
  },
  {
   "cell_type": "code",
   "execution_count": 59,
   "id": "6a3507e5-57e6-4456-8993-444f7df61132",
   "metadata": {},
   "outputs": [
    {
     "name": "stdout",
     "output_type": "stream",
     "text": [
      "The path 'example1.txt' doesn't exist\n"
     ]
    }
   ],
   "source": [
    "path='example1.txt'\n",
    "if os.path.exists(path):\n",
    "    print(f\"The path '{path}' exists\")\n",
    "else:\n",
    "    print(f\"The path '{path}' doesn't exist\")"
   ]
  },
  {
   "cell_type": "code",
   "execution_count": 61,
   "id": "c01dd338-0bc8-4572-8437-aa1d8f0aaffe",
   "metadata": {},
   "outputs": [
    {
     "name": "stdout",
     "output_type": "stream",
     "text": [
      "The path 'example.txt' is a file\n"
     ]
    }
   ],
   "source": [
    "# Checking if a path is a file or directory\n",
    "import os\n",
    "\n",
    "path = 'example.txt'\n",
    "if os.path.isfile(path):\n",
    "    print(f\"The path '{path}' is a file\")\n",
    "elif os.path.isdir(path):\n",
    "    print(f\"The path '{path}' is a directory\")\n",
    "else:\n",
    "    print(f\"The path '{path}' is neither a file nor a directory\")"
   ]
  },
  {
   "cell_type": "code",
   "execution_count": 63,
   "id": "1d1ef22b-a2bc-41b2-9346-7771bb815aab",
   "metadata": {},
   "outputs": [
    {
     "name": "stdout",
     "output_type": "stream",
     "text": [
      "C:\\Users\\MOSCO\\Udacity\\ML_Bootcamp\\Python\\ipykernel, for notebooks\\example.txt\n"
     ]
    }
   ],
   "source": [
    "# Getting the absolute path(i.e, the complete-unambiguous location of a file or directory, within a file system)\n",
    "relative_path = 'example.txt'\n",
    "absolute_path = os.path.abspath(relative_path)\n",
    "print(absolute_path) # Same as getting the current working directory."
   ]
  },
  {
   "cell_type": "code",
   "execution_count": null,
   "id": "faedc47a-d672-4f16-b267-dc942dc133f6",
   "metadata": {},
   "outputs": [],
   "source": []
  }
 ],
 "metadata": {
  "kernelspec": {
   "display_name": "Python 3 (ipykernel)",
   "language": "python",
   "name": "python3"
  },
  "language_info": {
   "codemirror_mode": {
    "name": "ipython",
    "version": 3
   },
   "file_extension": ".py",
   "mimetype": "text/x-python",
   "name": "python",
   "nbconvert_exporter": "python",
   "pygments_lexer": "ipython3",
   "version": "3.12.4"
  }
 },
 "nbformat": 4,
 "nbformat_minor": 5
}
