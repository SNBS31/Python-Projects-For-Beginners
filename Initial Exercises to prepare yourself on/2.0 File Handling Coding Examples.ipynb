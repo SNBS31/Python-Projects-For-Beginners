{
 "cells": [
  {
   "cell_type": "markdown",
   "id": "434139e1-0913-4fbd-9ec4-5d65ff117c14",
   "metadata": {},
   "source": [
    "## Assignment 1: Reading a File"
   ]
  },
  {
   "cell_type": "code",
   "execution_count": 3,
   "id": "fc172e08-3865-40be-baa3-88bfa555b488",
   "metadata": {},
   "outputs": [
    {
     "name": "stdout",
     "output_type": "stream",
     "text": [
      "Hello Mosco.\n",
      "How you doing??\n",
      "You are fine right?\n",
      "Mosco! Mosco!\n",
      "Family First.\n",
      "Learn From the best.\n",
      "Lead by example.\n"
     ]
    }
   ],
   "source": [
    "def read_file(filename):\n",
    "    with open(filename, 'r') as file:\n",
    "        for line in file:\n",
    "            print(line.strip())\n",
    "\n",
    "# Test\n",
    "read_file('Sample.txt')"
   ]
  },
  {
   "cell_type": "markdown",
   "id": "3957cb64-2851-4edd-9ef1-6eada7cdbdbe",
   "metadata": {},
   "source": [
    "## Assignment 2: Writing to a file"
   ]
  },
  {
   "cell_type": "code",
   "execution_count": 8,
   "id": "02e5801b-8bf2-48da-901b-46cdac1e1b7d",
   "metadata": {},
   "outputs": [],
   "source": [
    "# In the course of writing, each string will be on a new line.\n",
    "def write_file(lines, filename):\n",
    "    with open(filename, 'w') as file:\n",
    "        for line in lines:\n",
    "            file.write(line + '\\n')\n",
    "\n",
    "# Test\n",
    "write_file(['How', 'You'], 'Output.txt')"
   ]
  },
  {
   "cell_type": "markdown",
   "id": "b59421e4-4024-4481-ab17-155cb0c6af35",
   "metadata": {},
   "source": [
    "## Assignment 3: Copying a file"
   ]
  },
  {
   "cell_type": "code",
   "execution_count": 13,
   "id": "6a126168-d4d0-41db-852f-92418cb4ba71",
   "metadata": {},
   "outputs": [],
   "source": [
    "def copy_file(source, destination):\n",
    "    with open(source, 'r') as src:\n",
    "        with open(destination, 'w') as dest:\n",
    "            dest.write(src.read())\n",
    "\n",
    "# Test\n",
    "copy_file('output.txt', 'destination.txt')"
   ]
  },
  {
   "cell_type": "markdown",
   "id": "63045279-eeea-4262-9768-366ee15d609b",
   "metadata": {},
   "source": [
    "## Assignment 4: Appending to a file"
   ]
  },
  {
   "cell_type": "code",
   "execution_count": 3,
   "id": "c3c97af9-ef6c-4c1c-b115-438bd065e7f2",
   "metadata": {},
   "outputs": [],
   "source": [
    "# Our function here will append some string, to the end of a file named log.txt\n",
    "def append_to_file(text, filename):\n",
    "    with open(filename, 'a') as file:\n",
    "        file.write(text + '\\n')\n",
    "\n",
    "# Test\n",
    "append_to_file('This is a new log entry.', 'log.txt')"
   ]
  },
  {
   "cell_type": "markdown",
   "id": "cf784556-eb60-459d-bb94-40f8d0c852b0",
   "metadata": {},
   "source": [
    "## Assignment 5: Counting words, in a file"
   ]
  },
  {
   "cell_type": "code",
   "execution_count": 8,
   "id": "75859395-9fc3-4dd6-9304-48907e06352b",
   "metadata": {},
   "outputs": [
    {
     "name": "stdout",
     "output_type": "stream",
     "text": [
      "20\n"
     ]
    }
   ],
   "source": [
    "def count_words(filename):\n",
    "    with open(filename, 'r') as file:\n",
    "        text = file.read()\n",
    "        words = text.split()\n",
    "        return len(words)\n",
    "\n",
    "# Test\n",
    "print(count_words('Sample.txt'))"
   ]
  },
  {
   "cell_type": "markdown",
   "id": "c1135423-4e6f-420c-846d-7b26e048827f",
   "metadata": {},
   "source": [
    "## Assignment 6: Finding, and replacing text"
   ]
  },
  {
   "cell_type": "code",
   "execution_count": 13,
   "id": "92a995b1-8062-4b11-8458-9ca5afde784d",
   "metadata": {},
   "outputs": [],
   "source": [
    "# Here we'll write a function that 'finds' and 'replaces' all occurences of a given word,\n",
    "# with another word.\n",
    "def find_and_replace(filename, old_word, new_word):\n",
    "    with open(filename, 'r') as file:\n",
    "        text = file.read()\n",
    "    new_text = text.replace(old_word, new_word)    \n",
    "    with open(filename, 'w') as file:\n",
    "        file. write(new_text)\n",
    "\n",
    "# Test\n",
    "find_and_replace('Sample.txt', 'God', 'Jesus')"
   ]
  },
  {
   "cell_type": "markdown",
   "id": "3093ec98-f19d-48ad-bb53-ba8604772eae",
   "metadata": {},
   "source": [
    "## Assignment 7: Reading a file, but in reverse"
   ]
  },
  {
   "cell_type": "code",
   "execution_count": 16,
   "id": "47947fa0-888c-489d-ae6b-a5a3e265dc6c",
   "metadata": {},
   "outputs": [
    {
     "name": "stdout",
     "output_type": "stream",
     "text": [
      "On Jesus\n",
      "On Jesus\n",
      "Lead by example.\n",
      "Learn From the best.\n",
      "Family First.\n",
      "Mosco! Mosco!\n",
      "You are fine right?\n",
      "How you doing??\n",
      "Hello Mosco.\n",
      "On Jesus\n"
     ]
    }
   ],
   "source": [
    "# We'll print each line of our file, but in the reverse order.\n",
    "def read_reverse(filename):\n",
    "    with open(filename, 'r') as file:\n",
    "        lines = file.readlines()\n",
    "    for line in reversed(lines):\n",
    "        print(line.strip())\n",
    "\n",
    "# Test\n",
    "read_reverse('Sample.txt')"
   ]
  },
  {
   "cell_type": "markdown",
   "id": "b33ed330-9ea2-491d-b6c7-1744cc4b98a3",
   "metadata": {},
   "source": [
    "## Assignment 8: Counting lines, words and characters"
   ]
  },
  {
   "cell_type": "code",
   "execution_count": 19,
   "id": "c318f042-5260-4181-acfe-1842c32cf6d1",
   "metadata": {},
   "outputs": [
    {
     "name": "stdout",
     "output_type": "stream",
     "text": [
      "(10, 26, 142)\n"
     ]
    }
   ],
   "source": [
    "def count_lwc(filename):\n",
    "    with open(filename, 'r') as file:\n",
    "        lines = file.readlines()\n",
    "        words = sum(len(line.split()) for line in lines)\n",
    "        characters = sum(len(line) for line in lines)\n",
    "    return len(lines), words, characters\n",
    "\n",
    "# Test\n",
    "print(count_lwc('Sample.txt'))"
   ]
  },
  {
   "cell_type": "markdown",
   "id": "14bdb88b-0b25-46a4-b13e-40304f34efc3",
   "metadata": {},
   "source": [
    "## Assignment 9: Merging multiple files, into a single file"
   ]
  },
  {
   "cell_type": "code",
   "execution_count": 22,
   "id": "9bdda289-bb00-4089-a148-b9b28a6bceb2",
   "metadata": {},
   "outputs": [],
   "source": [
    "def merge_files(file_list, output_file):\n",
    "    with open(output_file, 'w') as the_outfile:\n",
    "        for fname in file_list:\n",
    "            with open(fname, 'r') as the_infile:\n",
    "                the_outfile.write(the_infile.read() + '\\n')\n",
    "\n",
    "# Test\n",
    "merge_files(['Sample.txt', 'output.txt', 'destination.txt'], 'merged.txt')"
   ]
  },
  {
   "cell_type": "markdown",
   "id": "496b2636-edba-4a8e-b7f8-61d851204c0b",
   "metadata": {},
   "source": [
    "## Assignment 10: Splitting a large file"
   ]
  },
  {
   "cell_type": "code",
   "execution_count": 49,
   "id": "3130d81d-f361-435f-9271-40dee371d512",
   "metadata": {},
   "outputs": [],
   "source": [
    "def split_file(filename, lines_per_file):\n",
    "    with open(filename, 'r', encoding=\"utf-8\") as file:\n",
    "        lines = file.readlines()\n",
    "    for i in range(0, len(lines), lines_per_file):\n",
    "        with open(f'{filename}_part{i//lines_per_file +1}.txt', 'w', encoding=\"utf-8\") as part_file:\n",
    "            part_file.writelines(lines[i:i + lines_per_file])\n",
    "\n",
    "# Test\n",
    "split_file('large.txt', 5) #  Avoid having non-ASCII characters, or else you'll get an error down here."
   ]
  },
  {
   "cell_type": "markdown",
   "id": "128533d7-f935-4432-9721-375f4336d850",
   "metadata": {},
   "source": [
    "## Assignment 11: Creating a log file"
   ]
  },
  {
   "cell_type": "code",
   "execution_count": 34,
   "id": "fafee1c8-4700-44a0-990b-c1080468c5c1",
   "metadata": {},
   "outputs": [],
   "source": [
    "# We'll create a file here that writes log messages, with timestamps.\n",
    "import datetime\n",
    "\n",
    "def log_message(message, filename='activity.log'):\n",
    "    timestamp =datetime.datetime.now().isoformat()\n",
    "    with open(filename, 'a') as file:\n",
    "        file.write(f'[{timestamp}] {message}\\n')\n",
    "\n",
    "# Test\n",
    "log_message('This is a log message.')"
   ]
  },
  {
   "cell_type": "markdown",
   "id": "a4cc6018-9e69-4de6-87dd-11ca7212cdec",
   "metadata": {},
   "source": [
    "## Assignment 12: Binary file operations"
   ]
  },
  {
   "cell_type": "code",
   "execution_count": 38,
   "id": "8e2f49e0-dc42-4d59-bb24-0922ec122b15",
   "metadata": {},
   "outputs": [],
   "source": [
    "# We'll write here a function that reads a binary file, and copies what it has read to\n",
    "# another binary file.\n",
    "def copy_binary_file(source, destination):\n",
    "    with open(source, 'rb') as src:\n",
    "        with open(destination, 'wb') as dest:\n",
    "            dest.write(src.read())\n",
    "\n",
    "# Test\n",
    "copy_binary_file('example.bin', 'examplified_copy.bin')"
   ]
  },
  {
   "cell_type": "markdown",
   "id": "6b2716c5-6b52-44c1-88d2-301d4be53073",
   "metadata": {},
   "source": [
    "## Assignment 13: CSV file operations"
   ]
  },
  {
   "cell_type": "code",
   "execution_count": 55,
   "id": "dbfd9501-b098-4489-ad74-d6a763475ac2",
   "metadata": {},
   "outputs": [
    {
     "name": "stdout",
     "output_type": "stream",
     "text": [
      "[{'Date': '2023-01-01', 'Product': 'Product3', 'Sales': '738.0', 'Region': 'West'}, {'Date': '2023-01-02', 'Product': 'Product2', 'Sales': '868.0', 'Region': 'North'}, {'Date': '2023-01-03', 'Product': 'Product2', 'Sales': '554.0', 'Region': 'West'}, {'Date': '2023-01-04', 'Product': 'Product1', 'Sales': '618.0', 'Region': 'South'}, {'Date': '2023-01-05', 'Product': 'Product3', 'Sales': '501.0', 'Region': 'East'}, {'Date': '2023-01-06', 'Product': 'Product1', 'Sales': '', 'Region': 'West'}, {'Date': '2023-01-07', 'Product': 'Product3', 'Sales': '339.0', 'Region': 'South'}, {'Date': '2023-01-08', 'Product': 'Product3', 'Sales': '280.0', 'Region': 'South'}, {'Date': '2023-01-09', 'Product': 'Product2', 'Sales': '806.0', 'Region': 'North'}, {'Date': '2023-01-10', 'Product': 'Product2', 'Sales': '816.0', 'Region': 'South'}, {'Date': '2023-01-11', 'Product': 'Product3', 'Sales': '469.0', 'Region': 'West'}, {'Date': '2023-01-12', 'Product': 'Product3', 'Sales': '', 'Region': 'East'}, {'Date': '2023-01-13', 'Product': 'Product3', 'Sales': '', 'Region': 'East'}, {'Date': '2023-01-14', 'Product': 'Product3', 'Sales': '676.0', 'Region': 'East'}, {'Date': '2023-01-15', 'Product': 'Product1', 'Sales': '183.0', 'Region': 'South'}, {'Date': '2023-01-16', 'Product': 'Product1', 'Sales': '424.0', 'Region': 'South'}, {'Date': '2023-01-17', 'Product': 'Product1', 'Sales': '', 'Region': 'South'}, {'Date': '2023-01-18', 'Product': 'Product1', 'Sales': '', 'Region': 'South'}, {'Date': '2023-01-19', 'Product': 'Product2', 'Sales': '124.0', 'Region': 'North'}, {'Date': '2023-01-20', 'Product': 'Product3', 'Sales': '732.0', 'Region': 'West'}, {'Date': '2023-01-21', 'Product': 'Product2', 'Sales': '', 'Region': 'West'}, {'Date': '2023-01-22', 'Product': 'Product3', 'Sales': '296.0', 'Region': 'West'}, {'Date': '2023-01-23', 'Product': 'Product2', 'Sales': '737.0', 'Region': 'West'}, {'Date': '2023-01-24', 'Product': 'Product3', 'Sales': '531.0', 'Region': 'East'}, {'Date': '2023-01-25', 'Product': 'Product2', 'Sales': '834.0', 'Region': 'North'}]\n"
     ]
    }
   ],
   "source": [
    "# I'll write a function that reads a csv file called 'sales1_data.csv', and print out it's\n",
    "# content as a list of dictionaries.\n",
    "import csv\n",
    "\n",
    "def read_csv_as_dicts(filename):\n",
    "    with open(filename, 'r') as file:\n",
    "        reader = csv.DictReader(file)\n",
    "        return list(reader)\n",
    "\n",
    "# Test\n",
    "print(read_csv_as_dicts('sales1_data.csv'))"
   ]
  },
  {
   "cell_type": "markdown",
   "id": "7ed8e312-58bd-4f40-b4db-53961ae3cacd",
   "metadata": {},
   "source": [
    "## Assignment 14: JSON file operations"
   ]
  },
  {
   "cell_type": "code",
   "execution_count": 62,
   "id": "6a773cc1-04ea-460f-ae56-f93863fff063",
   "metadata": {},
   "outputs": [
    {
     "name": "stdout",
     "output_type": "stream",
     "text": [
      "{'url': 'https://repo.anaconda.com/pkgs/main/win-64', 'etag': 'W/\"73638d9c2d5defa137885c7334cb9785\"', 'mod': 'Fri, 20 Sep 2024 19:55:44 GMT', 'cache_control': 'public, max-age=30', 'mtime_ns': 1727087496326435500, 'size': 51572198, 'refresh_ns': 1727087496338480400}\n"
     ]
    }
   ],
   "source": [
    "# We'll write a function here that reads the json file '59ba4880.info', and prints out\n",
    "# it's content as a dictionary.\n",
    "import json\n",
    "\n",
    "def read_json(filename):\n",
    "    with open(filename, 'r') as file:\n",
    "        data = json.load(file)\n",
    "        return data\n",
    "\n",
    "# Test\n",
    "print(read_json('59ba4880.info.json'))"
   ]
  },
  {
   "cell_type": "markdown",
   "id": "4beed739-7a71-41b5-aebf-eb9fa2448f09",
   "metadata": {},
   "source": [
    "## Assignment 15: File permission handling"
   ]
  },
  {
   "cell_type": "code",
   "execution_count": 65,
   "id": "e07034d7-c49e-4af2-acb5-719a24f2fd0e",
   "metadata": {},
   "outputs": [
    {
     "name": "stdout",
     "output_type": "stream",
     "text": [
      "mopao237ayoe\n"
     ]
    }
   ],
   "source": [
    "# 'protected.txt' will be the file we're restricting, as we'll code it to gracefully \n",
    "# print out an error message when trying to be accessed by an intruder.\n",
    "def read_protected_file(filename):\n",
    "    try:\n",
    "        with open(filename, 'r') as file:\n",
    "            print(file.read())\n",
    "    except PermissionError as e:\n",
    "        print(f\"Permission error: {e}\")\n",
    "\n",
    "# Test\n",
    "read_protected_file('protected.txt')"
   ]
  },
  {
   "cell_type": "code",
   "execution_count": null,
   "id": "ffdb624a-8fc6-43c8-a3f7-1b496dcceebf",
   "metadata": {},
   "outputs": [],
   "source": []
  }
 ],
 "metadata": {
  "kernelspec": {
   "display_name": "Python 3 (ipykernel)",
   "language": "python",
   "name": "python3"
  },
  "language_info": {
   "codemirror_mode": {
    "name": "ipython",
    "version": 3
   },
   "file_extension": ".py",
   "mimetype": "text/x-python",
   "name": "python",
   "nbconvert_exporter": "python",
   "pygments_lexer": "ipython3",
   "version": "3.12.4"
  }
 },
 "nbformat": 4,
 "nbformat_minor": 5
}
